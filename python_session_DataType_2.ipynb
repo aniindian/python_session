{
 "cells": [
  {
   "cell_type": "code",
   "execution_count": 1,
   "id": "504786b2-131d-4f29-9f5a-8e41e19a91f9",
   "metadata": {},
   "outputs": [
    {
     "data": {
      "text/plain": [
       "int"
      ]
     },
     "execution_count": 1,
     "metadata": {},
     "output_type": "execute_result"
    }
   ],
   "source": [
    "number = 100\n",
    "type(number)"
   ]
  },
  {
   "cell_type": "code",
   "execution_count": 3,
   "id": "73feae7f-2b78-4b72-9bbf-0b278e9c594d",
   "metadata": {},
   "outputs": [
    {
     "data": {
      "text/plain": [
       "5"
      ]
     },
     "execution_count": 3,
     "metadata": {},
     "output_type": "execute_result"
    }
   ],
   "source": [
    "0b101\n",
    "# Python output will come as decimal formate only"
   ]
  },
  {
   "cell_type": "code",
   "execution_count": 5,
   "id": "d0e6b9be-a4a9-4418-acce-8911326fa5ac",
   "metadata": {},
   "outputs": [
    {
     "data": {
      "text/plain": [
       "2748"
      ]
     },
     "execution_count": 5,
     "metadata": {},
     "output_type": "execute_result"
    }
   ],
   "source": [
    "0xabc"
   ]
  },
  {
   "cell_type": "code",
   "execution_count": 7,
   "id": "4eb6e761-0a94-484b-8b9f-1aa504ec388b",
   "metadata": {},
   "outputs": [
    {
     "data": {
      "text/plain": [
       "10000.0"
      ]
     },
     "execution_count": 7,
     "metadata": {},
     "output_type": "execute_result"
    }
   ],
   "source": [
    "10e3\n",
    "\n"
   ]
  },
  {
   "cell_type": "code",
   "execution_count": 9,
   "id": "c2f989a0-2284-4525-8abc-2ead65220b5a",
   "metadata": {},
   "outputs": [
    {
     "data": {
      "text/plain": [
       "10000.0"
      ]
     },
     "execution_count": 9,
     "metadata": {},
     "output_type": "execute_result"
    }
   ],
   "source": [
    "10E3"
   ]
  },
  {
   "cell_type": "code",
   "execution_count": 11,
   "id": "7fc6485e-0935-416a-a762-750f4c5f296b",
   "metadata": {},
   "outputs": [
    {
     "data": {
      "text/plain": [
       "10000.0"
      ]
     },
     "execution_count": 11,
     "metadata": {},
     "output_type": "execute_result"
    }
   ],
   "source": [
    "10e3"
   ]
  },
  {
   "cell_type": "code",
   "execution_count": 13,
   "id": "039aa80c-77d9-41e7-a02f-c3219a6aeaa7",
   "metadata": {},
   "outputs": [
    {
     "data": {
      "text/plain": [
       "10000000.0"
      ]
     },
     "execution_count": 13,
     "metadata": {},
     "output_type": "execute_result"
    }
   ],
   "source": [
    "1000e+4"
   ]
  },
  {
   "cell_type": "code",
   "execution_count": 15,
   "id": "3dfb1657-fd1c-4311-a88b-822504ac35b3",
   "metadata": {},
   "outputs": [
    {
     "data": {
      "text/plain": [
       "0.01"
      ]
     },
     "execution_count": 15,
     "metadata": {},
     "output_type": "execute_result"
    }
   ],
   "source": [
    "100e-4"
   ]
  },
  {
   "cell_type": "code",
   "execution_count": 21,
   "id": "04c878a3-7fce-4979-b31e-ab61e2bf283e",
   "metadata": {},
   "outputs": [
    {
     "data": {
      "text/plain": [
       "'Hello\\n            How are you'"
      ]
     },
     "execution_count": 21,
     "metadata": {},
     "output_type": "execute_result"
    }
   ],
   "source": [
    "# when ever you want to write multi lines use triple qoutes\n",
    "name = \"\"\"Hello\n",
    "            How are you\"\"\"\n",
    "name \n",
    "# doc string "
   ]
  },
  {
   "cell_type": "markdown",
   "id": "a5233561-553a-4408-b777-43f3e7e2623d",
   "metadata": {},
   "source": [
    "## Boolean"
   ]
  },
  {
   "cell_type": "code",
   "execution_count": 5,
   "id": "85ce216a-f7e1-4f79-9954-fdcbacd28ad4",
   "metadata": {},
   "outputs": [
    {
     "data": {
      "text/plain": [
       "bool"
      ]
     },
     "execution_count": 5,
     "metadata": {},
     "output_type": "execute_result"
    }
   ],
   "source": [
    "number = True\n",
    "type(number)"
   ]
  },
  {
   "cell_type": "markdown",
   "id": "b2376648-5ee5-41da-a911-5683204c655e",
   "metadata": {},
   "source": [
    "## Complex-Conjugate"
   ]
  },
  {
   "cell_type": "code",
   "execution_count": 11,
   "id": "b35dc4b8-2248-42c0-9e3a-88f503dddc7c",
   "metadata": {},
   "outputs": [
    {
     "data": {
      "text/plain": [
       "complex"
      ]
     },
     "execution_count": 11,
     "metadata": {},
     "output_type": "execute_result"
    }
   ],
   "source": [
    "number = 3+5j\n",
    "type(number)"
   ]
  },
  {
   "cell_type": "code",
   "execution_count": 13,
   "id": "a288923b-311c-4e37-9c9d-0a6db4124d1e",
   "metadata": {},
   "outputs": [
    {
     "data": {
      "text/plain": [
       "['__abs__',\n",
       " '__add__',\n",
       " '__bool__',\n",
       " '__class__',\n",
       " '__complex__',\n",
       " '__delattr__',\n",
       " '__dir__',\n",
       " '__doc__',\n",
       " '__eq__',\n",
       " '__format__',\n",
       " '__ge__',\n",
       " '__getattribute__',\n",
       " '__getnewargs__',\n",
       " '__getstate__',\n",
       " '__gt__',\n",
       " '__hash__',\n",
       " '__init__',\n",
       " '__init_subclass__',\n",
       " '__le__',\n",
       " '__lt__',\n",
       " '__mul__',\n",
       " '__ne__',\n",
       " '__neg__',\n",
       " '__new__',\n",
       " '__pos__',\n",
       " '__pow__',\n",
       " '__radd__',\n",
       " '__reduce__',\n",
       " '__reduce_ex__',\n",
       " '__repr__',\n",
       " '__rmul__',\n",
       " '__rpow__',\n",
       " '__rsub__',\n",
       " '__rtruediv__',\n",
       " '__setattr__',\n",
       " '__sizeof__',\n",
       " '__str__',\n",
       " '__sub__',\n",
       " '__subclasshook__',\n",
       " '__truediv__',\n",
       " 'conjugate',\n",
       " 'imag',\n",
       " 'real']"
      ]
     },
     "execution_count": 13,
     "metadata": {},
     "output_type": "execute_result"
    }
   ],
   "source": [
    "dir(number)"
   ]
  },
  {
   "cell_type": "code",
   "execution_count": 15,
   "id": "0b57dcd3-1439-49f3-b9f1-8f04a4451e76",
   "metadata": {},
   "outputs": [
    {
     "data": {
      "text/plain": [
       "3.0"
      ]
     },
     "execution_count": 15,
     "metadata": {},
     "output_type": "execute_result"
    }
   ],
   "source": [
    "number.real"
   ]
  },
  {
   "cell_type": "code",
   "execution_count": 19,
   "id": "f876ee3f-2b29-4f14-b020-56767a0f9121",
   "metadata": {},
   "outputs": [
    {
     "data": {
      "text/plain": [
       "5.0"
      ]
     },
     "execution_count": 19,
     "metadata": {},
     "output_type": "execute_result"
    }
   ],
   "source": [
    "number.imag"
   ]
  },
  {
   "cell_type": "code",
   "execution_count": 23,
   "id": "3f325dd7-8bd7-44af-9711-5938326b7a2f",
   "metadata": {},
   "outputs": [
    {
     "data": {
      "text/plain": [
       "(3+5j)"
      ]
     },
     "execution_count": 23,
     "metadata": {},
     "output_type": "execute_result"
    }
   ],
   "source": [
    "number1 = 3-5j\n",
    "number"
   ]
  },
  {
   "cell_type": "code",
   "execution_count": 25,
   "id": "cf0b0224-e8e9-4c78-9776-3ee5485984f0",
   "metadata": {},
   "outputs": [
    {
     "data": {
      "text/plain": [
       "3.0"
      ]
     },
     "execution_count": 25,
     "metadata": {},
     "output_type": "execute_result"
    }
   ],
   "source": [
    "number.real"
   ]
  },
  {
   "cell_type": "code",
   "execution_count": 27,
   "id": "d5a83b8c-c714-4267-a4bd-5e931ac23c9d",
   "metadata": {},
   "outputs": [
    {
     "data": {
      "text/plain": [
       "5.0"
      ]
     },
     "execution_count": 27,
     "metadata": {},
     "output_type": "execute_result"
    }
   ],
   "source": [
    "number.imag"
   ]
  },
  {
   "cell_type": "code",
   "execution_count": 31,
   "id": "4f305589-34ae-4004-a134-b0a10f5745c1",
   "metadata": {},
   "outputs": [
    {
     "data": {
      "text/plain": [
       "(3-5j)"
      ]
     },
     "execution_count": 31,
     "metadata": {},
     "output_type": "execute_result"
    }
   ],
   "source": [
    "number = 3-5j\n",
    "number"
   ]
  },
  {
   "cell_type": "code",
   "execution_count": 35,
   "id": "8cbbc431-7138-472e-ab0a-444a650da0a7",
   "metadata": {},
   "outputs": [
    {
     "data": {
      "text/plain": [
       "(3+5j)"
      ]
     },
     "execution_count": 35,
     "metadata": {},
     "output_type": "execute_result"
    }
   ],
   "source": [
    "number.conjugate()"
   ]
  },
  {
   "cell_type": "code",
   "execution_count": 37,
   "id": "4e260fef-bf31-410f-b4b6-eecd291d7ab0",
   "metadata": {},
   "outputs": [
    {
     "data": {
      "text/plain": [
       "0j"
      ]
     },
     "execution_count": 37,
     "metadata": {},
     "output_type": "execute_result"
    }
   ],
   "source": [
    "complex()"
   ]
  },
  {
   "cell_type": "markdown",
   "id": "9bb163f9-02f4-43c8-be52-4ad86bbf9b66",
   "metadata": {},
   "source": [
    "**DataType**"
   ]
  },
  {
   "cell_type": "code",
   "execution_count": null,
   "id": "c34d8bef-5ca8-4306-be27-a465bdf52c3d",
   "metadata": {},
   "outputs": [],
   "source": []
  },
  {
   "cell_type": "markdown",
   "id": "93bb3913-6551-4f48-a8a2-cdafcf7e346f",
   "metadata": {},
   "source": [
    "$try-except$"
   ]
  },
  {
   "cell_type": "code",
   "execution_count": 43,
   "id": "e1f3b39f-c2b9-44bf-84ce-c86f9587c4ee",
   "metadata": {},
   "outputs": [
    {
     "name": "stdout",
     "output_type": "stream",
     "text": [
      "0.3333333333333333\n"
     ]
    }
   ],
   "source": [
    "try:\n",
    "    number1 = 10\n",
    "    number2 = 30\n",
    "    sum = number1/number2\n",
    "    print(sum)\n",
    "except:\n",
    "    print(\"error found, please check you code!\")"
   ]
  },
  {
   "cell_type": "code",
   "execution_count": 47,
   "id": "e8e9777a-55d7-4cc0-8aa6-d1c969e6d6df",
   "metadata": {},
   "outputs": [
    {
     "name": "stdout",
     "output_type": "stream",
     "text": [
      "error found, please check you code!\n"
     ]
    }
   ],
   "source": [
    "try:\n",
    "    number1 = 10\n",
    "    number2 = 0  \n",
    "    sum = number1/number2  # here is error i am tring to 10 divide 0 (10/0) \n",
    "    print(sum)\n",
    "except:\n",
    "    print(\"error found, please check you code!\")"
   ]
  },
  {
   "cell_type": "code",
   "execution_count": 49,
   "id": "29c27f98-335d-41e5-9fa7-eecb207eef6a",
   "metadata": {},
   "outputs": [
    {
     "ename": "ZeroDivisionError",
     "evalue": "division by zero",
     "output_type": "error",
     "traceback": [
      "\u001b[1;31m---------------------------------------------------------------------------\u001b[0m",
      "\u001b[1;31mZeroDivisionError\u001b[0m                         Traceback (most recent call last)",
      "Cell \u001b[1;32mIn[49], line 1\u001b[0m\n\u001b[1;32m----> 1\u001b[0m \u001b[38;5;28mprint\u001b[39m(\u001b[38;5;241m10\u001b[39m\u001b[38;5;241m/\u001b[39m\u001b[38;5;241m0\u001b[39m)\n",
      "\u001b[1;31mZeroDivisionError\u001b[0m: division by zero"
     ]
    }
   ],
   "source": [
    "print(10/0)"
   ]
  },
  {
   "cell_type": "code",
   "execution_count": 53,
   "id": "cd59aaa6-8291-4e98-9a7a-166c8f46d6b6",
   "metadata": {},
   "outputs": [
    {
     "name": "stdout",
     "output_type": "stream",
     "text": [
      "division by zero\n"
     ]
    }
   ],
   "source": [
    "try:\n",
    "    number1 = 10\n",
    "    number2 = 0  \n",
    "    sum = number1/number2  # here is error i am tring to 10 divide 0 (10/0) \n",
    "    print(sum)\n",
    "except Exception as e:\n",
    "    print(e)"
   ]
  },
  {
   "cell_type": "code",
   "execution_count": 57,
   "id": "2517464d-4db8-4f2e-9500-72ab324af265",
   "metadata": {},
   "outputs": [
    {
     "name": "stdin",
     "output_type": "stream",
     "text": [
      "Enter a number which you want to square 25\n"
     ]
    },
    {
     "name": "stdout",
     "output_type": "stream",
     "text": [
      "Square of 25 is 625\n"
     ]
    }
   ],
   "source": [
    "try:\n",
    "    num = eval(input(\"Enter a number which you want to square\"))\n",
    "    square = num*num\n",
    "    print(\"Square of {} is {}\".format(num,square))\n",
    "except:\n",
    "    print(\"error found, check your code\")"
   ]
  },
  {
   "cell_type": "code",
   "execution_count": null,
   "id": "daf51909-e458-4602-aa6d-9d1600cf9a17",
   "metadata": {},
   "outputs": [],
   "source": []
  }
 ],
 "metadata": {
  "kernelspec": {
   "display_name": "Python 3 (ipykernel)",
   "language": "python",
   "name": "python3"
  },
  "language_info": {
   "codemirror_mode": {
    "name": "ipython",
    "version": 3
   },
   "file_extension": ".py",
   "mimetype": "text/x-python",
   "name": "python",
   "nbconvert_exporter": "python",
   "pygments_lexer": "ipython3",
   "version": "3.12.4"
  }
 },
 "nbformat": 4,
 "nbformat_minor": 5
}
