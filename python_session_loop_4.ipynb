{
 "cells": [
  {
   "cell_type": "markdown",
   "id": "a39de5ad-6478-4213-86ed-50083100f178",
   "metadata": {},
   "source": [
    "**Loop**`\n",
    "- for \n",
    "- while"
   ]
  },
  {
   "cell_type": "code",
   "execution_count": 6,
   "id": "f99fe1b0-38f1-4bf9-8e58-61c4e0038578",
   "metadata": {},
   "outputs": [
    {
     "name": "stdout",
     "output_type": "stream",
     "text": [
      "0\n",
      "1\n",
      "2\n",
      "3\n",
      "4\n",
      "5\n",
      "6\n",
      "7\n",
      "8\n",
      "9\n"
     ]
    }
   ],
   "source": [
    "# pattern-1\n",
    "# Syntax: for i in range()\n",
    "\n",
    "for i in range(10):                 # 0 1 2 3 4 5 6 7 8 9\n",
    "    print(i)"
   ]
  },
  {
   "cell_type": "code",
   "execution_count": 14,
   "id": "327c6936-f756-438d-8206-7a541e9d2ef4",
   "metadata": {},
   "outputs": [
    {
     "name": "stdout",
     "output_type": "stream",
     "text": [
      "0 1 2 3 4 5 6 7 8 9 "
     ]
    }
   ],
   "source": [
    "# used end=' ' for convert vertical into horizental\n",
    "\n",
    "for i in range(10):                 # 0 1 2 3 4 5 6 7 8 9\n",
    "    print(i,end=' ')"
   ]
  },
  {
   "cell_type": "code",
   "execution_count": 20,
   "id": "83b54910-2132-4e55-a359-81b0397d48ee",
   "metadata": {},
   "outputs": [
    {
     "name": "stdout",
     "output_type": "stream",
     "text": [
      "2 3 4 5 6 7 8 9 10 "
     ]
    }
   ],
   "source": [
    "# pattern-2\n",
    "# Syntax: for i in range(start,end)\n",
    "# dirction positive that mean's {start to stop-1}\n",
    "\n",
    "for i in range(2,11):             # 2 3 4 5 6 7 8 9 10\n",
    "    print(i,end=' ')"
   ]
  },
  {
   "cell_type": "code",
   "execution_count": 22,
   "id": "e1d11654-a7f7-497b-8baf-d01cff3d058b",
   "metadata": {},
   "outputs": [
    {
     "name": "stdout",
     "output_type": "stream",
     "text": [
      "2 4 6 8 10 "
     ]
    }
   ],
   "source": [
    "# patter-3\n",
    "# Syntax: for i in range(start,stop,step)\n",
    "# If step size is positive direction\n",
    "    # end = stop-1\n",
    "# If step size is negative direction\n",
    "    # end = stop+1\n",
    "\n",
    "for i in range(2,11,2):     # end=11-1 --> 2 4 6 8 10\n",
    "    print(i,end=' ')\n"
   ]
  },
  {
   "cell_type": "code",
   "execution_count": 26,
   "id": "592c0e5c-bc84-478c-b0ae-5ce9a615017e",
   "metadata": {},
   "outputs": [
    {
     "name": "stdout",
     "output_type": "stream",
     "text": [
      "2 0 -2 -4 -6 -8 -10 "
     ]
    }
   ],
   "source": [
    "# patter-3\n",
    "# Syntax: for i in range(start,stop,step)\n",
    "# If step size is negative direction\n",
    "    # end = stop+1\n",
    "\n",
    "# for i in range(-2,-11,-2):  # -2 -4 -6 -8 -10\n",
    "    # print(i,end=' ')\n",
    "\n",
    "for i in range(2,-11,-2):     # 2 0 -2 -4 -6 -8 -10\n",
    "    print(i,end=' ')"
   ]
  },
  {
   "cell_type": "code",
   "execution_count": 28,
   "id": "e718f64e-b96f-4c68-b734-e7a16fe47ce8",
   "metadata": {},
   "outputs": [
    {
     "name": "stdout",
     "output_type": "stream",
     "text": [
      "Hello\n",
      "Hello\n",
      "Hello\n"
     ]
    }
   ],
   "source": [
    "for i in range(3):\n",
    "    print(\"Hello\")"
   ]
  },
  {
   "cell_type": "code",
   "execution_count": 34,
   "id": "86ac0098-8a33-4ce8-a948-7cccbf73e982",
   "metadata": {},
   "outputs": [
    {
     "name": "stdout",
     "output_type": "stream",
     "text": [
      "A\n",
      "B\n",
      "A\n",
      "B\n",
      "A\n",
      "B\n",
      "C\n",
      "C\n",
      "C\n"
     ]
    }
   ],
   "source": [
    "# print\n",
    "# A\n",
    "# B\n",
    "# A\n",
    "# B\n",
    "# A\n",
    "# B\n",
    "# C\n",
    "# C\n",
    "# C\n",
    "\n",
    "for i in range(3):\n",
    "    print('A')\n",
    "    print('B')\n",
    "for i in range(3):\n",
    "    print('C')"
   ]
  },
  {
   "cell_type": "code",
   "execution_count": 39,
   "id": "4f2b2852-37be-48c8-ad1c-90cd603da50c",
   "metadata": {},
   "outputs": [
    {
     "name": "stdout",
     "output_type": "stream",
     "text": [
      "100\n",
      "121\n",
      "144\n",
      "169\n",
      "196\n",
      "225\n"
     ]
    }
   ],
   "source": [
    "\n",
    "for i in range(10,16):\n",
    "    print(i*i)"
   ]
  },
  {
   "cell_type": "code",
   "execution_count": 43,
   "id": "5b2532e4-ddd0-4f5b-ab03-97ce2317e482",
   "metadata": {},
   "outputs": [
    {
     "name": "stdin",
     "output_type": "stream",
     "text": [
      "Enter number 10\n",
      "Enter number 16\n"
     ]
    },
    {
     "name": "stdout",
     "output_type": "stream",
     "text": [
      "Square of 10 is 100\n",
      "Square of 11 is 121\n",
      "Square of 12 is 144\n",
      "Square of 13 is 169\n",
      "Square of 14 is 196\n",
      "Square of 15 is 225\n"
     ]
    }
   ],
   "source": [
    "num1 = eval(input(\"Enter number\"))\n",
    "num2 = eval(input(\"Enter number\"))\n",
    "for i in range(num1,num2):\n",
    "    print(\"Square of {} is {}\".format(i,i*i))"
   ]
  },
  {
   "cell_type": "code",
   "execution_count": 45,
   "id": "f06ee67b-9bd8-42d2-9987-df64982ca746",
   "metadata": {},
   "outputs": [
    {
     "name": "stdin",
     "output_type": "stream",
     "text": [
      "Enter number 10\n",
      "Enter number 16\n"
     ]
    },
    {
     "name": "stdout",
     "output_type": "stream",
     "text": [
      "Square of 10 is 100\n",
      "Square of 11 is 121\n",
      "Square of 12 is 144\n",
      "Square of 13 is 169\n",
      "Square of 14 is 196\n",
      "Square of 15 is 225\n"
     ]
    }
   ],
   "source": [
    "# function without argument\n",
    "def square():\n",
    "    num1 = eval(input(\"Enter number\"))\n",
    "    num2 = eval(input(\"Enter number\"))\n",
    "    for i in range(num1,num2):\n",
    "        print(\"Square of {} is {}\".format(i,i*i))\n",
    "square()"
   ]
  },
  {
   "cell_type": "code",
   "execution_count": 49,
   "id": "f9678508-bfd8-47fd-96f2-e6afaee0a724",
   "metadata": {},
   "outputs": [
    {
     "name": "stdout",
     "output_type": "stream",
     "text": [
      "Square of 10 is 100\n",
      "Square of 11 is 121\n",
      "Square of 12 is 144\n",
      "Square of 13 is 169\n",
      "Square of 14 is 196\n",
      "Square of 15 is 225\n"
     ]
    }
   ],
   "source": [
    "# function with argument\n",
    "def square(num1,num2):\n",
    "    for i in range(num1,num2):\n",
    "        print(\"Square of {} is {}\".format(i,i*i))\n",
    "square(10,16)"
   ]
  },
  {
   "cell_type": "code",
   "execution_count": 62,
   "id": "18cbf022-e794-46ec-93fc-5a7e76ae1f16",
   "metadata": {},
   "outputs": [
    {
     "name": "stdin",
     "output_type": "stream",
     "text": [
      "Enter number 10\n"
     ]
    },
    {
     "name": "stdout",
     "output_type": "stream",
     "text": [
      "Square of 10 is 100\n"
     ]
    },
    {
     "name": "stdin",
     "output_type": "stream",
     "text": [
      "Enter number 20\n"
     ]
    },
    {
     "name": "stdout",
     "output_type": "stream",
     "text": [
      "Square of 20 is 400\n"
     ]
    },
    {
     "name": "stdin",
     "output_type": "stream",
     "text": [
      "Enter number 30\n"
     ]
    },
    {
     "name": "stdout",
     "output_type": "stream",
     "text": [
      "Square of 30 is 900\n"
     ]
    },
    {
     "name": "stdin",
     "output_type": "stream",
     "text": [
      "Enter number 40\n"
     ]
    },
    {
     "name": "stdout",
     "output_type": "stream",
     "text": [
      "Square of 40 is 1600\n"
     ]
    },
    {
     "name": "stdin",
     "output_type": "stream",
     "text": [
      "Enter number 50\n"
     ]
    },
    {
     "name": "stdout",
     "output_type": "stream",
     "text": [
      "Square of 50 is 2500\n"
     ]
    }
   ],
   "source": [
    "for i in range(5):\n",
    "    num = eval(input(\"Enter number\"))\n",
    "    print(\"Square of {} is {}\".format(num,num*num))"
   ]
  },
  {
   "cell_type": "code",
   "execution_count": 66,
   "id": "ea316607-f935-46c4-8355-fa05aba3e8e5",
   "metadata": {},
   "outputs": [
    {
     "name": "stdout",
     "output_type": "stream",
     "text": [
      "Square of 3 is 9\n",
      "Square of 6 is 36\n",
      "Square of 4 is 16\n",
      "Square of 2 is 4\n",
      "Square of 3 is 9\n"
     ]
    }
   ],
   "source": [
    "import random\n",
    "for i in range(5):\n",
    "    num = random.randint(1,10)\n",
    "    print(\"Square of {} is {}\".format(num,num*num))"
   ]
  },
  {
   "cell_type": "code",
   "execution_count": 68,
   "id": "93481316-2c03-4e25-bda6-0f4061482ecd",
   "metadata": {},
   "outputs": [
    {
     "name": "stdout",
     "output_type": "stream",
     "text": [
      "10 is even number\n",
      "11 is odd number\n",
      "12 is even number\n",
      "13 is odd number\n",
      "14 is even number\n",
      "15 is odd number\n",
      "16 is even number\n",
      "17 is odd number\n",
      "18 is even number\n",
      "19 is odd number\n",
      "20 is even number\n",
      "21 is odd number\n",
      "22 is even number\n",
      "23 is odd number\n",
      "24 is even number\n",
      "25 is odd number\n",
      "26 is even number\n",
      "27 is odd number\n",
      "28 is even number\n",
      "29 is odd number\n",
      "30 is even number\n"
     ]
    }
   ],
   "source": [
    "for i in range(10,31):\n",
    "    if i%2==0:\n",
    "        print(\"{} is even number\".format(i))\n",
    "    else:\n",
    "        print(\"{} is odd number\".format(i))"
   ]
  },
  {
   "cell_type": "code",
   "execution_count": 74,
   "id": "f2e9fa8a-21ea-4a65-abdc-92beecc2e29c",
   "metadata": {},
   "outputs": [
    {
     "name": "stdout",
     "output_type": "stream",
     "text": [
      "17 is odd number\n",
      "17 is odd number\n",
      "16 is even number\n",
      "15 is odd number\n",
      "16 is even number\n"
     ]
    }
   ],
   "source": [
    "import random\n",
    "def random_number():   \n",
    "    for i in range(5):\n",
    "        num = random.randint(10,20)\n",
    "        if num%2==0:\n",
    "            print(\"{} is even number\".format(num))\n",
    "        else:\n",
    "            print(\"{} is odd number\".format(num))\n",
    "random_number()"
   ]
  },
  {
   "cell_type": "code",
   "execution_count": 82,
   "id": "c14ef640-d886-4d09-b676-d0d81e733c88",
   "metadata": {},
   "outputs": [
    {
     "name": "stdin",
     "output_type": "stream",
     "text": [
      "Enter number between 1 to 10 5\n"
     ]
    },
    {
     "name": "stdout",
     "output_type": "stream",
     "text": [
      "Lost\n",
      "The number chances left is 2\n"
     ]
    },
    {
     "name": "stdin",
     "output_type": "stream",
     "text": [
      "Enter number between 1 to 10 4\n"
     ]
    },
    {
     "name": "stdout",
     "output_type": "stream",
     "text": [
      "Lost\n",
      "The number chances left is 1\n"
     ]
    },
    {
     "name": "stdin",
     "output_type": "stream",
     "text": [
      "Enter number between 1 to 10 1\n"
     ]
    },
    {
     "name": "stdout",
     "output_type": "stream",
     "text": [
      "You won\n"
     ]
    }
   ],
   "source": [
    "import random\n",
    "rand_num = random.randint(1,10)\n",
    "for i in range(3):\n",
    "    user = eval(input(\"Enter number between 1 to 10\"))\n",
    "    if user==rand_num:\n",
    "        print(\"You won\")\n",
    "        break\n",
    "    else:\n",
    "        print(\"Lost\")\n",
    "        print(\"The number chances left is {}\".format(2-i))"
   ]
  },
  {
   "cell_type": "code",
   "execution_count": 90,
   "id": "c6a25844-3fc2-449c-b888-f90cbb3aafa6",
   "metadata": {},
   "outputs": [
    {
     "name": "stdin",
     "output_type": "stream",
     "text": [
      "Enter chance you want  5\n",
      "Enter number between 1 to 10 4\n"
     ]
    },
    {
     "name": "stdout",
     "output_type": "stream",
     "text": [
      "Lost\n",
      "The number chances left is 4\n",
      "--------------------------------------------------\n"
     ]
    },
    {
     "name": "stdin",
     "output_type": "stream",
     "text": [
      "Enter number between 1 to 10 5\n"
     ]
    },
    {
     "name": "stdout",
     "output_type": "stream",
     "text": [
      "Lost\n",
      "The number chances left is 3\n",
      "--------------------------------------------------\n"
     ]
    },
    {
     "name": "stdin",
     "output_type": "stream",
     "text": [
      "Enter number between 1 to 10 2\n"
     ]
    },
    {
     "name": "stdout",
     "output_type": "stream",
     "text": [
      "Lost\n",
      "The number chances left is 2\n",
      "--------------------------------------------------\n"
     ]
    },
    {
     "name": "stdin",
     "output_type": "stream",
     "text": [
      "Enter number between 1 to 10 8\n"
     ]
    },
    {
     "name": "stdout",
     "output_type": "stream",
     "text": [
      "Lost\n",
      "The number chances left is 1\n",
      "--------------------------------------------------\n"
     ]
    },
    {
     "name": "stdin",
     "output_type": "stream",
     "text": [
      "Enter number between 1 to 10 2\n"
     ]
    },
    {
     "name": "stdout",
     "output_type": "stream",
     "text": [
      "Lost\n",
      "you lost all your chances\n"
     ]
    }
   ],
   "source": [
    "import random\n",
    "rand_num = random.randint(1,10)\n",
    "chance = eval(input(\"Enter chance you want \"))\n",
    "for i in range(chance):\n",
    "    user = eval(input(\"Enter number between 1 to 10\"))\n",
    "    if user==rand_num:\n",
    "        print(\"You won\")\n",
    "        break\n",
    "    else:\n",
    "        print(\"Lost\")\n",
    "        count = chance -1-i\n",
    "        if count!=0:\n",
    "            print(\"The number chances left is {}\".format(chance-1-i))\n",
    "            print(\"--------------------------------------------------\")\n",
    "        else:\n",
    "            print(\"you lost all your chances\")\n",
    "        "
   ]
  },
  {
   "cell_type": "code",
   "execution_count": null,
   "id": "c36c7e3c-935e-4860-9870-0d158e677d61",
   "metadata": {},
   "outputs": [],
   "source": []
  },
  {
   "cell_type": "code",
   "execution_count": 96,
   "id": "df2a70e4-1776-4877-9fe8-bd0fb12f19ed",
   "metadata": {},
   "outputs": [
    {
     "name": "stdin",
     "output_type": "stream",
     "text": [
      "Enter chance you want  5\n",
      "Enter number between 1 to 10 1\n"
     ]
    },
    {
     "name": "stdout",
     "output_type": "stream",
     "text": [
      "Lost\n",
      "The number chances left is 2\n",
      "--------------------------------------------------\n"
     ]
    },
    {
     "name": "stdin",
     "output_type": "stream",
     "text": [
      "Enter number between 1 to 10 2\n"
     ]
    },
    {
     "name": "stdout",
     "output_type": "stream",
     "text": [
      "Lost\n",
      "The number chances left is 1\n",
      "--------------------------------------------------\n"
     ]
    },
    {
     "name": "stdin",
     "output_type": "stream",
     "text": [
      "Enter number between 1 to 10 3\n"
     ]
    },
    {
     "name": "stdout",
     "output_type": "stream",
     "text": [
      "Lost\n",
      "you lost all your chances\n"
     ]
    }
   ],
   "source": [
    "import random\n",
    "rand_num = random.randint(1,10)\n",
    "chance = eval(input(\"Enter chance you want \"))\n",
    "for i in range(chance):\n",
    "    user = eval(input(\"Enter number between 1 to 10\"))\n",
    "    if user==rand_num:\n",
    "        print(\"You won\")\n",
    "        break\n",
    "    else:\n",
    "        print(\"Lost\")\n",
    "        count = 3-1-i\n",
    "        if count!=0:\n",
    "            print(\"The number chances left is {}\".format(3-1-i))\n",
    "            print(\"--------------------------------------------------\")\n",
    "        else:\n",
    "            print(\"you lost all your chances\")\n",
    "            break"
   ]
  },
  {
   "cell_type": "code",
   "execution_count": 108,
   "id": "e187de78-d06d-48c7-b942-ca298ba3f630",
   "metadata": {},
   "outputs": [
    {
     "name": "stdin",
     "output_type": "stream",
     "text": [
      "Enter number 10\n"
     ]
    },
    {
     "name": "stdout",
     "output_type": "stream",
     "text": [
      "55\n"
     ]
    }
   ],
   "source": [
    "num = eval(input(\"Enter number\"))\n",
    "summ=0;\n",
    "if num==0:\n",
    "    print(0)\n",
    "else:\n",
    "    for i in range(1,num+1):\n",
    "        summ+=i\n",
    "print(summ)"
   ]
  },
  {
   "cell_type": "code",
   "execution_count": 110,
   "id": "5813f9a2-b584-40e1-8562-f0d833dc5cde",
   "metadata": {},
   "outputs": [
    {
     "name": "stdout",
     "output_type": "stream",
     "text": [
      "10 is even number\n",
      "11 is odd number\n",
      "12 is even number\n",
      "13 is odd number\n",
      "14 is even number\n",
      "15 is odd number\n",
      "16 is even number\n",
      "17 is odd number\n",
      "18 is even number\n",
      "19 is odd number\n",
      "20 is even number\n",
      "21 is odd number\n",
      "22 is even number\n",
      "23 is odd number\n",
      "24 is even number\n",
      "25 is odd number\n",
      "26 is even number\n",
      "27 is odd number\n",
      "28 is even number\n",
      "29 is odd number\n",
      "30 is even number\n",
      "even came 11 and odd came 9\n"
     ]
    }
   ],
   "source": [
    "# count even or odd\n",
    "even_count = 0\n",
    "for i in range(10,31):\n",
    "    if i%2==0:\n",
    "        even_count+=1;\n",
    "        print(\"{} is even number\".format(i))\n",
    "    else:\n",
    "        print(\"{} is odd number\".format(i))\n",
    "print(\"even came {} and odd came {}\".format(even_count,20-even_count))"
   ]
  },
  {
   "cell_type": "code",
   "execution_count": 122,
   "id": "95a40474-d4e1-49df-86ed-33a21326c52d",
   "metadata": {},
   "outputs": [
    {
     "name": "stdout",
     "output_type": "stream",
     "text": [
      "15 is odd number\n",
      "15 is odd number\n",
      "18 is even number\n",
      "12 is even number\n",
      "16 is even number\n",
      "even came 3 and odd came 2\n"
     ]
    }
   ],
   "source": [
    "import random\n",
    "even_count = 0; \n",
    "for i in range(5):\n",
    "        num = random.randint(10,20)\n",
    "        if num%2==0:\n",
    "            print(\"{} is even number\".format(num))\n",
    "            even_count+=1;\n",
    "        else:\n",
    "            print(\"{} is odd number\".format(num))\n",
    "            \n",
    "print(\"even came {} and odd came {}\".format(even_count,5-even_count))"
   ]
  },
  {
   "cell_type": "code",
   "execution_count": null,
   "id": "aa9e8180-758f-45b9-93d1-6f6f05cd8a0f",
   "metadata": {},
   "outputs": [],
   "source": []
  }
 ],
 "metadata": {
  "kernelspec": {
   "display_name": "Python 3 (ipykernel)",
   "language": "python",
   "name": "python3"
  },
  "language_info": {
   "codemirror_mode": {
    "name": "ipython",
    "version": 3
   },
   "file_extension": ".py",
   "mimetype": "text/x-python",
   "name": "python",
   "nbconvert_exporter": "python",
   "pygments_lexer": "ipython3",
   "version": "3.12.4"
  }
 },
 "nbformat": 4,
 "nbformat_minor": 5
}
