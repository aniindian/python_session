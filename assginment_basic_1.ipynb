{
 "cells": [
  {
   "cell_type": "code",
   "execution_count": 21,
   "id": "64beb30d-5aab-4f74-9480-65b64f3f4635",
   "metadata": {},
   "outputs": [
    {
     "name": "stdin",
     "output_type": "stream",
     "text": [
      "Enter basic salary: 100\n",
      "Enter DA salary 200\n",
      "Enter HR salary 300\n"
     ]
    },
    {
     "name": "stdout",
     "output_type": "stream",
     "text": [
      "total salary is: 600\n"
     ]
    }
   ],
   "source": [
    "basic_salary = eval(input(\"Enter basic salary:\"))\n",
    "da_salary = eval(input(\"Enter DA salary\"))\n",
    "hr_salary = eval(input(\"Enter HR salary\"))\n",
    "print_salary = basic_salary+da_salary+hr_salary\n",
    "print(\"total salary is:\",print_salary)"
   ]
  },
  {
   "cell_type": "code",
   "execution_count": null,
   "id": "f6b3f241-ab4b-4d86-bd86-7bee7b363e62",
   "metadata": {},
   "outputs": [],
   "source": [
    "# calculate tax pay "
   ]
  },
  {
   "cell_type": "code",
   "execution_count": 28,
   "id": "12cc91ef-3864-4957-b9fe-97b8fe7b43c1",
   "metadata": {},
   "outputs": [
    {
     "name": "stdin",
     "output_type": "stream",
     "text": [
      "Enter your salary: 100000\n",
      "How much percent you pay tax: 10\n"
     ]
    },
    {
     "name": "stdout",
     "output_type": "stream",
     "text": [
      "You need to pay: 10000.0\n"
     ]
    }
   ],
   "source": [
    "salary = eval(input(\"Enter your salary:\"))\n",
    "tax_charge = eval(input(\"How much percent you pay tax:\"))\n",
    "pay = (salary*tax_charge)/100\n",
    "print(\"You need to pay:\",pay)"
   ]
  },
  {
   "cell_type": "code",
   "execution_count": null,
   "id": "58c32a8f-1b64-4792-b2c3-d8f1ba8ae81f",
   "metadata": {},
   "outputs": [],
   "source": [
    " # Write a program the ask user get a randam no 1 to 100\n",
    "# perform the square of the number"
   ]
  },
  {
   "cell_type": "code",
   "execution_count": 42,
   "id": "7c748bf3-ca94-4dd4-a197-82a7a5484cb6",
   "metadata": {},
   "outputs": [
    {
     "name": "stdout",
     "output_type": "stream",
     "text": [
      "the square of 87 is 7569\n"
     ]
    }
   ],
   "source": [
    "import random \n",
    "number = random.randint(1,100)\n",
    "print(\"the square of {} is {}\".format(number,number*number))"
   ]
  },
  {
   "cell_type": "code",
   "execution_count": 32,
   "id": "4253b273-5757-48be-8165-c74d522d733d",
   "metadata": {},
   "outputs": [
    {
     "data": {
      "text/plain": [
       "['__doc__',\n",
       " '__loader__',\n",
       " '__name__',\n",
       " '__package__',\n",
       " '__spec__',\n",
       " 'acos',\n",
       " 'acosh',\n",
       " 'asin',\n",
       " 'asinh',\n",
       " 'atan',\n",
       " 'atan2',\n",
       " 'atanh',\n",
       " 'cbrt',\n",
       " 'ceil',\n",
       " 'comb',\n",
       " 'copysign',\n",
       " 'cos',\n",
       " 'cosh',\n",
       " 'degrees',\n",
       " 'dist',\n",
       " 'e',\n",
       " 'erf',\n",
       " 'erfc',\n",
       " 'exp',\n",
       " 'exp2',\n",
       " 'expm1',\n",
       " 'fabs',\n",
       " 'factorial',\n",
       " 'floor',\n",
       " 'fmod',\n",
       " 'frexp',\n",
       " 'fsum',\n",
       " 'gamma',\n",
       " 'gcd',\n",
       " 'hypot',\n",
       " 'inf',\n",
       " 'isclose',\n",
       " 'isfinite',\n",
       " 'isinf',\n",
       " 'isnan',\n",
       " 'isqrt',\n",
       " 'lcm',\n",
       " 'ldexp',\n",
       " 'lgamma',\n",
       " 'log',\n",
       " 'log10',\n",
       " 'log1p',\n",
       " 'log2',\n",
       " 'modf',\n",
       " 'nan',\n",
       " 'nextafter',\n",
       " 'perm',\n",
       " 'pi',\n",
       " 'pow',\n",
       " 'prod',\n",
       " 'radians',\n",
       " 'remainder',\n",
       " 'sin',\n",
       " 'sinh',\n",
       " 'sqrt',\n",
       " 'sumprod',\n",
       " 'tan',\n",
       " 'tanh',\n",
       " 'tau',\n",
       " 'trunc',\n",
       " 'ulp']"
      ]
     },
     "execution_count": 32,
     "metadata": {},
     "output_type": "execute_result"
    }
   ],
   "source": [
    "import math\n",
    "dir(math)"
   ]
  },
  {
   "cell_type": "code",
   "execution_count": 52,
   "id": "0deb8930-3ca5-416a-986e-3dc0d50e5b6b",
   "metadata": {},
   "outputs": [
    {
     "name": "stdin",
     "output_type": "stream",
     "text": [
      "Enter total distance: 100\n",
      "Enter rate per killometer 20\n"
     ]
    },
    {
     "name": "stdout",
     "output_type": "stream",
     "text": [
      "for 100 you pay Rs 2000\n"
     ]
    }
   ],
   "source": [
    "distance = eval(input(\"Enter total distance:\"))\n",
    "rate_per = eval(input(\"Enter rate per killometer\"))\n",
    "# print(\"for {} you pay Rs {}\".format(distance, distance*rate_per))\n",
    "# or \n",
    "charge = distance * rate_per\n",
    "print(\"for {} you pay Rs {}\".format(distance, charge)\n"
   ]
  },
  {
   "cell_type": "code",
   "execution_count": 56,
   "id": "6451451b-debc-4caf-882c-c3df03131176",
   "metadata": {},
   "outputs": [
    {
     "name": "stdin",
     "output_type": "stream",
     "text": [
      "User:Enter total bill in dollars: 100\n"
     ]
    },
    {
     "name": "stdout",
     "output_type": "stream",
     "text": [
      "Manager:The dollars are not accepted\n",
      "User:what will accept?\n",
      "Manager:only indian rupees\n"
     ]
    },
    {
     "name": "stdin",
     "output_type": "stream",
     "text": [
      "User:one dollar equal to: 80\n"
     ]
    },
    {
     "name": "stdout",
     "output_type": "stream",
     "text": [
      "total bill: 8000\n",
      "Thank you\n"
     ]
    }
   ],
   "source": [
    "import time\n",
    "bill = eval(input(\"User:Enter total bill in dollars:\"))\n",
    "time.sleep(2)\n",
    "print(\"Manager:The dollars are not accepted\")\n",
    "time.sleep(2)\n",
    "print(\"User:what will accept?\")\n",
    "time.sleep(2)\n",
    "print(\"Manager:only indian rupees\")\n",
    "time.sleep(2)\n",
    "converstion_rate = eval(input(\"User:one dollar equal to:\"))\n",
    "time.sleep(2)\n",
    "print(\"total bill:\",bill*converstion_rate)\n",
    "print(\"Thank you\")\n"
   ]
  },
  {
   "cell_type": "code",
   "execution_count": null,
   "id": "1585c1af-1046-4a78-bfad-5635fd9019a7",
   "metadata": {},
   "outputs": [],
   "source": []
  }
 ],
 "metadata": {
  "kernelspec": {
   "display_name": "Python 3 (ipykernel)",
   "language": "python",
   "name": "python3"
  },
  "language_info": {
   "codemirror_mode": {
    "name": "ipython",
    "version": 3
   },
   "file_extension": ".py",
   "mimetype": "text/x-python",
   "name": "python",
   "nbconvert_exporter": "python",
   "pygments_lexer": "ipython3",
   "version": "3.12.4"
  }
 },
 "nbformat": 4,
 "nbformat_minor": 5
}
