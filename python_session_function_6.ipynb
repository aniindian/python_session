{
 "cells": [
  {
   "cell_type": "markdown",
   "id": "f4341454-8f93-45d2-9dcc-103e9a4cfc6a",
   "metadata": {},
   "source": [
    "**Fuction**"
   ]
  },
  {
   "cell_type": "code",
   "execution_count": 2,
   "id": "4a6af955-aa37-42c0-b5c2-6b33e8dc5ba2",
   "metadata": {},
   "outputs": [
    {
     "name": "stdin",
     "output_type": "stream",
     "text": [
      "Enter number 10\n",
      "Enter number 20\n"
     ]
    },
    {
     "name": "stdout",
     "output_type": "stream",
     "text": [
      "30\n"
     ]
    }
   ],
   "source": [
    "def addition():\n",
    "    a = eval(input(\"Enter number\"))\n",
    "    b = eval(input(\"Enter number\"))\n",
    "    print(a+b)\n",
    "addition()"
   ]
  },
  {
   "cell_type": "code",
   "execution_count": 14,
   "id": "3d271264-6aad-4718-b891-0302b7af8566",
   "metadata": {},
   "outputs": [
    {
     "name": "stdin",
     "output_type": "stream",
     "text": [
      "Enter number 1 10\n",
      "Enter number 2 20\n",
      "Enter number 3 30\n"
     ]
    },
    {
     "name": "stdout",
     "output_type": "stream",
     "text": [
      "avarage of 10, 20, 30 is 20.0\n"
     ]
    }
   ],
   "source": [
    "def avarage():\n",
    "    try:\n",
    "        num1 = eval(input(\"Enter number 1\"))\n",
    "        num2 = eval(input(\"Enter number 2\"))\n",
    "        num3 = eval(input(\"Enter number 3\"))\n",
    "        avg = (num1 + num2 + num3)/3\n",
    "        print(\"avarage of {}, {}, {} is {}\".format(num1,num2,num3,avg))\n",
    "    except Exception as e:\n",
    "        print(e)\n",
    "\n",
    "avarage()\n",
    "        "
   ]
  },
  {
   "cell_type": "code",
   "execution_count": 20,
   "id": "26cfc5b9-766a-49a6-978d-ea93251eb984",
   "metadata": {},
   "outputs": [
    {
     "name": "stdin",
     "output_type": "stream",
     "text": [
      "Enter bill 1000\n",
      "Enter tip 200\n"
     ]
    },
    {
     "name": "stdout",
     "output_type": "stream",
     "text": [
      "Total amount is 1200\n"
     ]
    }
   ],
   "source": [
    "bill = eval(input(\"Enter bill\"))\n",
    "tip = eval(input(\"Enter tip\"))\n",
    "print(\"Total amount is {}\".format(bill+tip))"
   ]
  },
  {
   "cell_type": "code",
   "execution_count": 22,
   "id": "9cb168c4-6296-4c2f-9c57-3d29e0a3c41a",
   "metadata": {},
   "outputs": [
    {
     "name": "stdin",
     "output_type": "stream",
     "text": [
      "Enter bill 1000\n",
      "Enter tip 200\n"
     ]
    },
    {
     "name": "stdout",
     "output_type": "stream",
     "text": [
      "Total amount is 1200\n"
     ]
    }
   ],
   "source": [
    "def total_bill():\n",
    "    bill = eval(input(\"Enter bill\"))\n",
    "    tip = eval(input(\"Enter tip\"))\n",
    "    print(\"Total amount is {}\".format(bill+tip))\n",
    "total_bill()"
   ]
  },
  {
   "cell_type": "code",
   "execution_count": 36,
   "id": "ecdd0a2d-4664-4fb3-86bf-2b6ab1d1e526",
   "metadata": {},
   "outputs": [
    {
     "name": "stdout",
     "output_type": "stream",
     "text": [
      "12 is a even number\n"
     ]
    }
   ],
   "source": [
    "import random \n",
    "rand_num = random.randint(1,100)\n",
    "if(rand_num%2==0):\n",
    "    print(\"{} is a even number\".format(rand_num))\n",
    "else:\n",
    "    print(\"{} is a odd number\".format(rand_num))"
   ]
  },
  {
   "cell_type": "code",
   "execution_count": 38,
   "id": "835bfb07-2cfb-4646-bf60-686d126bae3a",
   "metadata": {},
   "outputs": [
    {
     "name": "stdout",
     "output_type": "stream",
     "text": [
      "8 is a even number\n"
     ]
    }
   ],
   "source": [
    "import random \n",
    "def even_odd():\n",
    "    rand_num = random.randint(1,100)\n",
    "    if(rand_num%2==0):\n",
    "        print(\"{} is a even number\".format(rand_num))\n",
    "    else:\n",
    "        print(\"{} is a odd number\".format(rand_num))\n",
    "even_odd()"
   ]
  },
  {
   "cell_type": "code",
   "execution_count": 40,
   "id": "bf68a905-e56c-46c0-b4a8-ca681b31fd94",
   "metadata": {},
   "outputs": [
    {
     "name": "stdout",
     "output_type": "stream",
     "text": [
      "46 is a even number\n"
     ]
    }
   ],
   "source": [
    "import random \n",
    "def even_odd1():\n",
    "    try:   \n",
    "        rand_num = random.randint(1,100)\n",
    "        if(rand_num%2==0):\n",
    "            print(\"{} is a even number\".format(rand_num))\n",
    "        else:\n",
    "            print(\"{} is a odd number\".format(rand_num))\n",
    "    except Exception as err:\n",
    "        print(err)\n",
    "even_odd()"
   ]
  },
  {
   "cell_type": "code",
   "execution_count": 42,
   "id": "64882f9a-012e-48a2-a87c-6e74c1a3a213",
   "metadata": {},
   "outputs": [
    {
     "name": "stdout",
     "output_type": "stream",
     "text": [
      "Addition\n",
      "subtraction\n",
      "Multipication\n",
      "200\n",
      "-10\n",
      "30\n"
     ]
    }
   ],
   "source": [
    "print(\"Addition\")\n",
    "def addition():\n",
    "    num = 10\n",
    "    num2 = 20\n",
    "    print(num+num2)\n",
    "print(\"subtraction\")\n",
    "def sub():\n",
    "    num = 10\n",
    "    num2 = 20\n",
    "    print(num-num2)\n",
    "print(\"Multipication\")\n",
    "def mul():\n",
    "    num = 10\n",
    "    num2 = 20\n",
    "    print(num*num2)\n",
    "mul()\n",
    "sub()\n",
    "addition()"
   ]
  },
  {
   "cell_type": "code",
   "execution_count": 58,
   "id": "a87b4200-5ea8-463a-8736-57fd110a6208",
   "metadata": {},
   "outputs": [
    {
     "name": "stdout",
     "output_type": "stream",
     "text": [
      "5\n",
      "4\n",
      "3\n",
      "2\n",
      "1\n",
      "15\n"
     ]
    }
   ],
   "source": [
    "# add all digit 12345\n",
    "num = 12345\n",
    "v1 = 12345%10  \n",
    "num = 12345//10\n",
    "v2 = 1234%10\n",
    "num = 1234//10\n",
    "v3 = 123%10\n",
    "num = 123//10\n",
    "v4 = 12%10\n",
    "num = 12//10\n",
    "\n",
    "print(v1)\n",
    "print(v2)\n",
    "print(v3)\n",
    "print(v4)\n",
    "print(num)\n",
    "print(v1+v2+v3+v4+num)\n"
   ]
  },
  {
   "cell_type": "code",
   "execution_count": null,
   "id": "4b65c65d-971c-4547-b70c-82021cddf511",
   "metadata": {},
   "outputs": [],
   "source": [
    "# task1\n",
    "import random\n",
    "random_num = random.randint(1,20)\n",
    "num = eval(input(\"Enter number\"))\n",
    "if(num==random_num):\n",
    "    print(\"You won\")\n",
    "else:\n",
    "    print(\"You lost\")\n"
   ]
  },
  {
   "cell_type": "code",
   "execution_count": 84,
   "id": "e3ebb2b2-3f0f-4f54-8363-5c97fe4dc712",
   "metadata": {},
   "outputs": [
    {
     "name": "stdin",
     "output_type": "stream",
     "text": [
      "Enter number 10\n"
     ]
    },
    {
     "name": "stdout",
     "output_type": "stream",
     "text": [
      "random number 4\n",
      "You lost\n"
     ]
    }
   ],
   "source": [
    "# task2\n",
    "import random\n",
    "def compare():\n",
    "    random_num = random.randint(1,20)\n",
    "    num = eval(input(\"Enter number\"))\n",
    "    print(\"random number {}\".format(random_num))\n",
    "    if(num==random_num):\n",
    "        print(\"You won\")\n",
    "    else:\n",
    "        print(\"You lost\")\n",
    "compare()"
   ]
  },
  {
   "cell_type": "code",
   "execution_count": 101,
   "id": "6ec389fd-8ac7-4f06-89c8-6be77573a788",
   "metadata": {},
   "outputs": [
    {
     "name": "stdout",
     "output_type": "stream",
     "text": [
      "random number 2\n",
      "You lost\n"
     ]
    }
   ],
   "source": [
    "# task3\n",
    "import random\n",
    "def compare(num):\n",
    "    random_num = random.randint(1,6)\n",
    "    print(\"random number {}\".format(random_num))\n",
    "#    num = eval(input(\"Enter number\"))\n",
    "    if(num==random_num):\n",
    "        print(\"You won\")\n",
    "    else:\n",
    "        print(\"You lost\")\n",
    "compare(6)  # direct pass value"
   ]
  },
  {
   "cell_type": "code",
   "execution_count": 103,
   "id": "2f32cfde-2e6a-41ce-bba6-840ec1516904",
   "metadata": {},
   "outputs": [
    {
     "name": "stdin",
     "output_type": "stream",
     "text": [
      "Enter number 1\n"
     ]
    },
    {
     "name": "stdout",
     "output_type": "stream",
     "text": [
      "random number 3\n",
      "You lost\n"
     ]
    }
   ],
   "source": [
    "# task4\n",
    "import random\n",
    "def compare(num):\n",
    "    random_num = random.randint(1,6)\n",
    "    print(\"random number {}\".format(random_num))\n",
    "#    num = eval(input(\"Enter number\"))\n",
    "    if(num==random_num):\n",
    "        print(\"You won\")\n",
    "    else:\n",
    "        print(\"You lost\")\n",
    "compare(eval(input(\"Enter number\")))  # keyboard pass value"
   ]
  },
  {
   "cell_type": "code",
   "execution_count": 113,
   "id": "c8353078-8039-42f2-9ead-e1c0bd338791",
   "metadata": {},
   "outputs": [
    {
     "name": "stdout",
     "output_type": "stream",
     "text": [
      "random number 4\n",
      "You won\n"
     ]
    },
    {
     "name": "stdin",
     "output_type": "stream",
     "text": [
      "Enter number 4\n"
     ]
    }
   ],
   "source": [
    "# task5\n",
    "import random\n",
    "def compare(random_num,num):\n",
    "    print(\"random number {}\".format(random_num))\n",
    "    if(num==random_num):\n",
    "        print(\"You won\")\n",
    "    else:\n",
    "        print(\"You lost\")\n",
    "value_random = random.randint(1,6)\n",
    "value = eval(input(\"Enter number\"))\n",
    "compare(value_random, value) "
   ]
  },
  {
   "cell_type": "code",
   "execution_count": 155,
   "id": "c1d16935-a2c4-4b16-a83c-17b3f5f456d1",
   "metadata": {},
   "outputs": [
    {
     "name": "stdout",
     "output_type": "stream",
     "text": [
      "random number 1\n",
      "random number 3\n",
      "You lost\n"
     ]
    }
   ],
   "source": [
    "import random\n",
    "def compare(random_num,num):\n",
    "     print(\"random number {}\".format(random_num))\n",
    "     print(\"random number {}\".format(num))\n",
    "     if(num==random_num):\n",
    "        print(\"You won\")\n",
    "     else:\n",
    "        print(\"You lost\")\n",
    "        \n",
    "value_random = random.randint(1,6)\n",
    "# value = eval(input(\"Enter number\"))\n",
    "value = random.randint(1,6)\n",
    "compare(value_random, value) "
   ]
  },
  {
   "cell_type": "code",
   "execution_count": 159,
   "id": "c12f51b2-9496-4d92-b016-b5214463a662",
   "metadata": {},
   "outputs": [
    {
     "name": "stdout",
     "output_type": "stream",
     "text": [
      "random number 1\n",
      "random number 4\n",
      "You lost\n"
     ]
    }
   ],
   "source": [
    "import random\n",
    "def compare(random_num,num=4): # num=4 default parameter\n",
    "     print(\"random number {}\".format(random_num))\n",
    "     print(\"random number {}\".format(num))\n",
    "     if(num==random_num):\n",
    "        print(\"You won\")\n",
    "     else:\n",
    "        print(\"You lost\")\n",
    "        \n",
    "value_random = random.randint(1,6)\n",
    "# value = eval(input(\"Enter number\"))\n",
    "# value = random.randint(1,6)\n",
    "compare(value_random) "
   ]
  },
  {
   "cell_type": "code",
   "execution_count": null,
   "id": "3e664fb8-cc9d-4694-af8e-84a0d5585852",
   "metadata": {},
   "outputs": [],
   "source": [
    "def add(num1,num2,num3)"
   ]
  }
 ],
 "metadata": {
  "kernelspec": {
   "display_name": "Python 3 (ipykernel)",
   "language": "python",
   "name": "python3"
  },
  "language_info": {
   "codemirror_mode": {
    "name": "ipython",
    "version": 3
   },
   "file_extension": ".py",
   "mimetype": "text/x-python",
   "name": "python",
   "nbconvert_exporter": "python",
   "pygments_lexer": "ipython3",
   "version": "3.12.4"
  }
 },
 "nbformat": 4,
 "nbformat_minor": 5
}
