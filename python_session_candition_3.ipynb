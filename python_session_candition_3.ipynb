{
 "cells": [
  {
   "cell_type": "code",
   "execution_count": 21,
   "id": "e375920a-36d7-4da1-b6ed-780abc1a0246",
   "metadata": {},
   "outputs": [
    {
     "name": "stdin",
     "output_type": "stream",
     "text": [
      "Enter number 22\n"
     ]
    },
    {
     "name": "stdout",
     "output_type": "stream",
     "text": [
      "name 'rint' is not defined\n"
     ]
    }
   ],
   "source": [
    "try:\n",
    "    num = eval(input(\"Enter number\"))\n",
    "    if(num%10==0):\n",
    "        print(\"{} is a even number\".format(num))\n",
    "    else:\n",
    "        print(\"{} is a odd number\".format(num))\n",
    "except Exception as e:\n",
    "    print(e)"
   ]
  },
  {
   "cell_type": "code",
   "execution_count": 46,
   "id": "741e6a6e-1143-4a38-9f12-36623e59346e",
   "metadata": {},
   "outputs": [
    {
     "name": "stdout",
     "output_type": "stream",
     "text": [
      "random_num is 10\n",
      "10 is a even number\n"
     ]
    }
   ],
   "source": [
    "import random\n",
    "random_num = random.randint(1,50)\n",
    "print(\"random_num is {}\".format(random_num))\n",
    "if(random_num%2==0):\n",
    "    print(\"{} is a even number\".format(random_num))\n",
    "else:\n",
    "    print(\"{} is a odd number\".format(random_num))\n",
    "\n"
   ]
  },
  {
   "cell_type": "code",
   "execution_count": 52,
   "id": "1112b8b8-40f9-4ce1-9e64-b043e1e1c4c2",
   "metadata": {},
   "outputs": [
    {
     "name": "stdout",
     "output_type": "stream",
     "text": [
      "lost\n"
     ]
    }
   ],
   "source": [
    "import random\n",
    "try:\n",
    "    get_num = random.randint(1,200)\n",
    "    if(get_num > 10 and get_num < 99):\n",
    "        print(\"Won\")\n",
    "    else:\n",
    "        print(\"lost\")\n",
    "except:\n",
    "    print(\"Error found\")"
   ]
  },
  {
   "cell_type": "code",
   "execution_count": 58,
   "id": "d14a5715-20a2-4e8d-a035-2afe74dc696b",
   "metadata": {},
   "outputs": [
    {
     "name": "stdin",
     "output_type": "stream",
     "text": [
      "Enter number -1\n"
     ]
    },
    {
     "name": "stdout",
     "output_type": "stream",
     "text": [
      "-1 is a nagetive number\n"
     ]
    }
   ],
   "source": [
    "try:\n",
    "    num = eval(input(\"Enter number\"))\n",
    "    if(num >=0):\n",
    "        print(\"{} is a positive number\".format(num))\n",
    "    else:\n",
    "        print(\"{} is a nagetive number\".format(num))\n",
    "except Exception as err:\n",
    "    print(err)"
   ]
  },
  {
   "cell_type": "code",
   "execution_count": 72,
   "id": "b9146816-321e-47c6-a77b-df85cf68cfb8",
   "metadata": {},
   "outputs": [
    {
     "name": "stdin",
     "output_type": "stream",
     "text": [
      "Enter number! 0\n"
     ]
    },
    {
     "name": "stdout",
     "output_type": "stream",
     "text": [
      "0 is equal to zero\n"
     ]
    }
   ],
   "source": [
    "num = eval(input(\"Enter number!\"))\n",
    "if(num>0):\n",
    "    print(\"{} is a positive number\".format(num))\n",
    "elif(num<0):\n",
    "    print(\"{} is a negative number\".format(num))\n",
    "else:\n",
    "    print(\"{} is equal to zero\".format(num))"
   ]
  },
  {
   "cell_type": "code",
   "execution_count": 80,
   "id": "8cff99e7-071e-413e-b59e-e76bb4b2976f",
   "metadata": {},
   "outputs": [
    {
     "name": "stdin",
     "output_type": "stream",
     "text": [
      "Enter you percentage 78\n"
     ]
    },
    {
     "name": "stdout",
     "output_type": "stream",
     "text": [
      "He got 78 %\n",
      "B\n"
     ]
    }
   ],
   "source": [
    "perc = eval(input(\"Enter you percentage\"))\n",
    "print(\"He got {} %\".format(perc))\n",
    "if(perc>90):\n",
    "    print(\"A\")\n",
    "elif(perc > 70 and perc<90):\n",
    "    print(\"B\")\n",
    "elif(perc>50 and perc<70):\n",
    "    print(\"C\")\n",
    "else:\n",
    "    print(\"D\")\n"
   ]
  },
  {
   "cell_type": "code",
   "execution_count": 86,
   "id": "996148f1-8006-41e4-8894-10aa86d872a6",
   "metadata": {},
   "outputs": [
    {
     "name": "stdin",
     "output_type": "stream",
     "text": [
      "Enter you salary 1200000\n",
      "Enter you tax percentage 10\n"
     ]
    },
    {
     "name": "stdout",
     "output_type": "stream",
     "text": [
      "Your salary 1200000 is grater than 1000000 you will be pay tax is 120000.0\n"
     ]
    }
   ],
   "source": [
    "salary = eval(input(\"Enter you salary\"))\n",
    "if salary>1000000:\n",
    "    tax_per = eval(input(\"Enter you tax percentage\"))\n",
    "    print(\"Your salary {} is grater than 1000000 you will be pay tax is {}\".format(salary,(salary*tax_per)/100))\n",
    "elif salary >= 700000:\n",
    "    tax_per = eval(input(\"Enter you tax percentage\"))\n",
    "    print(\"Your salary {} is grater than 700000 you will be pay tax is {}\".format(salary,(salary*tax_per)/100))\n",
    "elif salary >= 400000:\n",
    "    tax_per = eval(input(\"Enter you tax percentage\"))\n",
    "    print(\"Your salary {} is grater than 400000 you will be pay tax is {}\".format(salary,(salary*tax_per)/100))\n",
    "else:\n",
    "    print(\"Your salary {} is less than 400000 you no need to pay tax\".format(salary))"
   ]
  },
  {
   "cell_type": "code",
   "execution_count": 108,
   "id": "679c6bac-d495-452a-b149-e5618a16b0bd",
   "metadata": {},
   "outputs": [
    {
     "name": "stdin",
     "output_type": "stream",
     "text": [
      "Enter 1st number 0\n",
      "Enter 2nd number 1\n",
      "Enter 3rd number 5\n"
     ]
    },
    {
     "name": "stdout",
     "output_type": "stream",
     "text": [
      "5 is greater than 1 and 0\n"
     ]
    }
   ],
   "source": [
    "num1 = eval(input(\"Enter 1st number\"))\n",
    "num2 = eval(input(\"Enter 2nd number\"))\n",
    "num3 = eval(input(\"Enter 3rd number\"))\n",
    "if num1>num2:\n",
    "    if num2>num3:\n",
    "        print(\"{} is greater than {} and {}\".format(num1,num2,num3))\n",
    "    elif num3>num1:\n",
    "        print(\"{} is greater than {} and {}\".format(num3,num2,num1)) \n",
    "    else:\n",
    "        print(\"{} is greater than {} and {}\".format(num1,num2,num3))\n",
    "elif num2>num3:\n",
    "    if num3>num1:\n",
    "        print(\"{} is greater than {} and {}\".format(num2,num3,num1))\n",
    "    elif num1>num2:\n",
    "        print(\"{} is greater than {} and {}\".format(num1,num2,num3))\n",
    "    else:\n",
    "        print(\"{} is greater than {} and {}\".format(num2,num3,num1))\n",
    "else:\n",
    "      print(\"{} is greater than {} and {}\".format(num3,num2,num1))   "
   ]
  },
  {
   "cell_type": "code",
   "execution_count": 116,
   "id": "2f207d48-1e77-415d-b4f0-2cd96d1520c0",
   "metadata": {},
   "outputs": [
    {
     "name": "stdin",
     "output_type": "stream",
     "text": [
      "Enter number 1st 5\n",
      "Enter number 2nd 6\n",
      "Enter number 3rd 8\n"
     ]
    },
    {
     "name": "stdout",
     "output_type": "stream",
     "text": [
      "The largest number is 8\n"
     ]
    }
   ],
   "source": [
    "num1 = eval(input(\"Enter number 1st\"))\n",
    "num2 = eval(input(\"Enter number 2nd\"))\n",
    "num3 = eval(input(\"Enter number 3rd\"))\n",
    "if (num1 >= num2) and (num1 >= num3):\n",
    "    largest = num1\n",
    "elif (num2 >= num1) and (num2 >= num3):\n",
    "    largest = num2\n",
    "else:\n",
    "    largest = num3\n",
    "\n",
    "print(\"The largest number is\", largest)"
   ]
  },
  {
   "cell_type": "code",
   "execution_count": null,
   "id": "61909772-5c95-4cd6-9cc8-9eee5d57bdc7",
   "metadata": {},
   "outputs": [],
   "source": []
  }
 ],
 "metadata": {
  "kernelspec": {
   "display_name": "Python 3 (ipykernel)",
   "language": "python",
   "name": "python3"
  },
  "language_info": {
   "codemirror_mode": {
    "name": "ipython",
    "version": 3
   },
   "file_extension": ".py",
   "mimetype": "text/x-python",
   "name": "python",
   "nbconvert_exporter": "python",
   "pygments_lexer": "ipython3",
   "version": "3.12.4"
  }
 },
 "nbformat": 4,
 "nbformat_minor": 5
}
