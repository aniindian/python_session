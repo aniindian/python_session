{
 "cells": [
  {
   "cell_type": "code",
   "execution_count": 1,
   "id": "152c7574-91f2-45d1-b507-5c6853356af2",
   "metadata": {},
   "outputs": [
    {
     "name": "stdin",
     "output_type": "stream",
     "text": [
      "Enter radius: 12\n"
     ]
    },
    {
     "name": "stdout",
     "output_type": "stream",
     "text": [
      "452.57142857142856\n"
     ]
    }
   ],
   "source": [
    "num = eval(input(\"Enter radius:\"))\n",
    "area_circle = (22/7)*(num*num)                             # pir^2\n",
    "print(area_circle)"
   ]
  },
  {
   "cell_type": "code",
   "execution_count": 7,
   "id": "5db914c0-d949-4436-b8f3-d3ed1df091b3",
   "metadata": {},
   "outputs": [
    {
     "name": "stdin",
     "output_type": "stream",
     "text": [
      "Enter radius: 20\n"
     ]
    },
    {
     "name": "stdout",
     "output_type": "stream",
     "text": [
      "1256.6370614359173\n"
     ]
    }
   ],
   "source": [
    "import math\n",
    "num = eval(input(\"Enter radius:\"))\n",
    "area_circle = round(math.pi*num*num,2)\n",
    "# area_circle = math.pi*num**2\n",
    "print(area_circle)"
   ]
  },
  {
   "cell_type": "code",
   "execution_count": 5,
   "id": "723f85dd-91a3-4d3a-86d3-3b05083874c4",
   "metadata": {},
   "outputs": [
    {
     "data": {
      "text/plain": [
       "['__doc__',\n",
       " '__loader__',\n",
       " '__name__',\n",
       " '__package__',\n",
       " '__spec__',\n",
       " 'acos',\n",
       " 'acosh',\n",
       " 'asin',\n",
       " 'asinh',\n",
       " 'atan',\n",
       " 'atan2',\n",
       " 'atanh',\n",
       " 'cbrt',\n",
       " 'ceil',\n",
       " 'comb',\n",
       " 'copysign',\n",
       " 'cos',\n",
       " 'cosh',\n",
       " 'degrees',\n",
       " 'dist',\n",
       " 'e',\n",
       " 'erf',\n",
       " 'erfc',\n",
       " 'exp',\n",
       " 'exp2',\n",
       " 'expm1',\n",
       " 'fabs',\n",
       " 'factorial',\n",
       " 'floor',\n",
       " 'fmod',\n",
       " 'frexp',\n",
       " 'fsum',\n",
       " 'gamma',\n",
       " 'gcd',\n",
       " 'hypot',\n",
       " 'inf',\n",
       " 'isclose',\n",
       " 'isfinite',\n",
       " 'isinf',\n",
       " 'isnan',\n",
       " 'isqrt',\n",
       " 'lcm',\n",
       " 'ldexp',\n",
       " 'lgamma',\n",
       " 'log',\n",
       " 'log10',\n",
       " 'log1p',\n",
       " 'log2',\n",
       " 'modf',\n",
       " 'nan',\n",
       " 'nextafter',\n",
       " 'perm',\n",
       " 'pi',\n",
       " 'pow',\n",
       " 'prod',\n",
       " 'radians',\n",
       " 'remainder',\n",
       " 'sin',\n",
       " 'sinh',\n",
       " 'sqrt',\n",
       " 'sumprod',\n",
       " 'tan',\n",
       " 'tanh',\n",
       " 'tau',\n",
       " 'trunc',\n",
       " 'ulp']"
      ]
     },
     "execution_count": 5,
     "metadata": {},
     "output_type": "execute_result"
    }
   ],
   "source": [
    "dir(math)"
   ]
  },
  {
   "cell_type": "code",
   "execution_count": 13,
   "id": "b4b235a2-6af4-4751-b154-bc8c6cbe015c",
   "metadata": {},
   "outputs": [
    {
     "name": "stdin",
     "output_type": "stream",
     "text": [
      "Enter radius: 20\n"
     ]
    },
    {
     "name": "stdout",
     "output_type": "stream",
     "text": [
      "1256.637\n"
     ]
    }
   ],
   "source": [
    "# without argument\n",
    "import math\n",
    "def area_circles():\n",
    "        num = eval(input(\"Enter radius:\"))\n",
    "        area_circle = round(math.pi*num*num,2)\n",
    "        # area_circle = math.pi*num**2\n",
    "        print(area_circle)\n",
    "area_circles()"
   ]
  },
  {
   "cell_type": "code",
   "execution_count": null,
   "id": "a37fcf50-20ed-4b82-8474-d33991e13fbf",
   "metadata": {},
   "outputs": [],
   "source": [
    "# with argument direct pass\n",
    "import math\n",
    "def area_circles(num):\n",
    "        # num = eval(input(\"Enter radius:\"))\n",
    "        area_circle = round(math.pi*num*num,2)\n",
    "        # area_circle = math.pi*num**2\n",
    "        print(area_circle)\n",
    "area_circles(20)   # direct pass"
   ]
  },
  {
   "cell_type": "code",
   "execution_count": 15,
   "id": "69fa1fc9-7cca-4087-afbd-9ef897e49cdf",
   "metadata": {},
   "outputs": [
    {
     "name": "stdin",
     "output_type": "stream",
     "text": [
      "Enter radius 20\n"
     ]
    },
    {
     "name": "stdout",
     "output_type": "stream",
     "text": [
      "1256.64\n"
     ]
    }
   ],
   "source": [
    "# with argument with keyboard pass\n",
    "import math\n",
    "def area_circles(num):\n",
    "        # num = eval(input(\"Enter radius:\"))\n",
    "        area_circle = round(math.pi*num*num,2)\n",
    "        # area_circle = math.pi*num**2\n",
    "        print(area_circle)\n",
    "r = eval(input(\"Enter radius\"))\n",
    "area_circles(r)  "
   ]
  },
  {
   "cell_type": "code",
   "execution_count": 17,
   "id": "45e6e7ec-d534-4058-9995-4ac5a4eea1af",
   "metadata": {},
   "outputs": [
    {
     "name": "stdin",
     "output_type": "stream",
     "text": [
      "Enter radius 20\n"
     ]
    },
    {
     "name": "stdout",
     "output_type": "stream",
     "text": [
      "1256.64\n"
     ]
    }
   ],
   "source": [
    "# use try-except\n",
    "import math\n",
    "def area_circles(num):\n",
    "    try:\n",
    "        # num = eval(input(\"Enter radius:\"))\n",
    "        area_circle = round(math.pi*num*num,2)\n",
    "        # area_circle = math.pi*num**2\n",
    "        print(area_circle)\n",
    "    except Exception as err:\n",
    "        print(err)\n",
    "        \n",
    "r = eval(input(\"Enter radius\"))\n",
    "area_circles(r) "
   ]
  },
  {
   "cell_type": "code",
   "execution_count": null,
   "id": "b6f0a51f-e72f-4142-97e3-054a3f4d847a",
   "metadata": {},
   "outputs": [],
   "source": []
  },
  {
   "cell_type": "code",
   "execution_count": 21,
   "id": "643413ff-582b-420e-8f9a-824caab817b2",
   "metadata": {},
   "outputs": [
    {
     "name": "stdin",
     "output_type": "stream",
     "text": [
      "Enter radius: 20\n"
     ]
    },
    {
     "name": "stdout",
     "output_type": "stream",
     "text": [
      "1256.64\n"
     ]
    }
   ],
   "source": [
    "# use return\n",
    "import math\n",
    "def area_circles():\n",
    "        num = eval(input(\"Enter radius:\"))\n",
    "        area_circle = round(math.pi*num*num,2)\n",
    "        # area_circle = math.pi*num**2\n",
    "        print(area_circle)\n",
    "        return area_circle\n",
    "Area = area_circles()\n"
   ]
  },
  {
   "cell_type": "code",
   "execution_count": 27,
   "id": "25b3e92b-c6dc-40ba-b0cd-25e5cc02eada",
   "metadata": {},
   "outputs": [
    {
     "name": "stdin",
     "output_type": "stream",
     "text": [
      "Enter radius: 20\n"
     ]
    },
    {
     "name": "stdout",
     "output_type": "stream",
     "text": [
      "Area of circle is 1256.64\n",
      "1256.64\n",
      "3.141592653589793\n"
     ]
    }
   ],
   "source": [
    "# use return\n",
    "import math\n",
    "def area_circles():\n",
    "        num = eval(input(\"Enter radius:\"))\n",
    "        pii = math.pi\n",
    "        area_circle = round(pii*num*num,2)\n",
    "        # area_circle = math.pi*num**2\n",
    "        print(\"Area of circle is {}\".format(area_circle))\n",
    "        return (area_circle,pii)\n",
    "Area,pii = area_circles()\n",
    "print(Area)\n",
    "print(pii)"
   ]
  },
  {
   "cell_type": "code",
   "execution_count": null,
   "id": "8d62df4d-bc86-41b4-839c-b8eff6d325e7",
   "metadata": {},
   "outputs": [],
   "source": []
  },
  {
   "cell_type": "code",
   "execution_count": 31,
   "id": "3506155e-ef12-4189-ac1f-f3496251629a",
   "metadata": {},
   "outputs": [
    {
     "name": "stdin",
     "output_type": "stream",
     "text": [
      "Enter 1st number 10\n",
      "Enter 2nd number 20\n",
      "Enter 3rd number 30\n"
     ]
    },
    {
     "name": "stdout",
     "output_type": "stream",
     "text": [
      "sum of 10, 20, 30 is 60\n",
      "avarage of 10, 20, 30 is 20.0\n",
      "60\n",
      "20.0\n"
     ]
    }
   ],
   "source": [
    "def sum_avg():\n",
    "        n1 = eval(input(\"Enter 1st number\"))\n",
    "        n2 = eval(input(\"Enter 2nd number\"))\n",
    "        n3 = eval(input(\"Enter 3rd number\"))\n",
    "        summ = n1 + n2 + n3\n",
    "        avg = (n1+n2+n3)/3\n",
    "        print(\"sum of {}, {}, {} is {}\".format(n1,n2,n3,summ))\n",
    "        print(\"avarage of {}, {}, {} is {}\".format(n1,n2,n3,avg))\n",
    "        return(summ,avg)\n",
    "s,a = sum_avg()\n",
    "# print(s)\n",
    "# print(a)\n",
    "print(s,a)"
   ]
  },
  {
   "cell_type": "code",
   "execution_count": null,
   "id": "164a8065-4207-4b45-9f39-3032ad27225e",
   "metadata": {},
   "outputs": [],
   "source": []
  },
  {
   "cell_type": "code",
   "execution_count": null,
   "id": "ebc16b67-0fe6-479f-988c-35e6873e74b0",
   "metadata": {},
   "outputs": [],
   "source": [
    "#find biggest"
   ]
  },
  {
   "cell_type": "code",
   "execution_count": 35,
   "id": "112abb95-0bdf-4ea0-8459-a1120708811b",
   "metadata": {},
   "outputs": [
    {
     "name": "stdin",
     "output_type": "stream",
     "text": [
      "Enter num1 10\n",
      "Enter num2 20\n",
      "Enter num3 30\n"
     ]
    },
    {
     "name": "stdout",
     "output_type": "stream",
     "text": [
      "Num3 is a biggest number 30\n"
     ]
    }
   ],
   "source": [
    "num1 = eval(input(\"Enter num1\"))\n",
    "num2 = eval(input(\"Enter num2\"))\n",
    "num3 = eval(input(\"Enter num3\"))\n",
    "\n",
    "if(num1>num2)and(num1>num3):\n",
    "    print(\"Num1 is a biggest number {}\".format(num1))\n",
    "elif(num2>num3):\n",
    "    print(\"Num2 is a biggest number {}\".format(num2))\n",
    "else:\n",
    "    print(\"Num3 is a biggest number {}\".format(num3))"
   ]
  },
  {
   "cell_type": "code",
   "execution_count": 37,
   "id": "a98cc38e-4802-498c-8e7f-643aee35ff95",
   "metadata": {},
   "outputs": [
    {
     "name": "stdin",
     "output_type": "stream",
     "text": [
      "Enter num1 10\n",
      "Enter num2 20\n",
      "Enter num3 30\n"
     ]
    },
    {
     "name": "stdout",
     "output_type": "stream",
     "text": [
      "Greatest number of them 10, 20, 30 is 30\n"
     ]
    }
   ],
   "source": [
    "def greatest():\n",
    "    num1 = eval(input(\"Enter num1\"))\n",
    "    num2 = eval(input(\"Enter num2\"))\n",
    "    num3 = eval(input(\"Enter num3\"))\n",
    "\n",
    "    if(num1>num2)and(num1>num3):\n",
    "        # print(\"Num1 is a biggest number {}\".format(num1))\n",
    "        return(num1)\n",
    "    elif(num2>num3):\n",
    "        # print(\"Num2 is a biggest number {}\".format(num2))\n",
    "        return(num2)\n",
    "    else:\n",
    "        # print(\"Num3 is a biggest number {}\".format(num3))\n",
    "        return(num3)\n",
    "result = greatest()\n",
    "print(\"Greatest number of them {}, {}, {} is {}\".format(num1,num2,num3,result))\n",
    "    "
   ]
  },
  {
   "cell_type": "code",
   "execution_count": null,
   "id": "a3f22417-8554-4f11-89da-3907d732827a",
   "metadata": {},
   "outputs": [],
   "source": []
  },
  {
   "cell_type": "code",
   "execution_count": 55,
   "id": "adee4b94-41ce-4659-af59-3f31452be144",
   "metadata": {},
   "outputs": [
    {
     "name": "stdout",
     "output_type": "stream",
     "text": [
      "For addition press 1\n",
      "For subtraction press 2\n",
      "For multiplication press 3\n",
      "For division press 4\n"
     ]
    },
    {
     "name": "stdin",
     "output_type": "stream",
     "text": [
      "Enter you operation 3\n",
      "Enter number 1: 4\n",
      "Enter number 2: 5\n"
     ]
    },
    {
     "name": "stdout",
     "output_type": "stream",
     "text": [
      "20\n"
     ]
    }
   ],
   "source": [
    "\n",
    "def add(a,b):\n",
    "    result = a + b\n",
    "    print(result)\n",
    "    # return summ\n",
    "def sub(a,b):\n",
    "     result = a - b\n",
    "     return result\n",
    "    # return subb\n",
    "def mul(a,b):\n",
    "     result = a * b\n",
    "     return result\n",
    "    # return mull\n",
    "def div(a,b):\n",
    "     result = a / b\n",
    "     return result\n",
    "    # return divv\n",
    "def main():\n",
    "    print(\"For addition press 1\")    \n",
    "    print(\"For subtraction press 2\")  \n",
    "    print(\"For multiplication press 3\")\n",
    "    print(\"For division press 4\")\n",
    "    operation = input(\"Enter you operation\")\n",
    "    num1 = eval(input(\"Enter number 1:\"))\n",
    "    num2 = eval(input(\"Enter number 2:\"))\n",
    "\n",
    "    if operation == '1':\n",
    "        add(num1,num2)\n",
    "    if operation == '2':\n",
    "        sub(num1,num2)\n",
    "    if operation == '3':\n",
    "        a=mul(num1,num2)\n",
    "    if operation == '4':\n",
    "        div(num1,num2)\n",
    "    return a\n",
    "ans = main()\n",
    "print(ans)"
   ]
  },
  {
   "cell_type": "code",
   "execution_count": null,
   "id": "3d574d05-399e-4dee-a4b3-16e3a4bcfafe",
   "metadata": {},
   "outputs": [],
   "source": []
  }
 ],
 "metadata": {
  "kernelspec": {
   "display_name": "Python 3 (ipykernel)",
   "language": "python",
   "name": "python3"
  },
  "language_info": {
   "codemirror_mode": {
    "name": "ipython",
    "version": 3
   },
   "file_extension": ".py",
   "mimetype": "text/x-python",
   "name": "python",
   "nbconvert_exporter": "python",
   "pygments_lexer": "ipython3",
   "version": "3.12.4"
  }
 },
 "nbformat": 4,
 "nbformat_minor": 5
}
