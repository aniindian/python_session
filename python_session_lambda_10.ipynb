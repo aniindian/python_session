{
 "cells": [
  {
   "cell_type": "markdown",
   "id": "c3098574-712d-4bb9-b4d3-f01658a90a6d",
   "metadata": {},
   "source": [
    "### Lambda ###"
   ]
  },
  {
   "cell_type": "code",
   "execution_count": 29,
   "id": "7484d4a6-3faf-4300-b71b-61726d0e17dc",
   "metadata": {},
   "outputs": [],
   "source": [
    "# create basic function"
   ]
  },
  {
   "cell_type": "markdown",
   "id": "93f99582-a417-45fe-b031-2a7a1e491d97",
   "metadata": {},
   "source": [
    "**one argument**"
   ]
  },
  {
   "cell_type": "code",
   "execution_count": 10,
   "id": "f83eaa39-ee68-4986-b3d9-dc9e4d084627",
   "metadata": {},
   "outputs": [],
   "source": [
    "# Important \n",
    "# how many argument? a\n",
    "# what you are returning? x+10\n",
    "\n",
    "# Formate: lambda <argument>:<output>"
   ]
  },
  {
   "cell_type": "code",
   "execution_count": 65,
   "id": "dbebc469-b557-41a5-a9af-21a2d336f39a",
   "metadata": {},
   "outputs": [
    {
     "data": {
      "text/plain": [
       "30"
      ]
     },
     "execution_count": 65,
     "metadata": {},
     "output_type": "execute_result"
    }
   ],
   "source": [
    "def summ(x):\n",
    "    return (x+10)\n",
    "summ(20)"
   ]
  },
  {
   "cell_type": "code",
   "execution_count": 15,
   "id": "30e70c71-2f08-4a26-aba2-3b8e42aea1dd",
   "metadata": {},
   "outputs": [
    {
     "data": {
      "text/plain": [
       "30"
      ]
     },
     "execution_count": 15,
     "metadata": {},
     "output_type": "execute_result"
    }
   ],
   "source": [
    "summ=lambda x:x+10\n",
    "summ(20)"
   ]
  },
  {
   "cell_type": "code",
   "execution_count": 27,
   "id": "6b873647-a491-492d-a475-dbf21db706cd",
   "metadata": {},
   "outputs": [
    {
     "data": {
      "text/plain": [
       "16"
      ]
     },
     "execution_count": 27,
     "metadata": {},
     "output_type": "execute_result"
    }
   ],
   "source": [
    "def square(x):\n",
    "    return (x*x)\n",
    "square(4)"
   ]
  },
  {
   "cell_type": "code",
   "execution_count": 17,
   "id": "5251ef70-6873-48d8-a8b4-ca142cd74076",
   "metadata": {},
   "outputs": [
    {
     "data": {
      "text/plain": [
       "16"
      ]
     },
     "execution_count": 17,
     "metadata": {},
     "output_type": "execute_result"
    }
   ],
   "source": [
    "square=lambda x:x*x\n",
    "square(4)"
   ]
  },
  {
   "cell_type": "code",
   "execution_count": 25,
   "id": "e9c4d581-ce7c-4ce8-8f26-bde3ef97d761",
   "metadata": {},
   "outputs": [
    {
     "data": {
      "text/plain": [
       "8"
      ]
     },
     "execution_count": 25,
     "metadata": {},
     "output_type": "execute_result"
    }
   ],
   "source": [
    "def cube(x):\n",
    "    return (x*x*x)\n",
    "cube(2)"
   ]
  },
  {
   "cell_type": "code",
   "execution_count": 23,
   "id": "91b047f9-07be-40ff-a511-cdb6fdb5910c",
   "metadata": {},
   "outputs": [
    {
     "data": {
      "text/plain": [
       "8"
      ]
     },
     "execution_count": 23,
     "metadata": {},
     "output_type": "execute_result"
    }
   ],
   "source": [
    "cube=lambda x:x*x*x\n",
    "cube(2)"
   ]
  },
  {
   "cell_type": "code",
   "execution_count": null,
   "id": "646fd137-f608-4913-926f-8fe4478fda46",
   "metadata": {},
   "outputs": [],
   "source": []
  },
  {
   "cell_type": "markdown",
   "id": "9e84ce71-30c2-4ff1-86c5-eb6e1beb22fd",
   "metadata": {},
   "source": [
    "**Two argument**"
   ]
  },
  {
   "cell_type": "code",
   "execution_count": null,
   "id": "daadc9e3-0483-444a-87fb-4adb8a80fedf",
   "metadata": {},
   "outputs": [],
   "source": [
    "# Important \n",
    "# how many argument? x and y\n",
    "# what you are returning? x+y\n",
    "\n",
    "# Formate: lambda <argument1>,<argument1>:<output>"
   ]
  },
  {
   "cell_type": "code",
   "execution_count": null,
   "id": "88b0898e-f37a-46b0-af24-4da46d61ce4b",
   "metadata": {},
   "outputs": [],
   "source": [
    "def summ(x,y):\n",
    "    return (x+y)\n",
    "summ(20)"
   ]
  },
  {
   "cell_type": "code",
   "execution_count": 36,
   "id": "e49acc8f-b413-43b9-a9c3-8457a41e9a8f",
   "metadata": {},
   "outputs": [
    {
     "data": {
      "text/plain": [
       "30"
      ]
     },
     "execution_count": 36,
     "metadata": {},
     "output_type": "execute_result"
    }
   ],
   "source": [
    "summ=lambda x,y:x+y\n",
    "summ(10,20)"
   ]
  },
  {
   "cell_type": "code",
   "execution_count": 67,
   "id": "3fbde0ea-6c5e-4028-a5b0-7c0ab58a3985",
   "metadata": {},
   "outputs": [],
   "source": [
    "# impement of avarage using three number"
   ]
  },
  {
   "cell_type": "code",
   "execution_count": 48,
   "id": "2a56f0f9-01a3-498c-a619-1cd8465bae8d",
   "metadata": {},
   "outputs": [
    {
     "data": {
      "text/plain": [
       "20.0"
      ]
     },
     "execution_count": 48,
     "metadata": {},
     "output_type": "execute_result"
    }
   ],
   "source": [
    "avg=lambda a,b,c:(a+b+c)/3\n",
    "avg(10,20,30)"
   ]
  },
  {
   "cell_type": "code",
   "execution_count": 52,
   "id": "cad0420e-3b06-4e39-8fd9-591af6542494",
   "metadata": {},
   "outputs": [
    {
     "data": {
      "text/plain": [
       "26.666666666666668"
      ]
     },
     "execution_count": 52,
     "metadata": {},
     "output_type": "execute_result"
    }
   ],
   "source": [
    "# impement of avarage using three number and third number is default\n",
    "avg=lambda a,b,c=30:(a+b+c)/3\n",
    "avg(20,30)"
   ]
  },
  {
   "cell_type": "code",
   "execution_count": 54,
   "id": "58792bb5-a53e-4d4c-a3a4-890b3683aead",
   "metadata": {},
   "outputs": [
    {
     "data": {
      "text/plain": [
       "26.67"
      ]
     },
     "execution_count": 54,
     "metadata": {},
     "output_type": "execute_result"
    }
   ],
   "source": [
    "# round of the output\n",
    "avg=lambda a,b,c=30: round((a+b+c)/3,2)\n",
    "avg(20,30)"
   ]
  },
  {
   "cell_type": "markdown",
   "id": "ebbf4bf3-4059-4c81-8eef-9e1ed7bfdcc7",
   "metadata": {},
   "source": [
    "**if-else**"
   ]
  },
  {
   "cell_type": "code",
   "execution_count": null,
   "id": "7d553abb-3bc8-405d-8546-104c154a1728",
   "metadata": {},
   "outputs": [],
   "source": [
    "#formate \n",
    "# lambda <agr1>,<agr2>:<if_output> <if_condition> <else> <else_condition>"
   ]
  },
  {
   "cell_type": "code",
   "execution_count": 60,
   "id": "6852cd00-035f-41e4-9f9b-0c2aea0f67f0",
   "metadata": {},
   "outputs": [
    {
     "name": "stdout",
     "output_type": "stream",
     "text": [
      "200 is greater than 100\n"
     ]
    }
   ],
   "source": [
    "# create function greater number between two number\n",
    "def greater(a,b):\n",
    "    if a>b:\n",
    "        # print(\"{} is greater than {}\".format(a,b))\n",
    "        return a\n",
    "    else:\n",
    "        # print(\"{} is greater than {}\".format(b,a))\n",
    "        return b\n",
    "greater(100,200)"
   ]
  },
  {
   "cell_type": "code",
   "execution_count": null,
   "id": "a37877e5-138b-470c-becf-36941216f534",
   "metadata": {},
   "outputs": [],
   "source": [
    "# if we want to store in list use append() method\n",
    "def greater(a,b):\n",
    "    if a>b:\n",
    "        return a\n",
    "    else:\n",
    "        return b\n",
    "greater(100,200)"
   ]
  },
  {
   "cell_type": "code",
   "execution_count": null,
   "id": "996d6c71-d722-4bc5-b38e-a7227240202e",
   "metadata": {},
   "outputs": [],
   "source": [
    "def greater(a,b):\n",
    "    if a>b:\n",
    "        return a\n",
    "    else:\n",
    "        return b\n",
    "greater(100,200)"
   ]
  },
  {
   "cell_type": "code",
   "execution_count": 63,
   "id": "1a83b85f-f7a3-40f8-a9ed-ebb953295b3e",
   "metadata": {},
   "outputs": [
    {
     "data": {
      "text/plain": [
       "200"
      ]
     },
     "execution_count": 63,
     "metadata": {},
     "output_type": "execute_result"
    }
   ],
   "source": [
    "greater =lambda a,b:a if a>b else b\n",
    "greater(100,200)"
   ]
  },
  {
   "cell_type": "code",
   "execution_count": null,
   "id": "b381e7a1-b847-4de0-ad13-dddf11c5b0ef",
   "metadata": {},
   "outputs": [],
   "source": []
  },
  {
   "cell_type": "code",
   "execution_count": 69,
   "id": "8ece4044-1827-4236-80a5-8eef32dfc9eb",
   "metadata": {},
   "outputs": [
    {
     "data": {
      "text/plain": [
       "['Hyd', 'Mumbai', 'Chennai']"
      ]
     },
     "execution_count": 69,
     "metadata": {},
     "output_type": "execute_result"
    }
   ],
   "source": [
    "list1 = ['hyd','mumbai','chennai']\n",
    "list2=[]\n",
    "for i in list1:\n",
    "    list2.append(i.capitalize())\n",
    "list2"
   ]
  },
  {
   "cell_type": "code",
   "execution_count": 71,
   "id": "c4b8786d-530b-43de-bc18-465f85b2a014",
   "metadata": {},
   "outputs": [
    {
     "data": {
      "text/plain": [
       "['Hyd', 'Mumbai', 'Chennai']"
      ]
     },
     "execution_count": 71,
     "metadata": {},
     "output_type": "execute_result"
    }
   ],
   "source": [
    "list3=[i.capitalize() for i in list1]\n",
    "list3"
   ]
  },
  {
   "cell_type": "code",
   "execution_count": null,
   "id": "cd9f3290-ccc0-4bd8-a2f2-cdf4d4ccead6",
   "metadata": {},
   "outputs": [],
   "source": []
  },
  {
   "cell_type": "code",
   "execution_count": null,
   "id": "fb8b444b-8609-4aa0-a33f-125c15397890",
   "metadata": {},
   "outputs": [],
   "source": []
  },
  {
   "cell_type": "code",
   "execution_count": null,
   "id": "15426e1d-1548-40f5-b13e-50aac0b45a85",
   "metadata": {},
   "outputs": [],
   "source": [
    "# first make a lambda function\n",
    "# second add your itretor\n",
    "# map both function and iterator\n",
    "# save the resutl in a list or particular data structure as your need"
   ]
  },
  {
   "cell_type": "code",
   "execution_count": null,
   "id": "68e6020d-6f15-43b6-9eb5-d7e044a0fbdd",
   "metadata": {},
   "outputs": [],
   "source": [
    "list1 = ['hyd','mumbai','chennai']\n",
    "lambda i:i.capitalize(),list\n",
    "map(lambda i:i.capitalize(), list1)\n",
    "list(map(lambda i:i.capitalize(), list1))"
   ]
  },
  {
   "cell_type": "code",
   "execution_count": 152,
   "id": "510882f9-acfc-4687-b854-54a6bb98e4d9",
   "metadata": {},
   "outputs": [],
   "source": [
    "# Format: lambda <argument>:<output>,<itretor>\n",
    "# after that we need to map input and output\n",
    "# store the output"
   ]
  },
  {
   "cell_type": "code",
   "execution_count": 77,
   "id": "442a6c08-32cb-449a-ba8f-a8676c0e1644",
   "metadata": {},
   "outputs": [
    {
     "data": {
      "text/plain": [
       "(<function __main__.<lambda>(i)>, ['hyd', 'mumbai', 'chennai'])"
      ]
     },
     "execution_count": 77,
     "metadata": {},
     "output_type": "execute_result"
    }
   ],
   "source": [
    "lambda i:i.capitalize(),list1"
   ]
  },
  {
   "cell_type": "code",
   "execution_count": 79,
   "id": "3d2bc15e-b443-4614-a4b6-2f125a23a5ac",
   "metadata": {},
   "outputs": [],
   "source": [
    "# after that we need to map input and output"
   ]
  },
  {
   "cell_type": "code",
   "execution_count": 85,
   "id": "477aa0bb-6191-4d4e-9a93-d80e3c1cfa51",
   "metadata": {},
   "outputs": [
    {
     "data": {
      "text/plain": [
       "<map at 0x1f8ddf78fa0>"
      ]
     },
     "execution_count": 85,
     "metadata": {},
     "output_type": "execute_result"
    }
   ],
   "source": [
    "map(lambda i:i.capitalize(),list)"
   ]
  },
  {
   "cell_type": "code",
   "execution_count": null,
   "id": "373ec8d4-ecab-4b0f-bbb5-678cf5cf47d5",
   "metadata": {},
   "outputs": [],
   "source": [
    "# store the output"
   ]
  },
  {
   "cell_type": "code",
   "execution_count": 147,
   "id": "0d2c50e1-aaf2-41cb-a6b9-555a63ef8b35",
   "metadata": {},
   "outputs": [
    {
     "ename": "TypeError",
     "evalue": "'list' object is not callable",
     "output_type": "error",
     "traceback": [
      "\u001b[1;31m---------------------------------------------------------------------------\u001b[0m",
      "\u001b[1;31mTypeError\u001b[0m                                 Traceback (most recent call last)",
      "Cell \u001b[1;32mIn[147], line 3\u001b[0m\n\u001b[0;32m      1\u001b[0m list1 \u001b[38;5;241m=\u001b[39m [\u001b[38;5;124m'\u001b[39m\u001b[38;5;124mhyd\u001b[39m\u001b[38;5;124m'\u001b[39m,\u001b[38;5;124m'\u001b[39m\u001b[38;5;124mmumbai\u001b[39m\u001b[38;5;124m'\u001b[39m,\u001b[38;5;124m'\u001b[39m\u001b[38;5;124mchennai\u001b[39m\u001b[38;5;124m'\u001b[39m]\n\u001b[0;32m      2\u001b[0m \u001b[38;5;28mlist\u001b[39m\u001b[38;5;241m=\u001b[39m[]\n\u001b[1;32m----> 3\u001b[0m result\u001b[38;5;241m=\u001b[39m\u001b[38;5;28mlist\u001b[39m(\u001b[38;5;28mmap\u001b[39m(\u001b[38;5;28;01mlambda\u001b[39;00m i:i\u001b[38;5;241m.\u001b[39mcapitalize(), list1))\n\u001b[0;32m      4\u001b[0m \u001b[38;5;28mprint\u001b[39m(result)\n",
      "\u001b[1;31mTypeError\u001b[0m: 'list' object is not callable"
     ]
    }
   ],
   "source": [
    "list1 = ['hyd','mumbai','chennai']\n",
    "list=[]\n",
    "result=list(map(lambda i:i.capitalize(), list1))\n",
    "print(result)"
   ]
  },
  {
   "cell_type": "code",
   "execution_count": 160,
   "id": "5ac4dd33-bf29-486d-a090-0099529c8216",
   "metadata": {},
   "outputs": [],
   "source": [
    "list(map(lambda i:i.capitalize(), list1))"
   ]
  },
  {
   "cell_type": "code",
   "execution_count": 156,
   "id": "fe8e6393-7b6c-4b82-934c-ec443bf21a0a",
   "metadata": {},
   "outputs": [],
   "source": [
    "list1 = [\"example\", \"test\", \"code\"]\n",
    "# result = list(map(lambda i: i.capitalize(), list1))\n",
    "# print(result)"
   ]
  },
  {
   "cell_type": "code",
   "execution_count": null,
   "id": "a02ef4eb-1901-4c5c-aac5-0313eb6bf299",
   "metadata": {},
   "outputs": [],
   "source": []
  },
  {
   "cell_type": "code",
   "execution_count": 1,
   "id": "a354283a-7702-468f-b770-830bee7b8f59",
   "metadata": {},
   "outputs": [
    {
     "name": "stdout",
     "output_type": "stream",
     "text": [
      "[1, 4, 9, 16, 25]\n"
     ]
    }
   ],
   "source": [
    "list1=[1,2,3,4,5]\n",
    "# output should be [1,4,9,16,25]\n",
    "lambda i:i*i, list1\n",
    "map(lambda i:i*i, list1)\n",
    "result = list(map(lambda i:i*i, list1))\n",
    "print(result)\n",
    "# for i in map(lambda i:i*i, list1):\n",
    "#     print(i)"
   ]
  },
  {
   "cell_type": "code",
   "execution_count": null,
   "id": "2601ea2a-2f46-4390-862c-21b076395f1f",
   "metadata": {},
   "outputs": [],
   "source": []
  },
  {
   "cell_type": "code",
   "execution_count": 9,
   "id": "9f92d4cd-7e48-43b7-b28e-930ccda62b46",
   "metadata": {},
   "outputs": [
    {
     "data": {
      "text/plain": [
       "[12, 24, 36]"
      ]
     },
     "execution_count": 9,
     "metadata": {},
     "output_type": "execute_result"
    }
   ],
   "source": [
    "list1=[1,2,3]\n",
    "list2=[11,22,33]\n",
    "# output ----> [12,24,23]\n",
    "lambda i,j:i+j,list1,list2\n",
    "map(lambda i,j:i+j,list1,list2)\n",
    "list(map(lambda i,j:i+j,list1,list2))"
   ]
  },
  {
   "cell_type": "code",
   "execution_count": 15,
   "id": "b529dd14-da7b-4c75-82eb-bdf9c8599f43",
   "metadata": {},
   "outputs": [
    {
     "name": "stdout",
     "output_type": "stream",
     "text": [
      "['h#d', 'mum#ai']\n"
     ]
    },
    {
     "data": {
      "text/plain": [
       "['h#d', 'mum#ai']"
      ]
     },
     "execution_count": 15,
     "metadata": {},
     "output_type": "execute_result"
    }
   ],
   "source": [
    "list1=['h#d','mum#ai','chennai']\n",
    "list2=[]\n",
    "# output ---> ['h#d','mum#ai']\n",
    "for i in list1:\n",
    "    if '#' in i:\n",
    "        list2.append(i)\n",
    "print(list2)\n",
    "\n",
    "[i for i in list1 if '#' in i]"
   ]
  },
  {
   "cell_type": "code",
   "execution_count": 17,
   "id": "a2ed863c-545a-4e54-b3f9-48903656e2b2",
   "metadata": {},
   "outputs": [
    {
     "data": {
      "text/plain": [
       "[True, True, False]"
      ]
     },
     "execution_count": 17,
     "metadata": {},
     "output_type": "execute_result"
    }
   ],
   "source": [
    "list1=['h#d','mum#ai','chennai']\n",
    "list(map(lambda i:'#' in i, list1))"
   ]
  },
  {
   "cell_type": "code",
   "execution_count": 19,
   "id": "3a3d26d9-770a-4b76-a027-574981fd3af4",
   "metadata": {},
   "outputs": [
    {
     "data": {
      "text/plain": [
       "['h#d', 'mum#ai']"
      ]
     },
     "execution_count": 19,
     "metadata": {},
     "output_type": "execute_result"
    }
   ],
   "source": [
    "# if you want like that ['h#d','mum#ai'] then use 'filter'\n",
    "list1=['h#d','mum#ai','chennai']\n",
    "list(filter(lambda i:'#' in i, list1))"
   ]
  },
  {
   "cell_type": "code",
   "execution_count": null,
   "id": "6ed0062f-9b6f-4205-8374-552244b461fa",
   "metadata": {},
   "outputs": [],
   "source": []
  }
 ],
 "metadata": {
  "kernelspec": {
   "display_name": "Python 3 (ipykernel)",
   "language": "python",
   "name": "python3"
  },
  "language_info": {
   "codemirror_mode": {
    "name": "ipython",
    "version": 3
   },
   "file_extension": ".py",
   "mimetype": "text/x-python",
   "name": "python",
   "nbconvert_exporter": "python",
   "pygments_lexer": "ipython3",
   "version": "3.12.4"
  }
 },
 "nbformat": 4,
 "nbformat_minor": 5
}
