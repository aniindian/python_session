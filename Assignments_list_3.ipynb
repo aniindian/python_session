{
 "cells": [
  {
   "cell_type": "code",
   "execution_count": null,
   "id": "e7cd1ce1-d99c-490e-aa11-aee37949ee41",
   "metadata": {},
   "outputs": [],
   "source": [
    "# take 5 questions in List1\n",
    "#take corresponding 5 answers in another List2\n",
    "#iterate through List1\n",
    "# every quetion should print\n",
    "# answer=input(\"tell the answer\")\n",
    "# answer will check in List2\n",
    "#else: No marks\n",
    "# if it is there marks=marks+1\n",
    "# how many write answers you made, how may answers you got\n",
    "#List1=['Who is PM of india', 'What is the capital of india', 'Who is President of india']\n",
    "#List2=['Modi', 'Delhi', 'Draupadi']\n",
    "#marks=0\n",
    "# correct_answr=0\n",
    "# for i in range(Len(List1)):\n",
    "# print('01:'<>)\n",
    "# # answer=input(\"enter the answer\") if answer. Lower()==List2.index(i):\n",
    "# I marks+=1"
   ]
  },
  {
   "cell_type": "code",
   "execution_count": 1,
   "id": "7c30aa09-9401-45e5-b2d3-897feedcc103",
   "metadata": {},
   "outputs": [],
   "source": [
    "list1 = [\"Text recognition study in:\",\"Image process study in:\",\"voice recognition study in:\",\"Machine learning is part of:\"]\n",
    "list2 = [\"NLP\",\"Deep learning\",\"NLP\",\"AI\"]"
   ]
  },
  {
   "cell_type": "code",
   "execution_count": 41,
   "id": "4a92bdbd-f3da-4d90-bdbf-1f933a84e56b",
   "metadata": {},
   "outputs": [
    {
     "name": "stdout",
     "output_type": "stream",
     "text": [
      "Please try to give answer below question\n",
      "Q1.Text recognition study in:\n"
     ]
    },
    {
     "name": "stdin",
     "output_type": "stream",
     "text": [
      " nlp\n"
     ]
    },
    {
     "name": "stdout",
     "output_type": "stream",
     "text": [
      "Q2.Image process study in:\n"
     ]
    },
    {
     "name": "stdin",
     "output_type": "stream",
     "text": [
      " deep learning\n"
     ]
    },
    {
     "name": "stdout",
     "output_type": "stream",
     "text": [
      "Q3.voice recognition study in:\n"
     ]
    },
    {
     "name": "stdin",
     "output_type": "stream",
     "text": [
      " nlp\n"
     ]
    },
    {
     "name": "stdout",
     "output_type": "stream",
     "text": [
      "Q4.Machine learning is part of:\n"
     ]
    },
    {
     "name": "stdin",
     "output_type": "stream",
     "text": [
      " ai\n"
     ]
    },
    {
     "name": "stdout",
     "output_type": "stream",
     "text": [
      "Total marks got:4\n",
      "Total correct Answer:4\n"
     ]
    }
   ],
   "source": [
    "marks = 0;\n",
    "correct_ans = 0;\n",
    "print(\"Please try to give answer all questions\")\n",
    "for i in range(len(list1)):\n",
    "    print(\"Q{}.{}\".format(i+1,list1[i]))\n",
    "    ans = input()\n",
    "    if ans.lower() == list2[i].lower():\n",
    "        marks+=1\n",
    "        correct_ans+=1\n",
    "           \n",
    "print(\"Total marks got:{}\".format( marks))\n",
    "print(\"Total correct Answer:{}\".format(correct_ans))\n",
    "    "
   ]
  },
  {
   "cell_type": "code",
   "execution_count": 27,
   "id": "7225a6ca-5243-4000-a97e-61f2a4e25460",
   "metadata": {},
   "outputs": [
    {
     "data": {
      "text/plain": [
       "0"
      ]
     },
     "execution_count": 27,
     "metadata": {},
     "output_type": "execute_result"
    }
   ],
   "source": [
    "list3 = [\"Nlp\"]\n",
    "list3.index(\"Nlp\")"
   ]
  },
  {
   "cell_type": "code",
   "execution_count": null,
   "id": "188e89a3-a24f-4860-be7a-9e7d3440f109",
   "metadata": {},
   "outputs": [],
   "source": []
  },
  {
   "cell_type": "code",
   "execution_count": null,
   "id": "d0c5cfff-5e60-4a60-ae48-47591d530e02",
   "metadata": {},
   "outputs": [],
   "source": []
  },
  {
   "cell_type": "code",
   "execution_count": null,
   "id": "a24ae210-c1fe-419c-b34f-2d540d529758",
   "metadata": {},
   "outputs": [],
   "source": []
  }
 ],
 "metadata": {
  "kernelspec": {
   "display_name": "Python 3 (ipykernel)",
   "language": "python",
   "name": "python3"
  },
  "language_info": {
   "codemirror_mode": {
    "name": "ipython",
    "version": 3
   },
   "file_extension": ".py",
   "mimetype": "text/x-python",
   "name": "python",
   "nbconvert_exporter": "python",
   "pygments_lexer": "ipython3",
   "version": "3.12.4"
  }
 },
 "nbformat": 4,
 "nbformat_minor": 5
}
