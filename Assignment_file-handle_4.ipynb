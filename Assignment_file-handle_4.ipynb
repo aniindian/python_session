{
 "cells": [
  {
   "cell_type": "code",
   "execution_count": 18,
   "id": "3f1da3fe-0c6e-40ad-b41d-1a3fb3980ff4",
   "metadata": {},
   "outputs": [],
   "source": [
    "# file_location = \"F:\\DS_AI\\material\"\n",
    "# file_name = \"emails\"\n",
    "# file_type = \".txt\""
   ]
  },
  {
   "cell_type": "code",
   "execution_count": 29,
   "id": "dbf1134b-164a-4e33-9092-3843e5a74342",
   "metadata": {},
   "outputs": [
    {
     "data": {
      "text/plain": [
       "'F:\\\\DS_AI\\\\material\\\\emails.txt'"
      ]
     },
     "execution_count": 29,
     "metadata": {},
     "output_type": "execute_result"
    }
   ],
   "source": [
    "file_path = \"F:\\\\DS_AI\\\\material\\\\emails.txt\"\n",
    "file_path"
   ]
  },
  {
   "cell_type": "code",
   "execution_count": 144,
   "id": "aac21f81-ee45-42a7-b1c8-3c923a4715c4",
   "metadata": {},
   "outputs": [
    {
     "data": {
      "text/plain": [
       "<_io.TextIOWrapper name='F:\\\\DS_AI\\\\material\\\\emails.txt' mode='r' encoding='cp1252'>"
      ]
     },
     "execution_count": 144,
     "metadata": {},
     "output_type": "execute_result"
    }
   ],
   "source": [
    "# open file \n",
    "file=open(file_path)\n",
    "file"
   ]
  },
  {
   "cell_type": "code",
   "execution_count": 148,
   "id": "dbc63044-9748-4219-9b9e-0b38d896b62e",
   "metadata": {},
   "outputs": [
    {
     "data": {
      "text/plain": [
       "'Santhanam, Jayendhran <jayendhran.ms@accenture.com>; Bhattacharjee, Sankalan <s.t.bhattacharjee@accenture.com>; Bansal, Vaishnavi <vaishnavi.a.bansal@accenture.com>; Chandra Shekhar, Pavuluri <p.a.chandra.shekhar@accenture.com>; J Doshi, Hiren <hiren.j.doshi@accenture.com>; Shimoga Prakash, Jeevan <j.shimoga.prakash@accenture.com>; Akhouri, Shreyash <shreyash.akhouri@accenture.com>; Nath, Nupanga <nupanga.nath@accenture.com>; Ponna, Ramesh <r.ponna@accenture.com>; Singhal, Aditya <aditya.d.singhal@accenture.com>; Gorai, Sumit <sumit.gorai@accenture.com>; Valdez, Mariele Dyan Francely <mariele.dyan.valdez@accenture.com>; Cancel, Abigail Kyle <abigail.kyle.cancel@accenture.com>; BONDALAKUNTA, POOJITHA <p.bondalakunta@accenture.com>; priyanka uppala, sai <sai.priyanka.uppala@accenture.com>; Nitin SHINDE, NIKHIL <nikhil.nitin.shinde@accenture.com>; Chidre, Swapna <swapna.chidre@accenture.com>; Sahu, Swastik <s.satyapragyan.sahu@accenture.com>; Sikka, Ankit <ankit.sikka@accenture.com>; Dara, Sai Madhukar <sai.madhukar.dara@accenture.com>; Pattanshetti, Sampreet <s.pattanshetti@accenture.com>; Sharma, Ayush <ayush.ad.sharma@accenture.com>; Latorena, Zairous Jay <zairous.jay.latorena@accenture.com>; Abhimanyu Pradhan, Roshankumar <r.abhimanyu.pradhan@accenture.com>; Jaiswal, Lehar <lehar.jaiswal@accenture.com>; Gupta, Retik <retik.gupta@accenture.com>; Satti, Phanindra Reddy <phanindra.r.satti@accenture.com>; Kumar, Manish <manish.dw.kumar@accenture.com>; Balakrishnan, Devi Priya <devi.p.balakrishnan@accenture.com>; M S, Roshni Priya <roshni.priya.m.s@accenture.com>; Cheerala, Vanaja <vanaja.cheerala@accenture.com>; G D, Chandrashekhar <chandrashekhar.g.d@accenture.com>; Nikhil Reddy, Madithati <m.nikhil.reddy@accenture.com>; Santos, Jeroshelle V. <jeroshelle.v.santos@accenture.com>; Milan, Gerald John <gerald.john.milan@accenture.com>; Gupta, Vivek <vivek.u.gupta@accenture.com>; Mandal, Sumit <s.sunilkumar.mandal@accenture.com>; Prakash Shukla, Ashok <ashok.prakash.shukla@accenture.com>; Naganathan, Siva <sivakumar.naganathan@accenture.com>; GAHLOT, NIKHIL <nikhil.gahlot@accenture.com>; Kanjilal, Sourav <s.a.kanti.kanjilal@accenture.com>; Nallagoni, Omkar <omkar.nallagoni@accenture.com>; Sahajan, Sandra <sandra.sahajan@accenture.com>; Nelluri, Chaitanya <chaitanya.nelluri@accenture.com>'"
      ]
     },
     "execution_count": 148,
     "metadata": {},
     "output_type": "execute_result"
    }
   ],
   "source": [
    "# read file\n",
    "file=open(file_path)\n",
    "data=file.read()\n",
    "data"
   ]
  },
  {
   "cell_type": "code",
   "execution_count": 251,
   "id": "1f680d2e-4c4f-415e-b97b-39a921b92be4",
   "metadata": {},
   "outputs": [],
   "source": [
    "# save the date/file into list \n",
    "file_path = \"F:\\\\DS_AI\\\\material\\\\emails.txt\"\n",
    "file=open(file_path)\n",
    "data_list = []\n",
    "for index,line in enumerate(file):                            \n",
    "    data_list.append(line)\n",
    "print(data_list)"
   ]
  },
  {
   "cell_type": "code",
   "execution_count": 249,
   "id": "654deb1e-9b03-4e58-98e6-f3768965f74d",
   "metadata": {},
   "outputs": [
    {
     "name": "stdout",
     "output_type": "stream",
     "text": [
      "[['Santhanam, Jayendhran <jayendhran.ms@accenture.com>', ' Bhattacharjee, Sankalan <s.t.bhattacharjee@accenture.com>', ' Bansal, Vaishnavi <vaishnavi.a.bansal@accenture.com>', ' Chandra Shekhar, Pavuluri <p.a.chandra.shekhar@accenture.com>', ' J Doshi, Hiren <hiren.j.doshi@accenture.com>', ' Shimoga Prakash, Jeevan <j.shimoga.prakash@accenture.com>', ' Akhouri, Shreyash <shreyash.akhouri@accenture.com>', ' Nath, Nupanga <nupanga.nath@accenture.com>', ' Ponna, Ramesh <r.ponna@accenture.com>', ' Singhal, Aditya <aditya.d.singhal@accenture.com>', ' Gorai, Sumit <sumit.gorai@accenture.com>', ' Valdez, Mariele Dyan Francely <mariele.dyan.valdez@accenture.com>', ' Cancel, Abigail Kyle <abigail.kyle.cancel@accenture.com>', ' BONDALAKUNTA, POOJITHA <p.bondalakunta@accenture.com>', ' priyanka uppala, sai <sai.priyanka.uppala@accenture.com>', ' Nitin SHINDE, NIKHIL <nikhil.nitin.shinde@accenture.com>', ' Chidre, Swapna <swapna.chidre@accenture.com>', ' Sahu, Swastik <s.satyapragyan.sahu@accenture.com>', ' Sikka, Ankit <ankit.sikka@accenture.com>', ' Dara, Sai Madhukar <sai.madhukar.dara@accenture.com>', ' Pattanshetti, Sampreet <s.pattanshetti@accenture.com>', ' Sharma, Ayush <ayush.ad.sharma@accenture.com>', ' Latorena, Zairous Jay <zairous.jay.latorena@accenture.com>', ' Abhimanyu Pradhan, Roshankumar <r.abhimanyu.pradhan@accenture.com>', ' Jaiswal, Lehar <lehar.jaiswal@accenture.com>', ' Gupta, Retik <retik.gupta@accenture.com>', ' Satti, Phanindra Reddy <phanindra.r.satti@accenture.com>', ' Kumar, Manish <manish.dw.kumar@accenture.com>', ' Balakrishnan, Devi Priya <devi.p.balakrishnan@accenture.com>', ' M S, Roshni Priya <roshni.priya.m.s@accenture.com>', ' Cheerala, Vanaja <vanaja.cheerala@accenture.com>', ' G D, Chandrashekhar <chandrashekhar.g.d@accenture.com>', ' Nikhil Reddy, Madithati <m.nikhil.reddy@accenture.com>', ' Santos, Jeroshelle V. <jeroshelle.v.santos@accenture.com>', ' Milan, Gerald John <gerald.john.milan@accenture.com>', ' Gupta, Vivek <vivek.u.gupta@accenture.com>', ' Mandal, Sumit <s.sunilkumar.mandal@accenture.com>', ' Prakash Shukla, Ashok <ashok.prakash.shukla@accenture.com>', ' Naganathan, Siva <sivakumar.naganathan@accenture.com>', ' GAHLOT, NIKHIL <nikhil.gahlot@accenture.com>', ' Kanjilal, Sourav <s.a.kanti.kanjilal@accenture.com>', ' Nallagoni, Omkar <omkar.nallagoni@accenture.com>', ' Sahajan, Sandra <sandra.sahajan@accenture.com>', ' Nelluri, Chaitanya <chaitanya.nelluri@accenture.com>']]\n"
     ]
    }
   ],
   "source": [
    "# sepreate on the basis of (;) and store in string_list\n",
    "file_path = \"F:\\\\DS_AI\\\\material\\\\emails.txt\"\n",
    "file=open(file_path)\n",
    "string_list=[]\n",
    "for index,line in enumerate(file):                            \n",
    "    string_list.append(line.split(';'))\n",
    "print(string_list)"
   ]
  },
  {
   "cell_type": "code",
   "execution_count": 319,
   "id": "704da890-6df4-4b30-a4e5-8ea143dbfce3",
   "metadata": {},
   "outputs": [
    {
     "name": "stdout",
     "output_type": "stream",
     "text": [
      "['Santhanam', ' Bhattacharjee', ' Bansal', ' Chandra Shekhar', ' J Doshi', ' Shimoga Prakash', ' Akhouri', ' Nath', ' Ponna', ' Singhal', ' Gorai', ' Valdez', ' Cancel', ' BONDALAKUNTA', ' priyanka uppala', ' Nitin SHINDE', ' Chidre', ' Sahu', ' Sikka', ' Dara', ' Pattanshetti', ' Sharma', ' Latorena', ' Abhimanyu Pradhan', ' Jaiswal', ' Gupta', ' Satti', ' Kumar', ' Balakrishnan', ' M S', ' Cheerala', ' G D', ' Nikhil Reddy', ' Santos', ' Milan', ' Gupta', ' Mandal', ' Prakash Shukla', ' Naganathan', ' GAHLOT', ' Kanjilal', ' Nallagoni', ' Sahajan', ' Nelluri']\n",
      "-------------------------------------------------------------------------------------------------------------------------\n",
      "[' Jayendhran ', ' Sankalan ', ' Vaishnavi ', ' Pavuluri ', ' Hiren ', ' Jeevan ', ' Shreyash ', ' Nupanga ', ' Ramesh ', ' Aditya ', ' Sumit ', ' Mariele Dyan Francely ', ' Abigail Kyle ', ' POOJITHA ', ' sai ', ' NIKHIL ', ' Swapna ', ' Swastik ', ' Ankit ', ' Sai Madhukar ', ' Sampreet ', ' Ayush ', ' Zairous Jay ', ' Roshankumar ', ' Lehar ', ' Retik ', ' Phanindra Reddy ', ' Manish ', ' Devi Priya ', ' Roshni Priya ', ' Vanaja ', ' Chandrashekhar ', ' Madithati ', ' Jeroshelle V. ', ' Gerald John ', ' Vivek ', ' Sumit ', ' Ashok ', ' Siva ', ' NIKHIL ', ' Sourav ', ' Omkar ', ' Sandra ', ' Chaitanya ']\n",
      "-------------------------------------------------------------------------------------------------------------------------\n",
      "['jayendhran.ms@accenture.com', 's.t.bhattacharjee@accenture.com', 'vaishnavi.a.bansal@accenture.com', 'p.a.chandra.shekhar@accenture.com', 'hiren.j.doshi@accenture.com', 'j.shimoga.prakash@accenture.com', 'shreyash.akhouri@accenture.com', 'nupanga.nath@accenture.com', 'r.ponna@accenture.com', 'aditya.d.singhal@accenture.com', 'sumit.gorai@accenture.com', 'mariele.dyan.valdez@accenture.com', 'abigail.kyle.cancel@accenture.com', 'p.bondalakunta@accenture.com', 'sai.priyanka.uppala@accenture.com', 'nikhil.nitin.shinde@accenture.com', 'swapna.chidre@accenture.com', 's.satyapragyan.sahu@accenture.com', 'ankit.sikka@accenture.com', 'sai.madhukar.dara@accenture.com', 's.pattanshetti@accenture.com', 'ayush.ad.sharma@accenture.com', 'zairous.jay.latorena@accenture.com', 'r.abhimanyu.pradhan@accenture.com', 'lehar.jaiswal@accenture.com', 'retik.gupta@accenture.com', 'phanindra.r.satti@accenture.com', 'manish.dw.kumar@accenture.com', 'devi.p.balakrishnan@accenture.com', 'roshni.priya.m.s@accenture.com', 'vanaja.cheerala@accenture.com', 'chandrashekhar.g.d@accenture.com', 'm.nikhil.reddy@accenture.com', 'jeroshelle.v.santos@accenture.com', 'gerald.john.milan@accenture.com', 'vivek.u.gupta@accenture.com', 's.sunilkumar.mandal@accenture.com', 'ashok.prakash.shukla@accenture.com', 'sivakumar.naganathan@accenture.com', 'nikhil.gahlot@accenture.com', 's.a.kanti.kanjilal@accenture.com', 'omkar.nallagoni@accenture.com', 'sandra.sahajan@accenture.com', 'chaitanya.nelluri@accenture.com']\n",
      "-------------------------------------------------------------------------------------------------------------------------\n",
      "['accenture', 'accenture', 'accenture', 'accenture', 'accenture', 'accenture', 'accenture', 'accenture', 'accenture', 'accenture', 'accenture', 'accenture', 'accenture', 'accenture', 'accenture', 'accenture', 'accenture', 'accenture', 'accenture', 'accenture', 'accenture', 'accenture', 'accenture', 'accenture', 'accenture', 'accenture', 'accenture', 'accenture', 'accenture', 'accenture', 'accenture', 'accenture', 'accenture', 'accenture', 'accenture', 'accenture', 'accenture', 'accenture', 'accenture', 'accenture', 'accenture', 'accenture', 'accenture', 'accenture']\n"
     ]
    }
   ],
   "source": [
    "# Now sepreate first _name, last_name, email, company\n",
    "dict1={}\n",
    "first_name = []\n",
    "second_name =[]\n",
    "emails = []\n",
    "company = []\n",
    "\n",
    "for i in string_list[0]: \n",
    "    first_name.append(i[:i.find(',')])\n",
    "    second_name.append(i[i.find(',')+1:i.find('<')])\n",
    "    emails.append(i[i.find('<')+1:i.find('>')])\n",
    "    company.append(i[i.find('@')+1:i.find('.com')])\n",
    "\n",
    "print(first_name)\n",
    "print(\"-------------------------------------------------------------------------------------------------------------------------\")\n",
    "print(second_name)\n",
    "print(\"-------------------------------------------------------------------------------------------------------------------------\")\n",
    "print(emails)\n",
    "print(\"-------------------------------------------------------------------------------------------------------------------------\")\n",
    "print(company)"
   ]
  },
  {
   "cell_type": "code",
   "execution_count": null,
   "id": "c4b80c1e-6168-4c23-80a3-1026587013b7",
   "metadata": {},
   "outputs": [],
   "source": []
  },
  {
   "cell_type": "code",
   "execution_count": 311,
   "id": "3bfa36bc-de8c-43e2-ae9e-88b16871fc36",
   "metadata": {},
   "outputs": [
    {
     "name": "stdout",
     "output_type": "stream",
     "text": [
      "['accenture', 'accenture', 'accenture', 'accenture', 'accenture', 'accenture', 'accenture', 'accenture', 'accenture', 'accenture', 'accenture', 'accenture', 'accenture', 'accenture', 'accenture', 'accenture', 'accenture', 'accenture', 'accenture', 'accenture', 'accenture', 'accenture', 'accenture', 'accenture', 'accenture', 'accenture', 'accenture', 'accenture', 'accenture', 'accenture', 'accenture', 'accenture', 'accenture', 'accenture', 'accenture', 'accenture', 'accenture', 'accenture', 'accenture', 'accenture', 'accenture', 'accenture', 'accenture', 'accenture']\n"
     ]
    }
   ],
   "source": [
    "# list comprehension of above code \n",
    "first_name = []\n",
    "second_name =[]\n",
    "emails = []\n",
    "company = []\n",
    "first_name=[i[:i.find(',')] for i in string_list[0]]\n",
    "# print(first_name)\n",
    "\n",
    "second_name =[i[i.find(',')+1:i.find('<')] for i in string_list[0]]\n",
    "# print(second_name)\n",
    "\n",
    "emails = [i[i.find('<')+1:i.find('>')] for i in string_list[0]]\n",
    "# print(emails)\n",
    "\n",
    "company = [i[i.find('@')+1:i.find('.com')] for i in string_list[0]]\n",
    "print(company)"
   ]
  },
  {
   "cell_type": "code",
   "execution_count": null,
   "id": "270d296f-4c49-4f74-bc69-8aa2635721c2",
   "metadata": {},
   "outputs": [],
   "source": []
  },
  {
   "cell_type": "code",
   "execution_count": null,
   "id": "62a48f22-20e5-4697-b4bc-e7c0c9297de6",
   "metadata": {},
   "outputs": [],
   "source": []
  },
  {
   "cell_type": "code",
   "execution_count": null,
   "id": "67992624-a2cd-46b7-a6e0-3e7934020169",
   "metadata": {},
   "outputs": [],
   "source": [
    "# How to split list ---> after iterating we got string then we can use split() method \n",
    "# split_list = []\n",
    "# for i in range(len(data_list)):\n",
    "#        split_list.append(data_list[i].split(';'))\n",
    "# print(string_list)"
   ]
  },
  {
   "cell_type": "code",
   "execution_count": null,
   "id": "b7bb6337-b387-4b17-9ca9-19e4240f1a8b",
   "metadata": {},
   "outputs": [],
   "source": []
  },
  {
   "cell_type": "code",
   "execution_count": null,
   "id": "c47fb6cc-2f9c-4f95-8294-6cb9c865d1b3",
   "metadata": {},
   "outputs": [],
   "source": []
  }
 ],
 "metadata": {
  "kernelspec": {
   "display_name": "Python 3 (ipykernel)",
   "language": "python",
   "name": "python3"
  },
  "language_info": {
   "codemirror_mode": {
    "name": "ipython",
    "version": 3
   },
   "file_extension": ".py",
   "mimetype": "text/x-python",
   "name": "python",
   "nbconvert_exporter": "python",
   "pygments_lexer": "ipython3",
   "version": "3.12.4"
  }
 },
 "nbformat": 4,
 "nbformat_minor": 5
}
