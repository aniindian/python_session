{
 "cells": [
  {
   "cell_type": "code",
   "execution_count": 1,
   "id": "3d62bbb6-f39c-46a0-98bb-5bdc26afa26b",
   "metadata": {},
   "outputs": [
    {
     "data": {
      "text/plain": [
       "'python'"
      ]
     },
     "execution_count": 1,
     "metadata": {},
     "output_type": "execute_result"
    }
   ],
   "source": [
    "string = 'python'\n",
    "string"
   ]
  },
  {
   "cell_type": "code",
   "execution_count": 5,
   "id": "35d146fc-6bb0-485a-b5ce-ee8c543d799e",
   "metadata": {},
   "outputs": [
    {
     "name": "stdout",
     "output_type": "stream",
     "text": [
      "Python\n"
     ]
    },
    {
     "data": {
      "text/plain": [
       "str"
      ]
     },
     "execution_count": 5,
     "metadata": {},
     "output_type": "execute_result"
    }
   ],
   "source": [
    "string = \"Python\"\n",
    "print(string)\n",
    "type(string)"
   ]
  },
  {
   "cell_type": "code",
   "execution_count": null,
   "id": "3555ff4b-4b64-40e3-a92f-d0076e788ffb",
   "metadata": {},
   "outputs": [],
   "source": []
  },
  {
   "cell_type": "code",
   "execution_count": null,
   "id": "815fec31-0a5c-4bd1-a44e-c7461c0bcf5f",
   "metadata": {},
   "outputs": [],
   "source": []
  },
  {
   "cell_type": "code",
   "execution_count": null,
   "id": "4fb345cb-7034-46fa-819d-ec0643125cc8",
   "metadata": {},
   "outputs": [],
   "source": []
  },
  {
   "cell_type": "code",
   "execution_count": null,
   "id": "ead90790-ddd7-4ee4-ae06-097d855b78d6",
   "metadata": {},
   "outputs": [],
   "source": []
  },
  {
   "cell_type": "code",
   "execution_count": 15,
   "id": "7e3085e2-0238-4228-bb22-f03ac2e804e3",
   "metadata": {},
   "outputs": [
    {
     "name": "stdout",
     "output_type": "stream",
     "text": [
      "No Python documentation found for 'ABCDEFGHIJKLMNOPQRSTUVWXYZ'.\n",
      "Use help() to get the interactive help utility.\n",
      "Use help(str) for help on the str class.\n",
      "\n"
     ]
    }
   ],
   "source": [
    "import string\n",
    "dir(string)\n",
    "help(string.ascii_uppercase)"
   ]
  },
  {
   "cell_type": "code",
   "execution_count": 19,
   "id": "42c3d670-a8df-448f-a586-434c5291146c",
   "metadata": {},
   "outputs": [
    {
     "name": "stdout",
     "output_type": "stream",
     "text": [
      "ASCII value of A is 65\n",
      "ASCII value of B is 66\n",
      "ASCII value of C is 67\n",
      "ASCII value of D is 68\n",
      "ASCII value of E is 69\n",
      "ASCII value of F is 70\n",
      "ASCII value of G is 71\n",
      "ASCII value of H is 72\n",
      "ASCII value of I is 73\n",
      "ASCII value of J is 74\n",
      "ASCII value of K is 75\n",
      "ASCII value of L is 76\n",
      "ASCII value of M is 77\n",
      "ASCII value of N is 78\n",
      "ASCII value of O is 79\n",
      "ASCII value of P is 80\n",
      "ASCII value of Q is 81\n",
      "ASCII value of R is 82\n",
      "ASCII value of S is 83\n",
      "ASCII value of T is 84\n",
      "ASCII value of U is 85\n",
      "ASCII value of V is 86\n",
      "ASCII value of W is 87\n",
      "ASCII value of X is 88\n",
      "ASCII value of Y is 89\n",
      "ASCII value of Z is 90\n"
     ]
    }
   ],
   "source": [
    "import string\n",
    "for i in string.ascii_uppercase:\n",
    "    print(\"ASCII value of {} is {}\".format(i,ord(i)))"
   ]
  },
  {
   "cell_type": "code",
   "execution_count": 32,
   "id": "76130197-62e7-4f1c-8d8f-446aa088f727",
   "metadata": {},
   "outputs": [
    {
     "name": "stdout",
     "output_type": "stream",
     "text": [
      "ASCII value of a is 97\n",
      "ASCII value of b is 98\n",
      "ASCII value of c is 99\n",
      "ASCII value of d is 100\n",
      "ASCII value of e is 101\n",
      "ASCII value of f is 102\n",
      "ASCII value of g is 103\n",
      "ASCII value of h is 104\n",
      "ASCII value of i is 105\n",
      "ASCII value of j is 106\n",
      "ASCII value of k is 107\n",
      "ASCII value of l is 108\n",
      "ASCII value of m is 109\n",
      "ASCII value of n is 110\n",
      "ASCII value of o is 111\n",
      "ASCII value of p is 112\n",
      "ASCII value of q is 113\n",
      "ASCII value of r is 114\n",
      "ASCII value of s is 115\n",
      "ASCII value of t is 116\n",
      "ASCII value of u is 117\n",
      "ASCII value of v is 118\n",
      "ASCII value of w is 119\n",
      "ASCII value of x is 120\n",
      "ASCII value of y is 121\n",
      "ASCII value of z is 122\n"
     ]
    }
   ],
   "source": [
    "import string\n",
    "for i in string.ascii_lowercase:\n",
    "    print(\"ASCII value of {} is {}\".format(i,ord(i)))"
   ]
  },
  {
   "cell_type": "code",
   "execution_count": 37,
   "id": "ad8d11a0-db6c-4dde-8d49-4e0f386501e3",
   "metadata": {},
   "outputs": [
    {
     "name": "stdout",
     "output_type": "stream",
     "text": [
      "No Python documentation found for '!\"#$%&\\'()*+,-./:;<=>?@[\\\\]^_`{|}~'.\n",
      "Use help() to get the interactive help utility.\n",
      "Use help(str) for help on the str class.\n",
      "\n"
     ]
    }
   ],
   "source": [
    "import string\n",
    "help(string.punctuation)"
   ]
  },
  {
   "cell_type": "code",
   "execution_count": 39,
   "id": "f7dfe8f7-b1b9-4fbe-b686-000ce501ac45",
   "metadata": {},
   "outputs": [
    {
     "name": "stdout",
     "output_type": "stream",
     "text": [
      "ASCII value of ! is 33\n",
      "ASCII value of \" is 34\n",
      "ASCII value of # is 35\n",
      "ASCII value of $ is 36\n",
      "ASCII value of % is 37\n",
      "ASCII value of & is 38\n",
      "ASCII value of ' is 39\n",
      "ASCII value of ( is 40\n",
      "ASCII value of ) is 41\n",
      "ASCII value of * is 42\n",
      "ASCII value of + is 43\n",
      "ASCII value of , is 44\n",
      "ASCII value of - is 45\n",
      "ASCII value of . is 46\n",
      "ASCII value of / is 47\n",
      "ASCII value of : is 58\n",
      "ASCII value of ; is 59\n",
      "ASCII value of < is 60\n",
      "ASCII value of = is 61\n",
      "ASCII value of > is 62\n",
      "ASCII value of ? is 63\n",
      "ASCII value of @ is 64\n",
      "ASCII value of [ is 91\n",
      "ASCII value of \\ is 92\n",
      "ASCII value of ] is 93\n",
      "ASCII value of ^ is 94\n",
      "ASCII value of _ is 95\n",
      "ASCII value of ` is 96\n",
      "ASCII value of { is 123\n",
      "ASCII value of | is 124\n",
      "ASCII value of } is 125\n",
      "ASCII value of ~ is 126\n"
     ]
    }
   ],
   "source": [
    "import string\n",
    "for i in string.punctuation:\n",
    "    print(\"ASCII value of {} is {}\".format(i,ord(i)))"
   ]
  },
  {
   "cell_type": "code",
   "execution_count": 55,
   "id": "81e926e5-548e-477d-abb5-12409358075c",
   "metadata": {},
   "outputs": [
    {
     "name": "stdout",
     "output_type": "stream",
     "text": [
      "1 \u0001\n",
      "2 \u0002\n",
      "3 \u0003\n",
      "4 \u0004\n",
      "5 \u0005\n",
      "6 \u0006\n",
      "7 \u0007\n",
      "8\n",
      "9 \t\n",
      "10 \n",
      "\n",
      "11 \u000b",
      "\n",
      "12 \f",
      "\n",
      "13 \n",
      "14 \u000e\n",
      "15 \u000f\n",
      "16 \u0010\n",
      "17 \u0011\n",
      "18 \u0012\n",
      "19 \u0013\n",
      "20 \u0014\n",
      "21 \u0015\n",
      "22 \u0016\n",
      "23 \u0017\n",
      "24 \u0018\n",
      "25 \u0019\n",
      "26 \u001a\n",
      "27 \u001b\n",
      "28 \u001c",
      "\n",
      "29 \u001d",
      "\n",
      "30 \u001e",
      "\n",
      "31 \u001f\n",
      "32  \n",
      "33 !\n",
      "34 \"\n",
      "35 #\n",
      "36 $\n",
      "37 %\n",
      "38 &\n",
      "39 '\n",
      "40 (\n",
      "41 )\n",
      "42 *\n",
      "43 +\n",
      "44 ,\n",
      "45 -\n",
      "46 .\n",
      "47 /\n",
      "48 0\n",
      "49 1\n"
     ]
    }
   ],
   "source": [
    "for i in range(1,50):\n",
    "    print(i,chr(i))"
   ]
  },
  {
   "cell_type": "code",
   "execution_count": 57,
   "id": "8625f916-6095-490f-95fb-ce306b884cfd",
   "metadata": {},
   "outputs": [
    {
     "name": "stdout",
     "output_type": "stream",
     "text": [
      "33   !\n",
      "34   \"\n",
      "35   #\n",
      "36   $\n",
      "37   %\n",
      "38   &\n",
      "39   '\n",
      "40   (\n",
      "41   )\n",
      "42   *\n",
      "43   +\n",
      "44   ,\n",
      "45   -\n",
      "46   .\n",
      "47   /\n",
      "48   0\n",
      "49   1\n",
      "50   2\n",
      "51   3\n",
      "52   4\n",
      "53   5\n",
      "54   6\n",
      "55   7\n",
      "56   8\n",
      "57   9\n",
      "58   :\n",
      "59   ;\n",
      "60   <\n",
      "61   =\n",
      "62   >\n",
      "63   ?\n",
      "64   @\n",
      "65   A\n",
      "66   B\n",
      "67   C\n",
      "68   D\n",
      "69   E\n",
      "70   F\n",
      "71   G\n",
      "72   H\n",
      "73   I\n",
      "74   J\n",
      "75   K\n",
      "76   L\n",
      "77   M\n",
      "78   N\n",
      "79   O\n",
      "80   P\n",
      "81   Q\n",
      "82   R\n",
      "83   S\n",
      "84   T\n",
      "85   U\n",
      "86   V\n",
      "87   W\n",
      "88   X\n",
      "89   Y\n",
      "90   Z\n",
      "91   [\n",
      "92   \\\n",
      "93   ]\n",
      "94   ^\n",
      "95   _\n",
      "96   `\n",
      "97   a\n",
      "98   b\n",
      "99   c\n",
      "100   d\n",
      "101   e\n",
      "102   f\n",
      "103   g\n",
      "104   h\n",
      "105   i\n",
      "106   j\n",
      "107   k\n",
      "108   l\n",
      "109   m\n",
      "110   n\n",
      "111   o\n",
      "112   p\n",
      "113   q\n",
      "114   r\n",
      "115   s\n",
      "116   t\n",
      "117   u\n",
      "118   v\n",
      "119   w\n",
      "120   x\n",
      "121   y\n",
      "122   z\n",
      "123   {\n",
      "124   |\n",
      "125   }\n",
      "126   ~\n",
      "127   \n",
      "128   \n",
      "129   \n"
     ]
    }
   ],
   "source": [
    "for i in range(33,130):\n",
    "    print(i,\" \", chr(i))"
   ]
  },
  {
   "cell_type": "code",
   "execution_count": 64,
   "id": "0b29d73c-50d3-4020-8987-fc9c393b0fd9",
   "metadata": {},
   "outputs": [
    {
     "data": {
      "text/plain": [
       "'abcdefghijklmnopqrstuvwxyzABCDEFGHIJKLMNOPQRSTUVWXYZ'"
      ]
     },
     "execution_count": 64,
     "metadata": {},
     "output_type": "execute_result"
    }
   ],
   "source": [
    "string.ascii_letters"
   ]
  },
  {
   "cell_type": "code",
   "execution_count": 68,
   "id": "9893b06a-bfe3-44d5-bdfa-8e7002436870",
   "metadata": {},
   "outputs": [
    {
     "data": {
      "text/plain": [
       "'0123456789abcdefghijklmnopqrstuvwxyzABCDEFGHIJKLMNOPQRSTUVWXYZ!\"#$%&\\'()*+,-./:;<=>?@[\\\\]^_`{|}~ \\t\\n\\r\\x0b\\x0c'"
      ]
     },
     "execution_count": 68,
     "metadata": {},
     "output_type": "execute_result"
    }
   ],
   "source": [
    "string.printable"
   ]
  },
  {
   "cell_type": "code",
   "execution_count": null,
   "id": "3a723986-111d-40c4-89c1-5ce6eb65e1d6",
   "metadata": {},
   "outputs": [],
   "source": []
  },
  {
   "cell_type": "code",
   "execution_count": 74,
   "id": "6da2dd46-ae6b-4c02-91b4-2e6f9c4608b0",
   "metadata": {},
   "outputs": [
    {
     "name": "stdout",
     "output_type": "stream",
     "text": [
      "3\n"
     ]
    }
   ],
   "source": [
    "string1 = 'hai how are you and how do you do'\n",
    "count=0;\n",
    "for i in string1:\n",
    "    if i=='a':\n",
    "        count+=1;\n",
    "print(count)\n"
   ]
  },
  {
   "cell_type": "code",
   "execution_count": null,
   "id": "f10dd3a9-3fda-440c-94d6-25bdc9966eb1",
   "metadata": {},
   "outputs": [],
   "source": []
  },
  {
   "cell_type": "code",
   "execution_count": 90,
   "id": "46357941-2f76-4586-89d8-304eceb74834",
   "metadata": {},
   "outputs": [
    {
     "name": "stdout",
     "output_type": "stream",
     "text": [
      "7\n"
     ]
    }
   ],
   "source": [
    "# method=1\n",
    "string1 = \"hai how are you\"\n",
    "count=0\n",
    "for i in string1:\n",
    "    if i=='a':\n",
    "        count+=1\n",
    "    if i=='e':\n",
    "        count+=1\n",
    "    if i=='i':\n",
    "        count+=1\n",
    "    if i=='o':\n",
    "        count+=1\n",
    "    if i=='u':\n",
    "        count+=1\n",
    "print(count)"
   ]
  },
  {
   "cell_type": "code",
   "execution_count": 100,
   "id": "707fed8b-105a-4f93-a2ff-6d80ae3f4497",
   "metadata": {},
   "outputs": [
    {
     "name": "stdout",
     "output_type": "stream",
     "text": [
      "7\n"
     ]
    }
   ],
   "source": [
    "# method-2\n",
    "string1 = \"hai how are you\"\n",
    "vowel = 'a e i o u'\n",
    "count=0\n",
    "for i in string1:\n",
    "    if i in'aeiou':\n",
    "        count+=1\n",
    "print(count)"
   ]
  },
  {
   "cell_type": "code",
   "execution_count": 104,
   "id": "a1416a63-35ca-49a2-a113-1a2149cae062",
   "metadata": {},
   "outputs": [
    {
     "name": "stdout",
     "output_type": "stream",
     "text": [
      "5\n"
     ]
    }
   ],
   "source": [
    "#Find unique string\n",
    "string1 = \"hai how are you\"\n",
    "empt = \"\"\n",
    "count=0\n",
    "for i in string1:\n",
    "    if i in 'aeiou':\n",
    "        if i in empt:\n",
    "            continue\n",
    "        else:\n",
    "          count+=1\n",
    "          empt=empt+i\n",
    "print(count)\n",
    "\n",
    "    "
   ]
  },
  {
   "cell_type": "code",
   "execution_count": 108,
   "id": "af37e95e-ef8f-47f4-9eca-0c9412b7b1a7",
   "metadata": {},
   "outputs": [
    {
     "name": "stdout",
     "output_type": "stream",
     "text": [
      "p\n",
      "y\n",
      "t\n",
      "h\n",
      "o\n",
      "n\n"
     ]
    }
   ],
   "source": [
    "string1 = 'python'\n",
    "for i in string1:\n",
    "    print(i)"
   ]
  },
  {
   "cell_type": "code",
   "execution_count": 7,
   "id": "79aa86c2-f348-4f3f-adaf-ba93e37d7bb5",
   "metadata": {},
   "outputs": [
    {
     "name": "stdout",
     "output_type": "stream",
     "text": [
      "p\n",
      "y\n",
      "t\n",
      "h\n",
      "o\n",
      "n\n"
     ]
    }
   ],
   "source": [
    "string1 = 'python'\n",
    "for i in range(len(string1)):\n",
    "    print(string1[i])"
   ]
  },
  {
   "cell_type": "markdown",
   "id": "e12be60f-f5df-4b15-8b04-eda70044ed9e",
   "metadata": {},
   "source": [
    "**intex**"
   ]
  },
  {
   "cell_type": "code",
   "execution_count": 25,
   "id": "cb14e301-0a05-4fbd-b48a-e7ecd8c5b0be",
   "metadata": {},
   "outputs": [
    {
     "name": "stdout",
     "output_type": "stream",
     "text": [
      "P\n",
      "n\n"
     ]
    }
   ],
   "source": [
    "string = \"Python\"\n",
    "print(string[0])  # positive index 0 to len(string)\n",
    "print(string[-1]) # Negative index -len(string) to -1\n"
   ]
  },
  {
   "cell_type": "markdown",
   "id": "ed986081-b5a7-49e5-971d-d1c7c0a9b4b8",
   "metadata": {},
   "source": [
    "**slice**"
   ]
  },
  {
   "cell_type": "code",
   "execution_count": 36,
   "id": "abf49c91-7fad-4c88-800c-b77d2aadc435",
   "metadata": {},
   "outputs": [
    {
     "name": "stdout",
     "output_type": "stream",
     "text": [
      "i,i \n"
     ]
    }
   ],
   "source": [
    "string1 = 'Hii,i am Aniket'\n",
    "print(string1[2:6]) # 2 to 6-1"
   ]
  },
  {
   "cell_type": "code",
   "execution_count": 50,
   "id": "3dcf96ec-909f-4aee-9068-c3b1b3007b43",
   "metadata": {},
   "outputs": [
    {
     "data": {
      "text/plain": [
       "'iia'"
      ]
     },
     "execution_count": 50,
     "metadata": {},
     "output_type": "execute_result"
    }
   ],
   "source": [
    "string1 = 'Hii i am Aniket'\n",
    "string1[2:8:2]"
   ]
  },
  {
   "cell_type": "code",
   "execution_count": 76,
   "id": "f9f449bb-5ddd-4a65-ae9e-5b6a40a0f17b",
   "metadata": {},
   "outputs": [
    {
     "name": "stdout",
     "output_type": "stream",
     "text": [
      "weLcome\n"
     ]
    }
   ],
   "source": [
    "string1 = 'welcome'  # WElcome\n",
    "str1 = string1[0:2]\n",
    "str2 = string1[3:len(string1)]\n",
    "str = str1+'L'+str2\n",
    "print(str)"
   ]
  },
  {
   "cell_type": "code",
   "execution_count": 80,
   "id": "ace86a6d-4725-40d1-99d7-414e1ab2bbe5",
   "metadata": {},
   "outputs": [
    {
     "data": {
      "text/plain": [
       "'weLcome'"
      ]
     },
     "execution_count": 80,
     "metadata": {},
     "output_type": "execute_result"
    }
   ],
   "source": [
    "string1 = 'welcome'  # WElcome\n",
    "string1.replace('l','L')"
   ]
  },
  {
   "cell_type": "code",
   "execution_count": 5,
   "id": "31fca787-ee36-4a47-8cc3-deababce1756",
   "metadata": {},
   "outputs": [
    {
     "name": "stdout",
     "output_type": "stream",
     "text": [
      "Welcome\n"
     ]
    }
   ],
   "source": [
    "string1 = 'welcome'\n",
    "# use capitalize() method ----> it use to make first letter capital\n",
    "print(string1.capitalize())"
   ]
  },
  {
   "cell_type": "code",
   "execution_count": 17,
   "id": "45629789-f018-417d-a5cd-337a5b88c194",
   "metadata": {},
   "outputs": [
    {
     "data": {
      "text/plain": [
       "'WELCOME'"
      ]
     },
     "execution_count": 17,
     "metadata": {},
     "output_type": "execute_result"
    }
   ],
   "source": [
    "string1 = 'welcome'\n",
    "# use upper() method ---->it used for to change small letter into capital letter\n",
    "string1.upper()"
   ]
  },
  {
   "cell_type": "code",
   "execution_count": 63,
   "id": "b719c777-e578-40c9-9dc2-392659b8f06d",
   "metadata": {},
   "outputs": [
    {
     "data": {
      "text/plain": [
       "'welcome'"
      ]
     },
     "execution_count": 63,
     "metadata": {},
     "output_type": "execute_result"
    }
   ],
   "source": [
    "string1 = 'WELCOME'\n",
    "string1.lower()\n"
   ]
  },
  {
   "cell_type": "code",
   "execution_count": 26,
   "id": "d0c1857d-b57a-47eb-80ca-9ee4fa29d507",
   "metadata": {},
   "outputs": [
    {
     "data": {
      "text/plain": [
       "2"
      ]
     },
     "execution_count": 26,
     "metadata": {},
     "output_type": "execute_result"
    }
   ],
   "source": [
    "string1 = 'hellow i am aniket'\n",
    "string1.count('a')"
   ]
  },
  {
   "cell_type": "code",
   "execution_count": 59,
   "id": "2de34ef4-c626-4bd9-96fa-b6b8070ff6dc",
   "metadata": {},
   "outputs": [
    {
     "data": {
      "text/plain": [
       "2"
      ]
     },
     "execution_count": 59,
     "metadata": {},
     "output_type": "execute_result"
    }
   ],
   "source": [
    "string2 = 'ola ola ola'\n",
    "# o l a   o l a   o  Sl  a\n",
    "# 1 2 3 4 5 6 7 8 9 10 11\n",
    "# here we are counting the number of 'a' from  index\n",
    "string2.count('a',4)"
   ]
  },
  {
   "cell_type": "code",
   "execution_count": 39,
   "id": "e80f8ab2-16c3-4e53-9f07-cbdfc7459019",
   "metadata": {},
   "outputs": [
    {
     "data": {
      "text/plain": [
       "1"
      ]
     },
     "execution_count": 39,
     "metadata": {},
     "output_type": "execute_result"
    }
   ],
   "source": [
    "string2 = 'ola ola ola'\n",
    "# o l a   o l a   o  Sl  a\n",
    "# 1 2 3 4 5 6 7 8 9 10 11\n",
    "# here we are counting the number of 'a' from  index\n",
    "string2.count('a',4,6) # ---> (4)start and (6)end       output---> 0\n",
    "string2.count('a',4,7) # ---> (4)start and (7)end"
   ]
  },
  {
   "cell_type": "code",
   "execution_count": 56,
   "id": "a6143348-07bb-468f-aeeb-96659554a244",
   "metadata": {},
   "outputs": [
    {
     "name": "stdout",
     "output_type": "stream",
     "text": [
      "3\n"
     ]
    }
   ],
   "source": [
    "string2 = 'ola ola ola'\n",
    "count = 0\n",
    "for i in range(len(string2)):\n",
    "    if string2[i:i+3] =='ola':\n",
    "        count+=1\n",
    "print(count)"
   ]
  },
  {
   "cell_type": "markdown",
   "id": "15656983-fd5a-4ade-a8e4-972c5b17762c",
   "metadata": {},
   "source": [
    "**replace**"
   ]
  },
  {
   "cell_type": "code",
   "execution_count": 65,
   "id": "34393fb2-ef6a-4219-8b5b-38dc84ceeb3f",
   "metadata": {},
   "outputs": [
    {
     "data": {
      "text/plain": [
       "'@esta@t'"
      ]
     },
     "execution_count": 65,
     "metadata": {},
     "output_type": "execute_result"
    }
   ],
   "source": [
    "string1 = 'restart'\n",
    "string1.replace('r','@')"
   ]
  },
  {
   "cell_type": "code",
   "execution_count": 67,
   "id": "0e144ba8-24ea-42c3-a292-5488ed6b36fb",
   "metadata": {},
   "outputs": [
    {
     "data": {
      "text/plain": [
       "'@estart'"
      ]
     },
     "execution_count": 67,
     "metadata": {},
     "output_type": "execute_result"
    }
   ],
   "source": [
    "string1 = 'restart'\n",
    "string1.replace('r','@',1)"
   ]
  },
  {
   "cell_type": "code",
   "execution_count": 75,
   "id": "83f3501e-93bd-4489-aa37-cdfcc803b0b3",
   "metadata": {},
   "outputs": [
    {
     "data": {
      "text/plain": [
       "'@esta@t'"
      ]
     },
     "execution_count": 75,
     "metadata": {},
     "output_type": "execute_result"
    }
   ],
   "source": [
    "string1 = 'restart'\n",
    "string1.replace('r','@',-2)"
   ]
  },
  {
   "cell_type": "code",
   "execution_count": 101,
   "id": "5ba13f68-9887-4b83-acb0-eff070601c63",
   "metadata": {},
   "outputs": [
    {
     "data": {
      "text/plain": [
       "'resta$t'"
      ]
     },
     "execution_count": 101,
     "metadata": {},
     "output_type": "execute_result"
    }
   ],
   "source": [
    "string1 = 'restart'\n",
    "# output resta$t\n",
    "s1 = string1[0]\n",
    "s2 = string1[1:].replace('r','$')\n",
    "s1+s2"
   ]
  },
  {
   "cell_type": "code",
   "execution_count": 109,
   "id": "fd767f04-49f3-4fa0-b806-32f8b25e3aa0",
   "metadata": {},
   "outputs": [
    {
     "data": {
      "text/plain": [
       "'resta$t'"
      ]
     },
     "execution_count": 109,
     "metadata": {},
     "output_type": "execute_result"
    }
   ],
   "source": [
    "string1[::-1].replace('r','$',1)[::-1]"
   ]
  },
  {
   "cell_type": "markdown",
   "id": "5664fe82-ef7a-438b-aa7b-0102b1fb77da",
   "metadata": {},
   "source": [
    "**index**`"
   ]
  },
  {
   "cell_type": "code",
   "execution_count": 113,
   "id": "4ab75933-7170-4903-bbbb-afa876feee6a",
   "metadata": {},
   "outputs": [
    {
     "data": {
      "text/plain": [
       "3"
      ]
     },
     "execution_count": 113,
     "metadata": {},
     "output_type": "execute_result"
    }
   ],
   "source": [
    "string1.index('c')\n",
    "string1 = 'welcome'"
   ]
  },
  {
   "cell_type": "code",
   "execution_count": 115,
   "id": "23af6cb4-ee48-4e3b-960c-6321b2f4d372",
   "metadata": {},
   "outputs": [
    {
     "ename": "ValueError",
     "evalue": "substring not found",
     "output_type": "error",
     "traceback": [
      "\u001b[1;31m---------------------------------------------------------------------------\u001b[0m",
      "\u001b[1;31mValueError\u001b[0m                                Traceback (most recent call last)",
      "Cell \u001b[1;32mIn[115], line 1\u001b[0m\n\u001b[1;32m----> 1\u001b[0m string1\u001b[38;5;241m.\u001b[39mindex(\u001b[38;5;124m'\u001b[39m\u001b[38;5;124mz\u001b[39m\u001b[38;5;124m'\u001b[39m)\n",
      "\u001b[1;31mValueError\u001b[0m: substring not found"
     ]
    }
   ],
   "source": [
    "string1.index('z')"
   ]
  },
  {
   "cell_type": "code",
   "execution_count": 119,
   "id": "f07099cb-515f-4313-a731-6029304732fd",
   "metadata": {},
   "outputs": [
    {
     "data": {
      "text/plain": [
       "0"
      ]
     },
     "execution_count": 119,
     "metadata": {},
     "output_type": "execute_result"
    }
   ],
   "source": [
    "string1.index('')"
   ]
  },
  {
   "cell_type": "code",
   "execution_count": 140,
   "id": "550f222d-6ca3-469d-a3bf-551e39a49a39",
   "metadata": {},
   "outputs": [
    {
     "name": "stdout",
     "output_type": "stream",
     "text": [
      "1\n",
      "5\n",
      "9\n",
      "13\n",
      "17\n"
     ]
    }
   ],
   "source": [
    "str1 = 'hai hai hai hai hai hai'\n",
    "print(str1.index('a'))\n",
    "print(str1.index('a',2))\n",
    "print(str1.index('a',6))\n",
    "print(str1.index('a',10))\n",
    "print(str1.index('a',14))"
   ]
  },
  {
   "cell_type": "code",
   "execution_count": 7,
   "id": "7f8e74d5-e3cb-4cf2-9a88-d87f60bd9a40",
   "metadata": {},
   "outputs": [],
   "source": [
    "str1 = 'hai hai hai hai hai hai'"
   ]
  },
  {
   "cell_type": "code",
   "execution_count": 12,
   "id": "85f9d16b-10c9-4672-afb9-bd053ffbe299",
   "metadata": {},
   "outputs": [
    {
     "data": {
      "text/plain": [
       "-1"
      ]
     },
     "execution_count": 12,
     "metadata": {},
     "output_type": "execute_result"
    }
   ],
   "source": [
    "string1 = 'hai hai'\n",
    "string1.find('z')"
   ]
  },
  {
   "cell_type": "code",
   "execution_count": 14,
   "id": "b51a59d5-f51e-4311-be05-cb0e87403471",
   "metadata": {},
   "outputs": [
    {
     "data": {
      "text/plain": [
       "1"
      ]
     },
     "execution_count": 14,
     "metadata": {},
     "output_type": "execute_result"
    }
   ],
   "source": [
    "string1 = 'hai hai'\n",
    "string1.find('a')"
   ]
  },
  {
   "cell_type": "code",
   "execution_count": 16,
   "id": "24cabe4f-cbbc-46ea-b3ea-298c78b008a4",
   "metadata": {},
   "outputs": [
    {
     "data": {
      "text/plain": [
       "5"
      ]
     },
     "execution_count": 16,
     "metadata": {},
     "output_type": "execute_result"
    }
   ],
   "source": [
    "string1 = 'hai hai'\n",
    "string1.find('a',2)"
   ]
  },
  {
   "cell_type": "markdown",
   "id": "c02354c2-1414-4104-b35c-9a6259acb3df",
   "metadata": {},
   "source": [
    "$$strip|rstrip|lstrip$$"
   ]
  },
  {
   "cell_type": "code",
   "execution_count": 9,
   "id": "568119c7-9655-4f75-ad17-312c26f2a731",
   "metadata": {},
   "outputs": [],
   "source": [
    "str1 = ' hello how are you '\n",
    "str2 = ' hello how are you'\n",
    "str3 = 'hello how are you '"
   ]
  },
  {
   "cell_type": "code",
   "execution_count": 13,
   "id": "bc9e0c17-9a52-4058-9c8d-9aeddb32f4a2",
   "metadata": {},
   "outputs": [
    {
     "name": "stdout",
     "output_type": "stream",
     "text": [
      "hello how are you\n"
     ]
    }
   ],
   "source": [
    "print(str1.strip()) # remove all space"
   ]
  },
  {
   "cell_type": "code",
   "execution_count": 17,
   "id": "5ca20f21-4875-4c65-a35a-c4e481115d8f",
   "metadata": {},
   "outputs": [
    {
     "name": "stdout",
     "output_type": "stream",
     "text": [
      "hello how are you\n"
     ]
    }
   ],
   "source": [
    "print(str2.lstrip())"
   ]
  },
  {
   "cell_type": "code",
   "execution_count": 19,
   "id": "dd551611-b047-48eb-a09d-58c179441ae4",
   "metadata": {},
   "outputs": [
    {
     "name": "stdout",
     "output_type": "stream",
     "text": [
      "hello how are you\n"
     ]
    }
   ],
   "source": [
    "print(str3.rstrip())"
   ]
  },
  {
   "cell_type": "code",
   "execution_count": null,
   "id": "63f56734-ec78-448c-bd35-ce95ec00db21",
   "metadata": {},
   "outputs": [],
   "source": []
  },
  {
   "cell_type": "code",
   "execution_count": 60,
   "id": "2e9c9b82-f2ca-4603-9fc2-7f170540fd38",
   "metadata": {},
   "outputs": [
    {
     "name": "stdout",
     "output_type": "stream",
     "text": [
      "6\n",
      "python\n",
      "annoconda\n",
      "nareshit\n"
     ]
    }
   ],
   "source": [
    "# WAP to extract\n",
    "\n",
    "str1 = 'python.annoconda@nareshit.com'\n",
    "\n",
    "print(str1.find('.')) # it will return index of '.'\n",
    "\n",
    "print(str1[:str1.find('.')]) # it will return string  0 till '.' index number\n",
    "\n",
    "print(str1[str1.find('.')+1:str1.find('@')]) # it will return string '.' index number+1 to '@' index number\n",
    "\n",
    "print(str1[str1.find('@')+1:str1.find('.',str1.find('.')+1)]) \n"
   ]
  },
  {
   "cell_type": "code",
   "execution_count": 98,
   "id": "25c97109-1ccd-4ce6-aa66-8a2325d2abf1",
   "metadata": {},
   "outputs": [
    {
     "name": "stdout",
     "output_type": "stream",
     "text": [
      "3\n",
      "1489\n"
     ]
    }
   ],
   "source": [
    "# Extract \n",
    "str1 = '3.1489'\n",
    "print(str1[:str1.find('.')])\n",
    "print(str1[str1.find('.')+1:])"
   ]
  },
  {
   "cell_type": "code",
   "execution_count": null,
   "id": "e9a88aca-fd3e-4942-91fa-de4d01df41d8",
   "metadata": {},
   "outputs": [],
   "source": []
  },
  {
   "cell_type": "markdown",
   "id": "bc51dbcc-24c7-4145-bfd1-39e1815b2fc9",
   "metadata": {},
   "source": [
    " $$ startswith and endswith $$"
   ]
  },
  {
   "cell_type": "code",
   "execution_count": 130,
   "id": "80056987-b7e1-4835-8cdc-01c8f5a5a12c",
   "metadata": {},
   "outputs": [
    {
     "name": "stdout",
     "output_type": "stream",
     "text": [
      "True\n",
      "True\n"
     ]
    }
   ],
   "source": [
    "str1 = 'hai how are you'\n",
    "print(str1.startswith('hai'))\n",
    "print(str1.startswith('h'))"
   ]
  },
  {
   "cell_type": "code",
   "execution_count": 128,
   "id": "f5a8a155-466c-4f23-af6c-9c94fd75532c",
   "metadata": {},
   "outputs": [
    {
     "name": "stdout",
     "output_type": "stream",
     "text": [
      "True\n",
      "True\n"
     ]
    }
   ],
   "source": [
    "str1 = 'hai how are you'\n",
    "print(str1.endswith('u'))\n",
    "print(str1.endswith('you'))"
   ]
  },
  {
   "cell_type": "code",
   "execution_count": 134,
   "id": "9a6f2aa8-4cb5-4ccd-b37b-c2ef3327de48",
   "metadata": {},
   "outputs": [
    {
     "name": "stdout",
     "output_type": "stream",
     "text": [
      "True\n",
      "True\n"
     ]
    }
   ],
   "source": [
    "print(str1.startswith(str1))\n",
    "print(str1.endswith(str1))"
   ]
  },
  {
   "cell_type": "code",
   "execution_count": null,
   "id": "702b4a31-4630-4438-b917-70941edd772d",
   "metadata": {},
   "outputs": [],
   "source": [
    "# More method\n",
    "# isalnum\n",
    "# isalpha\n",
    "# isascii\n",
    "# isdecimal\n",
    "# isdigit\n",
    "# isidentifire\n",
    "# islower\n",
    "# isnumberic\n",
    "# isprintable\n",
    "# isspace\n",
    "# istitle\n",
    "# isupper"
   ]
  },
  {
   "cell_type": "code",
   "execution_count": 136,
   "id": "43e6c333-394b-4705-83da-4c6e3c440cfd",
   "metadata": {},
   "outputs": [
    {
     "data": {
      "text/plain": [
       "True"
      ]
     },
     "execution_count": 136,
     "metadata": {},
     "output_type": "execute_result"
    }
   ],
   "source": [
    "str1 = 'abc'\n",
    "str1.isalpha()\n"
   ]
  },
  {
   "cell_type": "markdown",
   "id": "63c2b3ff-ba01-4f1f-8d64-78bf7b29f697",
   "metadata": {},
   "source": [
    "$$ split $$"
   ]
  },
  {
   "cell_type": "code",
   "execution_count": 143,
   "id": "b2871c26-c3b2-4d4e-b3ed-940303e2afbf",
   "metadata": {},
   "outputs": [
    {
     "data": {
      "text/plain": [
       "['hai', 'how,', 'are', 'you']"
      ]
     },
     "execution_count": 143,
     "metadata": {},
     "output_type": "execute_result"
    }
   ],
   "source": [
    "str1 = 'hai how are you'\n",
    "str1.split()"
   ]
  },
  {
   "cell_type": "code",
   "execution_count": 145,
   "id": "7528aeef-d318-4ab7-9830-8df02ec94aea",
   "metadata": {},
   "outputs": [
    {
     "data": {
      "text/plain": [
       "['hai how', ' are you']"
      ]
     },
     "execution_count": 145,
     "metadata": {},
     "output_type": "execute_result"
    }
   ],
   "source": [
    "str1 = 'hai how, are you'\n",
    "str1.split(',')"
   ]
  },
  {
   "cell_type": "code",
   "execution_count": null,
   "id": "741fe3dc-6f5d-49fd-849e-e6d39017eecd",
   "metadata": {},
   "outputs": [],
   "source": []
  }
 ],
 "metadata": {
  "kernelspec": {
   "display_name": "Python 3 (ipykernel)",
   "language": "python",
   "name": "python3"
  },
  "language_info": {
   "codemirror_mode": {
    "name": "ipython",
    "version": 3
   },
   "file_extension": ".py",
   "mimetype": "text/x-python",
   "name": "python",
   "nbconvert_exporter": "python",
   "pygments_lexer": "ipython3",
   "version": "3.12.4"
  }
 },
 "nbformat": 4,
 "nbformat_minor": 5
}
