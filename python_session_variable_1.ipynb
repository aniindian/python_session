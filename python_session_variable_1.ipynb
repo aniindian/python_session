{
 "cells": [
  {
   "cell_type": "markdown",
   "id": "8439c192-45d4-4c78-b3db-b563b685701d",
   "metadata": {},
   "source": [
    "## Variable:"
   ]
  },
  {
   "cell_type": "code",
   "execution_count": null,
   "id": "b927990d-2f89-4b33-b702-0915399b0ea8",
   "metadata": {},
   "outputs": [],
   "source": [
    "- Variable term vary\n",
    "- You want to save some values at some place, that place is called variables\n",
    "- variables and constant"
   ]
  },
  {
   "cell_type": "markdown",
   "id": "1648bf0f-9bc2-4e0f-92ff-bdd0b9e952a1",
   "metadata": {},
   "source": [
    "## Rules to define variables ##"
   ]
  },
  {
   "cell_type": "code",
   "execution_count": 8,
   "id": "33413919-6b68-4daf-97b0-23819e32dba6",
   "metadata": {},
   "outputs": [
    {
     "data": {
      "text/plain": [
       "100"
      ]
     },
     "execution_count": 8,
     "metadata": {},
     "output_type": "execute_result"
    }
   ],
   "source": [
    "# upper case\n",
    "NUMBER = 100\n",
    "NUMBER"
   ]
  },
  {
   "cell_type": "code",
   "execution_count": 10,
   "id": "64e73ee9-4824-4828-86cb-07917ba52b7c",
   "metadata": {},
   "outputs": [
    {
     "data": {
      "text/plain": [
       "100"
      ]
     },
     "execution_count": 10,
     "metadata": {},
     "output_type": "execute_result"
    }
   ],
   "source": [
    "# lower case\n",
    "number = 100\n",
    "number"
   ]
  },
  {
   "cell_type": "code",
   "execution_count": 12,
   "id": "63c1d266-4a7f-4e30-a990-e348562d622d",
   "metadata": {},
   "outputs": [
    {
     "data": {
      "text/plain": [
       "200"
      ]
     },
     "execution_count": 12,
     "metadata": {},
     "output_type": "execute_result"
    }
   ],
   "source": [
    "# combination of lower and upper case\n",
    "NUMber = 200\n",
    "NUMber "
   ]
  },
  {
   "cell_type": "code",
   "execution_count": 20,
   "id": "f5c45954-b22c-4577-902d-a248af06c8ff",
   "metadata": {},
   "outputs": [
    {
     "data": {
      "text/plain": [
       "300"
      ]
     },
     "execution_count": 20,
     "metadata": {},
     "output_type": "execute_result"
    }
   ],
   "source": [
    "# Combination of letter and Numbers, Number as a suffix\n",
    "number123 = 300\n",
    "number123"
   ]
  },
  {
   "cell_type": "code",
   "execution_count": 14,
   "id": "f4e691e5-4f2b-468f-9c6a-19d514f80655",
   "metadata": {},
   "outputs": [
    {
     "ename": "SyntaxError",
     "evalue": "invalid decimal literal (3312135846.py, line 2)",
     "output_type": "error",
     "traceback": [
      "\u001b[1;36m  Cell \u001b[1;32mIn[14], line 2\u001b[1;36m\u001b[0m\n\u001b[1;33m    123number = 300\u001b[0m\n\u001b[1;37m      ^\u001b[0m\n\u001b[1;31mSyntaxError\u001b[0m\u001b[1;31m:\u001b[0m invalid decimal literal\n"
     ]
    }
   ],
   "source": [
    "# combination of letter and Numbers, Numbers as a prefix\n",
    "123number = 300\n",
    "123number = 300"
   ]
  },
  {
   "cell_type": "code",
   "execution_count": 22,
   "id": "63f5afb4-b3a8-47b5-a489-01438c6f28a9",
   "metadata": {},
   "outputs": [
    {
     "ename": "SyntaxError",
     "evalue": "invalid syntax (190460238.py, line 2)",
     "output_type": "error",
     "traceback": [
      "\u001b[1;36m  Cell \u001b[1;32mIn[22], line 2\u001b[1;36m\u001b[0m\n\u001b[1;33m    number% = 400\u001b[0m\n\u001b[1;37m            ^\u001b[0m\n\u001b[1;31mSyntaxError\u001b[0m\u001b[1;31m:\u001b[0m invalid syntax\n"
     ]
    }
   ],
   "source": [
    "# spcial charecters\n",
    "number% = 400\n",
    "number%"
   ]
  },
  {
   "cell_type": "code",
   "execution_count": 26,
   "id": "f7d1dd09-e3c0-452f-95bf-b28ea89abeda",
   "metadata": {},
   "outputs": [
    {
     "data": {
      "text/plain": [
       "300"
      ]
     },
     "execution_count": 26,
     "metadata": {},
     "output_type": "execute_result"
    }
   ],
   "source": [
    "# underscore\n",
    "number_ = 300\n",
    "number_"
   ]
  },
  {
   "cell_type": "code",
   "execution_count": 28,
   "id": "4c96c441-7cd5-4253-893a-8e14c8e146f2",
   "metadata": {},
   "outputs": [
    {
     "data": {
      "text/plain": [
       "700"
      ]
     },
     "execution_count": 28,
     "metadata": {},
     "output_type": "execute_result"
    }
   ],
   "source": [
    "sum = 700\n",
    "sum"
   ]
  },
  {
   "cell_type": "markdown",
   "id": "ab79d30f-12b9-4ae5-a05c-6e3223490e8e",
   "metadata": {},
   "source": [
    "### Note:\n",
    "    Sum is math operation i will works\n",
    "    but don't use as a variable"
   ]
  },
  {
   "cell_type": "code",
   "execution_count": 38,
   "id": "2a35222b-3cce-4eec-ab59-d1c250062b55",
   "metadata": {},
   "outputs": [
    {
     "ename": "SyntaxError",
     "evalue": "invalid syntax (1732750004.py, line 1)",
     "output_type": "error",
     "traceback": [
      "\u001b[1;36m  Cell \u001b[1;32mIn[38], line 1\u001b[1;36m\u001b[0m\n\u001b[1;33m    Number one = 100\u001b[0m\n\u001b[1;37m           ^\u001b[0m\n\u001b[1;31mSyntaxError\u001b[0m\u001b[1;31m:\u001b[0m invalid syntax\n"
     ]
    }
   ],
   "source": [
    "# space is not allowed\n",
    "Number one = 100 "
   ]
  },
  {
   "cell_type": "code",
   "execution_count": 40,
   "id": "795bd55c-be38-4ecb-bee0-8c58bb9d4b10",
   "metadata": {},
   "outputs": [
    {
     "data": {
      "text/plain": [
       "100"
      ]
     },
     "execution_count": 40,
     "metadata": {},
     "output_type": "execute_result"
    }
   ],
   "source": [
    "number_one = 100\n",
    "number_one"
   ]
  },
  {
   "cell_type": "code",
   "execution_count": 42,
   "id": "70016ac8-692d-4d1b-9d16-4c3b091ce70e",
   "metadata": {},
   "outputs": [
    {
     "data": {
      "text/plain": [
       "100"
      ]
     },
     "execution_count": 42,
     "metadata": {},
     "output_type": "execute_result"
    }
   ],
   "source": [
    "_ = 100\n",
    "_"
   ]
  },
  {
   "cell_type": "code",
   "execution_count": null,
   "id": "4034b5f4-2bc9-4322-b14d-fcabfea61c0d",
   "metadata": {},
   "outputs": [],
   "source": []
  }
 ],
 "metadata": {
  "kernelspec": {
   "display_name": "Python 3 (ipykernel)",
   "language": "python",
   "name": "python3"
  },
  "language_info": {
   "codemirror_mode": {
    "name": "ipython",
    "version": 3
   },
   "file_extension": ".py",
   "mimetype": "text/x-python",
   "name": "python",
   "nbconvert_exporter": "python",
   "pygments_lexer": "ipython3",
   "version": "3.12.4"
  }
 },
 "nbformat": 4,
 "nbformat_minor": 5
}
