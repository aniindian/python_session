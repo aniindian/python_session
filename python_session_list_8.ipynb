{
 "cells": [
  {
   "cell_type": "markdown",
   "id": "8a05b6b5-1c82-44ee-9431-15b4ce8e2102",
   "metadata": {},
   "source": [
    "### LIST ###"
   ]
  },
  {
   "cell_type": "code",
   "execution_count": 3,
   "id": "6ff41c99-dafa-4ab3-8c45-f6440c6d9446",
   "metadata": {},
   "outputs": [
    {
     "data": {
      "text/plain": [
       "[1, 2, 3, 4]"
      ]
     },
     "execution_count": 3,
     "metadata": {},
     "output_type": "execute_result"
    }
   ],
   "source": [
    "list1 = [1, 2, 3, 4]\n",
    "list1"
   ]
  },
  {
   "cell_type": "code",
   "execution_count": 7,
   "id": "596611ad-3a33-48dd-be23-ab17efe89ed7",
   "metadata": {},
   "outputs": [
    {
     "data": {
      "text/plain": [
       "['A', 'B', 'C', 'D']"
      ]
     },
     "execution_count": 7,
     "metadata": {},
     "output_type": "execute_result"
    }
   ],
   "source": [
    "list2 = ['A', 'B', 'C', 'D']\n",
    "list2"
   ]
  },
  {
   "cell_type": "code",
   "execution_count": 9,
   "id": "72ab010a-16d9-4b9b-82cf-f8e1091ea008",
   "metadata": {},
   "outputs": [
    {
     "data": {
      "text/plain": [
       "[1, 2, 3, 4, 'A', 'B', 'C', 'D']"
      ]
     },
     "execution_count": 9,
     "metadata": {},
     "output_type": "execute_result"
    }
   ],
   "source": [
    "list3 = [1, 2, 3, 4,'A', 'B', 'C', 'D']\n",
    "list3"
   ]
  },
  {
   "cell_type": "code",
   "execution_count": 13,
   "id": "6c670d5f-7ec8-49ad-b509-015b8e5fec05",
   "metadata": {},
   "outputs": [
    {
     "data": {
      "text/plain": [
       "[1, 'Apple', 10.5, (10+20j), True]"
      ]
     },
     "execution_count": 13,
     "metadata": {},
     "output_type": "execute_result"
    }
   ],
   "source": [
    "list4 = [1,'Apple',10.5, 10+20j, True]\n",
    "list4"
   ]
  },
  {
   "cell_type": "code",
   "execution_count": 15,
   "id": "d2404e38-02c2-479e-99fc-31b69f040e4f",
   "metadata": {},
   "outputs": [
    {
     "data": {
      "text/plain": [
       "[100, 100, 100]"
      ]
     },
     "execution_count": 15,
     "metadata": {},
     "output_type": "execute_result"
    }
   ],
   "source": [
    "list5 = [100,100,100]\n",
    "list5"
   ]
  },
  {
   "cell_type": "code",
   "execution_count": 17,
   "id": "322f8c32-3264-4695-b41d-72aee60b00a9",
   "metadata": {},
   "outputs": [
    {
     "data": {
      "text/plain": [
       "[[1, 2, 3]]"
      ]
     },
     "execution_count": 17,
     "metadata": {},
     "output_type": "execute_result"
    }
   ],
   "source": [
    "list6 = [[1,2,3]]\n",
    "list6"
   ]
  },
  {
   "cell_type": "markdown",
   "id": "842c8f8b-cca9-4cd0-a9ee-126aeb2f861c",
   "metadata": {},
   "source": [
    "$$ index $$"
   ]
  },
  {
   "cell_type": "code",
   "execution_count": 20,
   "id": "144bab2d-dcf1-4856-b313-e7841f9b709d",
   "metadata": {},
   "outputs": [
    {
     "data": {
      "text/plain": [
       "[1, 2, 3, 4, 'A', 'B', 'C', 'D']"
      ]
     },
     "execution_count": 20,
     "metadata": {},
     "output_type": "execute_result"
    }
   ],
   "source": [
    "# In python index starts with 0\n",
    "list3"
   ]
  },
  {
   "cell_type": "code",
   "execution_count": 23,
   "id": "1869fbb0-1dfc-494c-b8a6-649d2bc79be6",
   "metadata": {},
   "outputs": [
    {
     "data": {
      "text/plain": [
       "1"
      ]
     },
     "execution_count": 23,
     "metadata": {},
     "output_type": "execute_result"
    }
   ],
   "source": [
    "list3[0]"
   ]
  },
  {
   "cell_type": "code",
   "execution_count": 25,
   "id": "fd51999c-86c9-4213-8fc8-35577337318d",
   "metadata": {},
   "outputs": [
    {
     "name": "stdout",
     "output_type": "stream",
     "text": [
      "Positive index is:0 and Negative index is:-8 for an element 1 \n",
      "Positive index is:1 and Negative index is:-7 for an element 2 \n",
      "Positive index is:2 and Negative index is:-6 for an element 3 \n",
      "Positive index is:3 and Negative index is:-5 for an element 4 \n",
      "Positive index is:4 and Negative index is:-4 for an element A \n",
      "Positive index is:5 and Negative index is:-3 for an element B \n",
      "Positive index is:6 and Negative index is:-2 for an element C \n",
      "Positive index is:7 and Negative index is:-1 for an element D \n"
     ]
    }
   ],
   "source": [
    "for i in range(len(list3)):\n",
    "    print(\"Positive index is:{} and Negative index is:{} for an element {} \".format(i,i-len(list3),list3[i]))"
   ]
  },
  {
   "cell_type": "code",
   "execution_count": 37,
   "id": "9d3512f5-e65f-44d7-9a29-868e99de8b9d",
   "metadata": {},
   "outputs": [
    {
     "name": "stdout",
     "output_type": "stream",
     "text": [
      "Ab\n",
      "Cd\n",
      "Ef\n"
     ]
    }
   ],
   "source": [
    "# WAP find the elements which are having len<3\n",
    "lists = ['Apple','Ball','Cat','Ab','Cd','Ef']\n",
    "for i in range(len(lists)):\n",
    "    if len(lists[i])<3:\n",
    "        print(lists[i])"
   ]
  },
  {
   "cell_type": "code",
   "execution_count": null,
   "id": "81c03215-57cc-4684-a2e6-eddf5bc468ce",
   "metadata": {},
   "outputs": [],
   "source": [
    "i=\n",
    "while i!"
   ]
  },
  {
   "cell_type": "code",
   "execution_count": 49,
   "id": "9f6f8b27-7e6c-4574-98f2-1d1b351f100f",
   "metadata": {},
   "outputs": [
    {
     "name": "stdout",
     "output_type": "stream",
     "text": [
      "App#e\n",
      "B#ll\n",
      "C#t\n"
     ]
    }
   ],
   "source": [
    "# WAP find the elements which having #\n",
    "lists = ['App#e','B#ll','C#t','Ab','Cd','Ef']\n",
    "for i in lists:\n",
    "   if '#' in i:\n",
    "       print(i)\n",
    "        "
   ]
  },
  {
   "cell_type": "code",
   "execution_count": 51,
   "id": "5af7767a-ae99-4c9d-9c6e-f7435c91f267",
   "metadata": {},
   "outputs": [
    {
     "name": "stdout",
     "output_type": "stream",
     "text": [
      "3\n"
     ]
    }
   ],
   "source": [
    "# WAP count the elements which having #\n",
    "lists = ['App#e','B#ll','C#t','Ab','Cd','Ef']\n",
    "count = 0\n",
    "for i in lists:\n",
    "   if '#' in i:\n",
    "        count+=1\n",
    "print(count)"
   ]
  },
  {
   "cell_type": "code",
   "execution_count": 53,
   "id": "73f94e2c-ca4a-48ff-a4b5-e655dd5ca09b",
   "metadata": {},
   "outputs": [
    {
     "data": {
      "text/plain": [
       "'Ball'"
      ]
     },
     "execution_count": 53,
     "metadata": {},
     "output_type": "execute_result"
    }
   ],
   "source": [
    "# retrive the ball using index\n",
    "list1 = [1,2,3,['Apple','Ball']]\n",
    "list1[3][1]"
   ]
  },
  {
   "cell_type": "code",
   "execution_count": null,
   "id": "abc20dd1-1c11-4415-8676-45af3b3af574",
   "metadata": {},
   "outputs": [],
   "source": [
    "list1 = [1,2,3,['Apple','Ball']]\n"
   ]
  },
  {
   "cell_type": "code",
   "execution_count": 57,
   "id": "13159248-58f1-4cad-8ff1-44b8f92cd740",
   "metadata": {},
   "outputs": [
    {
     "data": {
      "text/plain": [
       "'cherry'"
      ]
     },
     "execution_count": 57,
     "metadata": {},
     "output_type": "execute_result"
    }
   ],
   "source": [
    "list2 = [[[[[[['cherry']]]]]]]\n",
    "list2[0][0][0][0][0][0][0]"
   ]
  },
  {
   "cell_type": "code",
   "execution_count": 59,
   "id": "a83c35cd-8dbd-4089-99e5-cc31f5581615",
   "metadata": {},
   "outputs": [
    {
     "data": {
      "text/plain": [
       "'Car'"
      ]
     },
     "execution_count": 59,
     "metadata": {},
     "output_type": "execute_result"
    }
   ],
   "source": [
    "list3 = [[[['A','B',[[[1,2,3,['Car']]]]]]]]\n",
    "list3[0][0][0][2][0][0][3][0]"
   ]
  },
  {
   "cell_type": "markdown",
   "id": "87228db3-1630-41d7-b1b8-9e1d25a8619b",
   "metadata": {},
   "source": [
    "$$ Mutable$$"
   ]
  },
  {
   "cell_type": "code",
   "execution_count": 61,
   "id": "a3151c13-7c2d-4997-b39d-b4ef0350804c",
   "metadata": {},
   "outputs": [
    {
     "data": {
      "text/plain": [
       "[100, 'B', 'C']"
      ]
     },
     "execution_count": 61,
     "metadata": {},
     "output_type": "execute_result"
    }
   ],
   "source": [
    "list1 = ['A','B','C']\n",
    "list1[0] = 100\n",
    "list1"
   ]
  },
  {
   "cell_type": "markdown",
   "id": "0bca6efc-1c9c-4408-b88f-630b59de9a86",
   "metadata": {},
   "source": [
    "$$ slice $$"
   ]
  },
  {
   "cell_type": "code",
   "execution_count": null,
   "id": "845a9411-c7a6-413d-a0a2-c6238a392b08",
   "metadata": {},
   "outputs": [],
   "source": []
  },
  {
   "cell_type": "code",
   "execution_count": 66,
   "id": "05e74788-a6dc-4ffa-9bc8-900af201272a",
   "metadata": {},
   "outputs": [
    {
     "data": {
      "text/plain": [
       "['__add__',\n",
       " '__class__',\n",
       " '__class_getitem__',\n",
       " '__contains__',\n",
       " '__delattr__',\n",
       " '__delitem__',\n",
       " '__dir__',\n",
       " '__doc__',\n",
       " '__eq__',\n",
       " '__format__',\n",
       " '__ge__',\n",
       " '__getattribute__',\n",
       " '__getitem__',\n",
       " '__getstate__',\n",
       " '__gt__',\n",
       " '__hash__',\n",
       " '__iadd__',\n",
       " '__imul__',\n",
       " '__init__',\n",
       " '__init_subclass__',\n",
       " '__iter__',\n",
       " '__le__',\n",
       " '__len__',\n",
       " '__lt__',\n",
       " '__mul__',\n",
       " '__ne__',\n",
       " '__new__',\n",
       " '__reduce__',\n",
       " '__reduce_ex__',\n",
       " '__repr__',\n",
       " '__reversed__',\n",
       " '__rmul__',\n",
       " '__setattr__',\n",
       " '__setitem__',\n",
       " '__sizeof__',\n",
       " '__str__',\n",
       " '__subclasshook__',\n",
       " 'append',\n",
       " 'clear',\n",
       " 'copy',\n",
       " 'count',\n",
       " 'extend',\n",
       " 'index',\n",
       " 'insert',\n",
       " 'pop',\n",
       " 'remove',\n",
       " 'reverse',\n",
       " 'sort']"
      ]
     },
     "execution_count": 66,
     "metadata": {},
     "output_type": "execute_result"
    }
   ],
   "source": [
    "dir([])"
   ]
  },
  {
   "cell_type": "markdown",
   "id": "9ccf3d28-f7ff-4e6d-b162-1d333b017fe1",
   "metadata": {},
   "source": [
    "$$ clear-copy$$"
   ]
  },
  {
   "cell_type": "code",
   "execution_count": 79,
   "id": "ed466d29-0278-44a6-995d-f2fb11e2c56b",
   "metadata": {},
   "outputs": [
    {
     "name": "stdout",
     "output_type": "stream",
     "text": [
      "list1: []\n",
      "list2: [1, 2, 3, 4]\n"
     ]
    }
   ],
   "source": [
    "list1=[1,2,3,4]\n",
    "list2=list1.copy()\n",
    "list2\n",
    "list1.clear()\n",
    "print('list1:',list1)\n",
    "print('list2:',list2)"
   ]
  },
  {
   "cell_type": "markdown",
   "id": "c459f35a-8a25-46b8-a134-c6940fa5c65a",
   "metadata": {},
   "source": [
    "$$ append $$"
   ]
  },
  {
   "cell_type": "code",
   "execution_count": 84,
   "id": "d15e202b-6275-4bd1-bb47-b2d5aad83bb8",
   "metadata": {},
   "outputs": [
    {
     "data": {
      "text/plain": [
       "[100, 200, 300]"
      ]
     },
     "execution_count": 84,
     "metadata": {},
     "output_type": "execute_result"
    }
   ],
   "source": [
    "# add(somthing) to the end \n",
    "list1 = [100,200]\n",
    "# need output like that [100,200,300] that means append 300\n",
    "list1.append(300)\n",
    "list1"
   ]
  },
  {
   "cell_type": "code",
   "execution_count": 86,
   "id": "81e49c18-51a5-4ee8-b246-99511d662dcc",
   "metadata": {},
   "outputs": [
    {
     "data": {
      "text/plain": [
       "[100, 200, 300]"
      ]
     },
     "execution_count": 86,
     "metadata": {},
     "output_type": "execute_result"
    }
   ],
   "source": [
    "# we cant add two element at a time\n",
    "list1 = []\n",
    "list1.append(100)\n",
    "list1.append(200)\n",
    "list1.append(300)\n",
    "list1"
   ]
  },
  {
   "cell_type": "code",
   "execution_count": 88,
   "id": "28acb876-84dc-4695-b0ef-15b064c5be99",
   "metadata": {},
   "outputs": [
    {
     "name": "stdout",
     "output_type": "stream",
     "text": [
      "[1, 4, 9, 16, 25]\n"
     ]
    }
   ],
   "source": [
    "list1=[1,2,3,4,5]  # old list\n",
    "output = []\n",
    "for i in list1:\n",
    "    output.append(i*i)\n",
    "print(output)\n"
   ]
  },
  {
   "cell_type": "code",
   "execution_count": 102,
   "id": "1c6c6fc5-35de-40a1-8c9f-4bc57dfe5560",
   "metadata": {},
   "outputs": [
    {
     "name": "stdout",
     "output_type": "stream",
     "text": [
      "['Hyd', 'Bengaluru', 'Delhi']\n"
     ]
    }
   ],
   "source": [
    "list2 =['hyd','bengaluru','delhi']\n",
    "# output should like that ['Hyd','Bengaluru','Delhi']\n",
    "output = []\n",
    "for i in list2:\n",
    "    # cap = i.capitalize()\n",
    "    output.append(i.capitalize())\n",
    "print(output)"
   ]
  },
  {
   "cell_type": "code",
   "execution_count": 120,
   "id": "7832fc15-f334-4410-b43a-45672137e124",
   "metadata": {},
   "outputs": [
    {
     "name": "stdout",
     "output_type": "stream",
     "text": [
      "['h#d', 'beng#laure']\n"
     ]
    }
   ],
   "source": [
    "list3 = ['h#d','beng#laure','delhi']\n",
    "output =[]\n",
    "for i in list3:\n",
    "    if '#' in i:\n",
    "        output.append(i)\n",
    "print(output)"
   ]
  },
  {
   "cell_type": "markdown",
   "id": "6551cd12-62a7-412e-a621-30e4ef725fef",
   "metadata": {},
   "source": [
    "$$ List-comprehension $$"
   ]
  },
  {
   "cell_type": "code",
   "execution_count": 107,
   "id": "2d616c9b-6689-496d-8235-28398893130a",
   "metadata": {},
   "outputs": [
    {
     "name": "stdout",
     "output_type": "stream",
     "text": [
      "['Hyd', 'Bengaluru', 'Delhi']\n"
     ]
    }
   ],
   "source": [
    "# Syntax:- [<output> <loop/condition>]\n",
    "list2 =['hyd','bengaluru','delhi']\n",
    "# output should like that ['Hyd','Bengaluru','Delhi']\n",
    "\n",
    "output=[i.capitalize() for i in list2]\n",
    "print(output)"
   ]
  },
  {
   "cell_type": "code",
   "execution_count": 117,
   "id": "15a2b7e8-a796-48ea-ad78-4e513a28969d",
   "metadata": {},
   "outputs": [
    {
     "name": "stdout",
     "output_type": "stream",
     "text": [
      "[1, 2, 3, 4, 5, 6, 7, 8, 9, 10, 11, 12, 13, 14, 15, 16, 17, 18, 19, 20]\n",
      "[1, 2, 3, 4, 5, 6, 7, 8, 9, 10, 11, 12, 13, 14, 15, 16, 17, 18, 19, 20]\n"
     ]
    }
   ],
   "source": [
    "output = []\n",
    "for i in range(1,21):\n",
    "    output.append(i)\n",
    "print(output)\n",
    "\n",
    "# Now use list-comprehension\n",
    "output1 = []\n",
    "print([i for i in range(1,21)])\n"
   ]
  },
  {
   "cell_type": "code",
   "execution_count": 130,
   "id": "554c8f4a-48c5-4c2f-b3bc-41dd082d3d3b",
   "metadata": {},
   "outputs": [
    {
     "name": "stdout",
     "output_type": "stream",
     "text": [
      "['h#d', 'beng#laure']\n",
      "['h#d', 'beng#laure']\n"
     ]
    }
   ],
   "source": [
    "list3 = ['h#d','beng#laure','delhi']\n",
    "output =[]\n",
    "for i in list3:\n",
    "    if '#' in i:\n",
    "        output.append(i)\n",
    "print(output)\n",
    "\n",
    "# above code convert into list-comprehension\n",
    "\n",
    "output1 = [i for i in list3 if '#' in i]\n",
    "print(output1)"
   ]
  },
  {
   "cell_type": "code",
   "execution_count": 132,
   "id": "2c8c4a61-fc54-4cc7-b52b-476bb8848e4e",
   "metadata": {},
   "outputs": [
    {
     "name": "stdout",
     "output_type": "stream",
     "text": [
      "['ac', 'a']\n"
     ]
    }
   ],
   "source": [
    "list4 = ['abcd','abc','ac','a']\n",
    "output = [] \n",
    "for i in list4:\n",
    "    if len(i) < 3:\n",
    "        output.append(i)\n",
    "print(output)"
   ]
  },
  {
   "cell_type": "code",
   "execution_count": 154,
   "id": "3a2b42df-3fbe-489f-99f6-41067a2d813f",
   "metadata": {},
   "outputs": [
    {
     "name": "stdout",
     "output_type": "stream",
     "text": [
      "['odd:1', 'even:2', 'odd:3', 'even:4', 'odd:5', 'even:6', 'odd:7', 'even:8', 'odd:9']\n",
      "['odd:1', 'even:2', 'odd:3', 'even:4', 'odd:5', 'even:6', 'odd:7', 'even:8', 'odd:9']\n"
     ]
    }
   ],
   "source": [
    "list1 = [1,2,3,4,5,6,7,8,9]\n",
    "output=[]\n",
    "for i in list1:\n",
    "    if i%2==0:\n",
    "        output.append('even:{}'.format(i))\n",
    "    else:\n",
    "        output.append('odd:{}'.format(i))\n",
    "print(output)\n",
    "\n",
    "# use if else in list-comprehension\n",
    "# syntax:- [<if_output> <if_condition> <else> <else_output> <for_loop>]\n",
    "print(['even:{}'.format(i) if i%2==0 else 'odd:{}'.format(i) for i in list1])\n"
   ]
  },
  {
   "cell_type": "markdown",
   "id": "6581bc95-1534-4639-b710-97699f855530",
   "metadata": {},
   "source": [
    "$$ Count $$"
   ]
  },
  {
   "cell_type": "code",
   "execution_count": 158,
   "id": "09ab1353-611a-45b1-9a2d-e5d99a010715",
   "metadata": {},
   "outputs": [
    {
     "data": {
      "text/plain": [
       "3"
      ]
     },
     "execution_count": 158,
     "metadata": {},
     "output_type": "execute_result"
    }
   ],
   "source": [
    "list1 = [1,2,3,4,'A','B','B','B','C']\n",
    "list1.count('B')"
   ]
  },
  {
   "cell_type": "code",
   "execution_count": 164,
   "id": "0c2af223-5e59-424d-b0f8-4a8751d3ef56",
   "metadata": {},
   "outputs": [
    {
     "name": "stdout",
     "output_type": "stream",
     "text": [
      "3\n"
     ]
    }
   ],
   "source": [
    "count = 0\n",
    "for i in list1:\n",
    "    if i == 'B':\n",
    "        count+=1\n",
    "print(count)"
   ]
  },
  {
   "cell_type": "markdown",
   "id": "aa54afed-06e0-4b84-94c2-4ff782679be8",
   "metadata": {},
   "source": [
    "$$ Extend $$"
   ]
  },
  {
   "cell_type": "code",
   "execution_count": 170,
   "id": "9f5d6f4f-0b63-42c3-bd7c-6876e5b5d167",
   "metadata": {},
   "outputs": [
    {
     "data": {
      "text/plain": [
       "['A', 'B', 'C', 1, 2, 3]"
      ]
     },
     "execution_count": 170,
     "metadata": {},
     "output_type": "execute_result"
    }
   ],
   "source": [
    "list1 = ['A','B','C']\n",
    "list2 = [1,2,3]\n",
    "list1.extend(list2)\n",
    "list1\n",
    "# here the list1 will be updated with list2 value"
   ]
  },
  {
   "cell_type": "markdown",
   "id": "c187d5d3-9bac-4be9-958e-173bf4973b9b",
   "metadata": {},
   "source": [
    "$$ difference - between - append -vs- extend -vs- concat $$"
   ]
  },
  {
   "cell_type": "code",
   "execution_count": null,
   "id": "6fe0ec13-b1f1-465c-a011-a80a246e92b2",
   "metadata": {},
   "outputs": [],
   "source": []
  },
  {
   "cell_type": "markdown",
   "id": "78a21e6d-8097-4556-adbc-75179e991496",
   "metadata": {},
   "source": [
    "$$ zip $$"
   ]
  },
  {
   "cell_type": "code",
   "execution_count": 187,
   "id": "4f936723-29b5-4e0d-b0a7-f7839edeaac6",
   "metadata": {},
   "outputs": [
    {
     "name": "stdout",
     "output_type": "stream",
     "text": [
      "Ram age is 25\n",
      "Robort age is 30\n",
      "Raheem age is 35\n"
     ]
    }
   ],
   "source": [
    "list1 = ['Ram','Robort','Raheem']\n",
    "list2 = [25,30,35]\n",
    "for i,j in zip(list1,list2):\n",
    "        print('{} age is {}'.format(i,j))"
   ]
  },
  {
   "cell_type": "code",
   "execution_count": 189,
   "id": "b63a5b61-a459-434f-876e-3fa74d98c214",
   "metadata": {},
   "outputs": [
    {
     "name": "stdout",
     "output_type": "stream",
     "text": [
      "Ram age is 25\n",
      "Robort age is 30\n",
      "Raheem age is 35\n"
     ]
    }
   ],
   "source": [
    "for i in range(3):\n",
    "    print('{} age is {}'.format(list1[i],list2[i]))"
   ]
  },
  {
   "cell_type": "code",
   "execution_count": 197,
   "id": "50c029ef-25f8-45a1-bea1-14972e3b3820",
   "metadata": {},
   "outputs": [
    {
     "name": "stdout",
     "output_type": "stream",
     "text": [
      "[125, 230, 335]\n",
      "[125, 230, 335]\n"
     ]
    }
   ],
   "source": [
    "list1 = [100,200,300]\n",
    "list2 = [25,30,35]\n",
    "output = []\n",
    "output = []\n",
    "for i,j in zip(list1,list2):\n",
    "    output.append(i+j)\n",
    "print(output)\n",
    "\n",
    "output2 = [i+j for i,j in zip(list1,list2)]\n",
    "print(output2)"
   ]
  },
  {
   "cell_type": "code",
   "execution_count": null,
   "id": "c0e4972d-e556-4c46-8368-d7f8b1db0bb4",
   "metadata": {},
   "outputs": [],
   "source": []
  }
 ],
 "metadata": {
  "kernelspec": {
   "display_name": "Python 3 (ipykernel)",
   "language": "python",
   "name": "python3"
  },
  "language_info": {
   "codemirror_mode": {
    "name": "ipython",
    "version": 3
   },
   "file_extension": ".py",
   "mimetype": "text/x-python",
   "name": "python",
   "nbconvert_exporter": "python",
   "pygments_lexer": "ipython3",
   "version": "3.12.4"
  }
 },
 "nbformat": 4,
 "nbformat_minor": 5
}
