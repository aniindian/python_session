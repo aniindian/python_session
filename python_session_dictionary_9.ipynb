{
 "cells": [
  {
   "cell_type": "markdown",
   "id": "67596955-73fa-477c-b7e7-88430ec263e7",
   "metadata": {},
   "source": [
    "### Dictionary ###"
   ]
  },
  {
   "cell_type": "code",
   "execution_count": null,
   "id": "869a00de-c4d7-4f4f-ba82-19a68dfc4bba",
   "metadata": {},
   "outputs": [],
   "source": [
    "# d1 = {key:value}"
   ]
  },
  {
   "cell_type": "code",
   "execution_count": 5,
   "id": "3536f43b-d539-47ae-99fe-984e73872f39",
   "metadata": {},
   "outputs": [
    {
     "data": {
      "text/plain": [
       "{123: 'Aniket', 124: 'RaviRanjan'}"
      ]
     },
     "execution_count": 5,
     "metadata": {},
     "output_type": "execute_result"
    }
   ],
   "source": [
    "d1 = {123:'Aniket',\n",
    "      124:'RaviRanjan'}\n",
    "d1"
   ]
  },
  {
   "cell_type": "code",
   "execution_count": 9,
   "id": "b2a86c62-b3d7-43c0-9ca8-44dc234aa626",
   "metadata": {},
   "outputs": [
    {
     "data": {
      "text/plain": [
       "{123: 'Mango', 'Apple': 124, 125.4: 'Ratio'}"
      ]
     },
     "execution_count": 9,
     "metadata": {},
     "output_type": "execute_result"
    }
   ],
   "source": [
    "# we can take different data type\n",
    "\n",
    "d2 = {123:\"Mango\",\n",
    "     'Apple':124,\n",
    "     125.4:\"Ratio\"}\n",
    "d2"
   ]
  },
  {
   "cell_type": "code",
   "execution_count": 11,
   "id": "73ff0a03-f199-490d-beec-9238bb0b65c9",
   "metadata": {},
   "outputs": [
    {
     "ename": "TypeError",
     "evalue": "unhashable type: 'list'",
     "output_type": "error",
     "traceback": [
      "\u001b[1;31m---------------------------------------------------------------------------\u001b[0m",
      "\u001b[1;31mTypeError\u001b[0m                                 Traceback (most recent call last)",
      "Cell \u001b[1;32mIn[11], line 2\u001b[0m\n\u001b[0;32m      1\u001b[0m \u001b[38;5;66;03m# If we take list on the position of key then\u001b[39;00m\n\u001b[1;32m----> 2\u001b[0m d3 \u001b[38;5;241m=\u001b[39m {[\u001b[38;5;241m1\u001b[39m,\u001b[38;5;241m2\u001b[39m,\u001b[38;5;241m3\u001b[39m]:\u001b[38;5;124m\"\u001b[39m\u001b[38;5;124mItem_number\u001b[39m\u001b[38;5;124m\"\u001b[39m}\n\u001b[0;32m      3\u001b[0m d3\n",
      "\u001b[1;31mTypeError\u001b[0m: unhashable type: 'list'"
     ]
    }
   ],
   "source": [
    "# If we take list on the position of key then\n",
    "d3 = {[1,2,3]:\"Item_number\"}\n",
    "d3"
   ]
  },
  {
   "cell_type": "code",
   "execution_count": 13,
   "id": "bed3770e-81f7-4012-9fd1-a7732ed02805",
   "metadata": {},
   "outputs": [
    {
     "ename": "TypeError",
     "evalue": "unhashable type: 'dict'",
     "output_type": "error",
     "traceback": [
      "\u001b[1;31m---------------------------------------------------------------------------\u001b[0m",
      "\u001b[1;31mTypeError\u001b[0m                                 Traceback (most recent call last)",
      "Cell \u001b[1;32mIn[13], line 2\u001b[0m\n\u001b[0;32m      1\u001b[0m \u001b[38;5;66;03m# If we take dictionary on the position of key then\u001b[39;00m\n\u001b[1;32m----> 2\u001b[0m d4 \u001b[38;5;241m=\u001b[39m {{\u001b[38;5;124m'\u001b[39m\u001b[38;5;124mfruit\u001b[39m\u001b[38;5;124m'\u001b[39m:\u001b[38;5;124m'\u001b[39m\u001b[38;5;124mApple\u001b[39m\u001b[38;5;124m'\u001b[39m}:\u001b[38;5;124m\"\u001b[39m\u001b[38;5;124mItem_number\u001b[39m\u001b[38;5;124m\"\u001b[39m}\n\u001b[0;32m      3\u001b[0m d4\n",
      "\u001b[1;31mTypeError\u001b[0m: unhashable type: 'dict'"
     ]
    }
   ],
   "source": [
    "# If we take dictionary on the position of key then\n",
    "d4 = {{'fruit':'Apple'}:\"Item_number\"}\n",
    "d4"
   ]
  },
  {
   "cell_type": "code",
   "execution_count": 15,
   "id": "93491f13-ddff-4edd-9039-80a962ade377",
   "metadata": {},
   "outputs": [
    {
     "data": {
      "text/plain": [
       "{'A': 125, 'B': 124}"
      ]
     },
     "execution_count": 15,
     "metadata": {},
     "output_type": "execute_result"
    }
   ],
   "source": [
    "d5 = {'A':123,'B':124,'A':125}\n",
    "d5"
   ]
  },
  {
   "cell_type": "markdown",
   "id": "3161c887-f34c-4ce1-a0e3-0ba518c70315",
   "metadata": {},
   "source": [
    " $$in$$"
   ]
  },
  {
   "cell_type": "code",
   "execution_count": 18,
   "id": "e0f7ecdb-c360-40de-b182-de38f309d691",
   "metadata": {},
   "outputs": [
    {
     "name": "stdout",
     "output_type": "stream",
     "text": [
      "A\n",
      "B\n",
      "c\n"
     ]
    }
   ],
   "source": [
    "d6 = {'A':12,\n",
    "      'B':13,\n",
    "      'c': 14\n",
    "     }\n",
    "for i in d6:\n",
    "    print(i)"
   ]
  },
  {
   "cell_type": "code",
   "execution_count": 22,
   "id": "823dd3b3-686a-47be-a8b4-dbb81c8e5d5b",
   "metadata": {},
   "outputs": [
    {
     "data": {
      "text/plain": [
       "{'fruit': 'Apple'}"
      ]
     },
     "execution_count": 22,
     "metadata": {},
     "output_type": "execute_result"
    }
   ],
   "source": [
    "# update dictionary or add\n",
    "d1= {}\n",
    "d1['fruit']='Apple'\n",
    "d1"
   ]
  },
  {
   "cell_type": "code",
   "execution_count": 26,
   "id": "c3655e67-f18f-4c71-b257-25cf08cc897c",
   "metadata": {},
   "outputs": [
    {
     "name": "stdout",
     "output_type": "stream",
     "text": [
      "{'Ram': 25, 'Raheem': 30, 'Robort': 35}\n"
     ]
    }
   ],
   "source": [
    "d1=['Ram','Raheem','Robort']\n",
    "d2 = [25,30,35]\n",
    "dic = {}\n",
    "for i,j in zip(d1,d2):\n",
    "    dic[i]=j\n",
    "print(dic)"
   ]
  },
  {
   "cell_type": "code",
   "execution_count": 38,
   "id": "6d958057-2ceb-47cc-a755-917ba5ff8474",
   "metadata": {},
   "outputs": [
    {
     "data": {
      "text/plain": [
       "{'Ram': 25, 'Raheem': 30, 'Robort': 35}"
      ]
     },
     "execution_count": 38,
     "metadata": {},
     "output_type": "execute_result"
    }
   ],
   "source": [
    "dict2 = {}\n",
    "for key in range(len(d1)):\n",
    "    dic[d1[key]]=d2[key]  \n",
    "dic\n",
    "\n",
    "dict2={d1[key]:d2[key] for key in range(len(d1))}   # dictionary comprehension\n",
    "dict2"
   ]
  },
  {
   "cell_type": "code",
   "execution_count": 62,
   "id": "f24b7600-4e68-409f-ae70-a06fa6f653e7",
   "metadata": {},
   "outputs": [
    {
     "data": {
      "text/plain": [
       "{'even': [20, 22, 19, 23, 20], 'odd': [20, 22, 19, 23, 20]}"
      ]
     },
     "execution_count": 62,
     "metadata": {},
     "output_type": "execute_result"
    }
   ],
   "source": [
    "import random\n",
    "dict1 = {} # empty dictionary\n",
    "list1=[]   # empty list\n",
    "list2=[]   # empty list\n",
    "for i in range(5):\n",
    "    num = random.randint(19,25)\n",
    "    list1.append(num)          # update and add element \n",
    "    list2.append(num)          # update and add element \n",
    "    if num%2==0:\n",
    "        dict1[\"even\"]=list1    # updating or adding in dictionary\n",
    "    else:\n",
    "        dict1[\"odd\"]=list2     # updating or adding in dictionary\n",
    "dict1"
   ]
  },
  {
   "cell_type": "code",
   "execution_count": 58,
   "id": "baffd5c4-669b-40b5-9531-b78e312965db",
   "metadata": {},
   "outputs": [
    {
     "data": {
      "text/plain": [
       "[19, 12, 14, 16, 12]"
      ]
     },
     "execution_count": 58,
     "metadata": {},
     "output_type": "execute_result"
    }
   ],
   "source": [
    "import random\n",
    "list1=[]\n",
    "for i in range(5):\n",
    "    num = random.randint(10,20)\n",
    "    list1.append(num)\n",
    "list1"
   ]
  },
  {
   "cell_type": "code",
   "execution_count": 5,
   "id": "3f1e4cbf-32bb-4ab9-b87a-67b1718ccba3",
   "metadata": {},
   "outputs": [
    {
     "data": {
      "text/plain": [
       "['__class__',\n",
       " '__class_getitem__',\n",
       " '__contains__',\n",
       " '__delattr__',\n",
       " '__delitem__',\n",
       " '__dir__',\n",
       " '__doc__',\n",
       " '__eq__',\n",
       " '__format__',\n",
       " '__ge__',\n",
       " '__getattribute__',\n",
       " '__getitem__',\n",
       " '__getstate__',\n",
       " '__gt__',\n",
       " '__hash__',\n",
       " '__init__',\n",
       " '__init_subclass__',\n",
       " '__ior__',\n",
       " '__iter__',\n",
       " '__le__',\n",
       " '__len__',\n",
       " '__lt__',\n",
       " '__ne__',\n",
       " '__new__',\n",
       " '__or__',\n",
       " '__reduce__',\n",
       " '__reduce_ex__',\n",
       " '__repr__',\n",
       " '__reversed__',\n",
       " '__ror__',\n",
       " '__setattr__',\n",
       " '__setitem__',\n",
       " '__sizeof__',\n",
       " '__str__',\n",
       " '__subclasshook__',\n",
       " 'clear',\n",
       " 'copy',\n",
       " 'fromkeys',\n",
       " 'get',\n",
       " 'items',\n",
       " 'keys',\n",
       " 'pop',\n",
       " 'popitem',\n",
       " 'setdefault',\n",
       " 'update',\n",
       " 'values']"
      ]
     },
     "execution_count": 5,
     "metadata": {},
     "output_type": "execute_result"
    }
   ],
   "source": [
    "dir({})"
   ]
  },
  {
   "cell_type": "markdown",
   "id": "4391ce96-40ea-4409-83db-991c15d9eced",
   "metadata": {},
   "source": [
    "$$item-keys-values$$"
   ]
  },
  {
   "cell_type": "code",
   "execution_count": 8,
   "id": "648b73a4-5e96-44fb-a77a-ad6890b53ec7",
   "metadata": {},
   "outputs": [],
   "source": [
    "d2 = {123:\"Mango\",\n",
    "     'Apple':124,\n",
    "     125.4:\"Ratio\"}"
   ]
  },
  {
   "cell_type": "code",
   "execution_count": 250,
   "id": "29c999b0-4dfa-4e53-9bf7-aeb1b27dc7d2",
   "metadata": {},
   "outputs": [
    {
     "data": {
      "text/plain": [
       "dict_items([('a', 50), ('b', 100), ('c', 200)])"
      ]
     },
     "execution_count": 250,
     "metadata": {},
     "output_type": "execute_result"
    }
   ],
   "source": [
    "# items\n",
    "d2.items()"
   ]
  },
  {
   "cell_type": "code",
   "execution_count": 18,
   "id": "35d5be2c-2aa8-4e6e-8de6-4b0d86e0c112",
   "metadata": {},
   "outputs": [
    {
     "data": {
      "text/plain": [
       "dict_items"
      ]
     },
     "execution_count": 18,
     "metadata": {},
     "output_type": "execute_result"
    }
   ],
   "source": [
    "type(d2.items())"
   ]
  },
  {
   "cell_type": "code",
   "execution_count": 12,
   "id": "72bcc796-26d4-4312-9848-4be13b14f245",
   "metadata": {},
   "outputs": [
    {
     "data": {
      "text/plain": [
       "dict_keys([123, 'Apple', 125.4])"
      ]
     },
     "execution_count": 12,
     "metadata": {},
     "output_type": "execute_result"
    }
   ],
   "source": [
    "# keys\n",
    "d2.keys()"
   ]
  },
  {
   "cell_type": "code",
   "execution_count": 20,
   "id": "af0bdbbc-ce47-48e9-b9e7-89da31250fe0",
   "metadata": {},
   "outputs": [
    {
     "data": {
      "text/plain": [
       "dict_keys"
      ]
     },
     "execution_count": 20,
     "metadata": {},
     "output_type": "execute_result"
    }
   ],
   "source": [
    "type(d2.keys())"
   ]
  },
  {
   "cell_type": "code",
   "execution_count": 16,
   "id": "c992afd9-f317-4f7c-9252-2ca47b7ffac4",
   "metadata": {},
   "outputs": [
    {
     "data": {
      "text/plain": [
       "dict_values(['Mango', 124, 'Ratio'])"
      ]
     },
     "execution_count": 16,
     "metadata": {},
     "output_type": "execute_result"
    }
   ],
   "source": [
    "# values\n",
    "d2.values()"
   ]
  },
  {
   "cell_type": "code",
   "execution_count": 22,
   "id": "1c923d26-25cf-43a6-8523-887c486902ff",
   "metadata": {},
   "outputs": [
    {
     "data": {
      "text/plain": [
       "dict_values"
      ]
     },
     "execution_count": 22,
     "metadata": {},
     "output_type": "execute_result"
    }
   ],
   "source": [
    "type(d2.values())"
   ]
  },
  {
   "cell_type": "code",
   "execution_count": 24,
   "id": "eee6b101-78b5-4046-865c-c074b240039d",
   "metadata": {},
   "outputs": [
    {
     "data": {
      "text/plain": [
       "['Mango', 124, 'Ratio']"
      ]
     },
     "execution_count": 24,
     "metadata": {},
     "output_type": "execute_result"
    }
   ],
   "source": [
    "# values convert into list \n",
    "list(d2.values())"
   ]
  },
  {
   "cell_type": "code",
   "execution_count": 26,
   "id": "48388f4a-cb28-447e-a9e8-ccc8c8f226df",
   "metadata": {},
   "outputs": [
    {
     "data": {
      "text/plain": [
       "[123, 'Apple', 125.4]"
      ]
     },
     "execution_count": 26,
     "metadata": {},
     "output_type": "execute_result"
    }
   ],
   "source": [
    "# keys convert into list \n",
    "list(d2.keys())"
   ]
  },
  {
   "cell_type": "code",
   "execution_count": 28,
   "id": "51b27204-285e-4074-9800-f63c26b6bb54",
   "metadata": {},
   "outputs": [
    {
     "data": {
      "text/plain": [
       "[(123, 'Mango'), ('Apple', 124), (125.4, 'Ratio')]"
      ]
     },
     "execution_count": 28,
     "metadata": {},
     "output_type": "execute_result"
    }
   ],
   "source": [
    "# items convert into list \n",
    "list(d2.items())"
   ]
  },
  {
   "cell_type": "code",
   "execution_count": 34,
   "id": "aae3904b-d4bf-4f68-9e5a-6ff55900e907",
   "metadata": {},
   "outputs": [],
   "source": [
    "d1={'Ram':25,\n",
    "  'Raheem':30,\n",
    "  'Robert':35}"
   ]
  },
  {
   "cell_type": "code",
   "execution_count": 38,
   "id": "afe2c0c2-406d-4ee8-8732-286b36934197",
   "metadata": {},
   "outputs": [
    {
     "data": {
      "text/plain": [
       "(['Ram', 'Raheem', 'Robert'], [25, 30, 35])"
      ]
     },
     "execution_count": 38,
     "metadata": {},
     "output_type": "execute_result"
    }
   ],
   "source": [
    "# key and value convert into list\n",
    "key=list(d1.keys())\n",
    "value = list(d1.values())\n",
    "key,value"
   ]
  },
  {
   "cell_type": "code",
   "execution_count": 60,
   "id": "0ade0945-67e4-4d8b-901f-a72410f0d9ce",
   "metadata": {},
   "outputs": [
    {
     "name": "stdout",
     "output_type": "stream",
     "text": [
      "{'Ram': 25, 'Raheem': 30, 'Robert': 35}\n",
      "{'Ram': 25, 'Raheem': 30, 'Robert': 35}\n",
      "{'Ram': 25, 'Raheem': 30, 'Robert': 35}\n"
     ]
    }
   ],
   "source": [
    "# now list converting into dict\n",
    "# first way\n",
    "dict = {}\n",
    "list = []\n",
    "for i,j in zip(key,value):\n",
    "    dict[i]=j\n",
    "print(dict)\n",
    "\n",
    "# second way\n",
    "dict1 = {}\n",
    "dict1={i:j for i,j in zip(key,value)}\n",
    "print(dict1)\n",
    "\n",
    "# third way \n",
    "dict2={}\n",
    "for i in range(len(key)):\n",
    "    dict2[key[i]] = value[i]\n",
    "print(dict2)"
   ]
  },
  {
   "cell_type": "code",
   "execution_count": null,
   "id": "9df00f9a-6a86-4947-93cd-4cb010a56d28",
   "metadata": {},
   "outputs": [],
   "source": []
  },
  {
   "cell_type": "code",
   "execution_count": 126,
   "id": "67aa2e45-7e2f-4f4d-bf70-82df4b223803",
   "metadata": {},
   "outputs": [],
   "source": [
    "# input \n",
    "s1 = 'Virat.kohli@blr.com, Rohit.sharma@mumbai.com, Kl.rahul@lucknow.com'\n",
    "\n",
    "# output should be\n",
    "# {'first_name':['Virat','Rohit','Kl'],\n",
    "#  'second_name':['kohli','sharma','Rahul'],\n",
    "#  'company':['blr','mumbai','lucknow']}"
   ]
  },
  {
   "cell_type": "code",
   "execution_count": 130,
   "id": "58f62d4d-cdb0-45a4-8e11-73f64df424e4",
   "metadata": {},
   "outputs": [
    {
     "data": {
      "text/plain": [
       "['Virat.kohli@blr.com', ' Rohit.sharma@mumbai.com', ' Kl.rahul@lucknow.com']"
      ]
     },
     "execution_count": 130,
     "metadata": {},
     "output_type": "execute_result"
    }
   ],
   "source": [
    "s1.split(',')"
   ]
  },
  {
   "cell_type": "code",
   "execution_count": 136,
   "id": "08909669-ff7a-4319-8142-2601a1214747",
   "metadata": {},
   "outputs": [
    {
     "data": {
      "text/plain": [
       "{'first_name': ['Virat', ' Rohit', ' Kl'],\n",
       " 'second_name': ['kohli', 'sharma', 'rahul'],\n",
       " 'company': ['blr', 'mumbai', 'lucknow']}"
      ]
     },
     "execution_count": 136,
     "metadata": {},
     "output_type": "execute_result"
    }
   ],
   "source": [
    "dict1={}\n",
    "l1=s1.split(',')\n",
    "list1=[]\n",
    "list2=[]\n",
    "list3=[]\n",
    "\n",
    "for i in l1:\n",
    "    # print(i)\n",
    "    list1.append(i[:i.find('.')])\n",
    "    list2.append(i[i.find('.')+1:i.find('@')])\n",
    "    list3.append(i[i.find('@')+1:i.find('.',i.find('.')+1)])\n",
    "    \n",
    "dict1['first_name']=list1\n",
    "dict1[\"second_name\"]=list2\n",
    "dict1[\"company\"]=list3\n",
    "\n",
    "dict1 "
   ]
  },
  {
   "cell_type": "code",
   "execution_count": 138,
   "id": "73c30667-708d-4c10-b719-e39415fae7c2",
   "metadata": {},
   "outputs": [],
   "source": [
    "for i in range(len(s1)):\n",
    "    list1.append(s1[:s1.find('.')])\n",
    "    dict1[\"first_name\"]=list1\n",
    "    list2.append(s1[s1.find('.')+1:s1.find('@')])\n",
    "    list3.append(s1[s1.find('@')+1:s1.find('.',2)])\n"
   ]
  },
  {
   "cell_type": "code",
   "execution_count": 140,
   "id": "c865a4f5-0d88-4885-bf25-a08f4082e38c",
   "metadata": {},
   "outputs": [],
   "source": [
    "str = 'can can you canner can you able to can canner'"
   ]
  },
  {
   "cell_type": "code",
   "execution_count": 148,
   "id": "dc23c52f-3069-4950-89ce-9de15d165ca8",
   "metadata": {},
   "outputs": [
    {
     "data": {
      "text/plain": [
       "['can', 'can', 'you', 'canner', 'can', 'you', 'able', 'to', 'can', 'canner']"
      ]
     },
     "execution_count": 148,
     "metadata": {},
     "output_type": "execute_result"
    }
   ],
   "source": [
    "list=str.split()"
   ]
  },
  {
   "cell_type": "code",
   "execution_count": 216,
   "id": "09781d24-fde8-4061-9ec0-d6cef384c5e9",
   "metadata": {},
   "outputs": [
    {
     "data": {
      "text/plain": [
       "{'can': 4, 'you': 2, 'canner': 2, 'able': 1, 'to': 1}"
      ]
     },
     "execution_count": 216,
     "metadata": {},
     "output_type": "execute_result"
    }
   ],
   "source": [
    "list=str.split()\n",
    "dict={}\n",
    "count = 0;\n",
    "for i in range(len(list)):\n",
    "    if list[i] in dict:\n",
    "        i=i+1\n",
    "    else:\n",
    "        for j in range(len(list)):\n",
    "            if list[i] == list[j]:\n",
    "                count+=1\n",
    "        dict[list[i]]=count\n",
    "        count=0\n",
    "dict\n",
    "   "
   ]
  },
  {
   "cell_type": "code",
   "execution_count": 146,
   "id": "e0c1bdf0-360b-4afa-af07-f2f10b6225f9",
   "metadata": {},
   "outputs": [
    {
     "data": {
      "text/plain": [
       "['can', 'can', 'you', 'canner', 'can', 'you', 'able', 'to', 'can', 'canner']"
      ]
     },
     "execution_count": 146,
     "metadata": {},
     "output_type": "execute_result"
    }
   ],
   "source": [
    "str.split()"
   ]
  },
  {
   "cell_type": "code",
   "execution_count": 218,
   "id": "c4ea54f4-f033-4701-b155-b62ef4bb7140",
   "metadata": {},
   "outputs": [
    {
     "data": {
      "text/plain": [
       "{'i': 2, 'j': 2, 'k': 2, 'l': 2, 'p': 2, 'x': 1, 'y': 1}"
      ]
     },
     "execution_count": 218,
     "metadata": {},
     "output_type": "execute_result"
    }
   ],
   "source": [
    "str = 'i j i j k l p x k l p y'\n",
    "list=str.split()\n",
    "dict={}\n",
    "count = 0;\n",
    "for i in range(len(list)):\n",
    "    if list[i] in dict:\n",
    "        i=i+1\n",
    "    else:\n",
    "        for j in range(len(list)):\n",
    "            if list[i] == list[j]:\n",
    "                count+=1\n",
    "        dict[list[i]]=count\n",
    "        count=0\n",
    "dict"
   ]
  },
  {
   "cell_type": "code",
   "execution_count": 272,
   "id": "50ae292c-1b22-4278-bfbc-bdede2ea444a",
   "metadata": {},
   "outputs": [
    {
     "data": {
      "text/plain": [
       "{'can': 4, 'you': 2, 'canner': 2, 'able': 1, 'to': 1}"
      ]
     },
     "execution_count": 272,
     "metadata": {},
     "output_type": "execute_result"
    }
   ],
   "source": [
    "str = 'can can you canner can you able to can canner'\n",
    "l1 = str.split()\n",
    "d1={}\n",
    "for i in l1:\n",
    "    d1[i]=l1.count(i)\n",
    "d1"
   ]
  },
  {
   "cell_type": "code",
   "execution_count": 270,
   "id": "d1f7beb2-5395-455a-8618-44fda9192321",
   "metadata": {},
   "outputs": [
    {
     "data": {
      "text/plain": [
       "{'a': 70, 'b': 130, 'c': 240}"
      ]
     },
     "execution_count": 270,
     "metadata": {},
     "output_type": "execute_result"
    }
   ],
   "source": [
    "d1 = {'a':20,'b':30,'c':40}\n",
    "d2 = {'a':50,'b':100,'c':200}\n",
    "dict={}\n",
    "if len(d1)==len(d2):\n",
    "    for i in d1:\n",
    "        dict[i]=d1[i]+d2[i]\n",
    "dict\n"
   ]
  },
  {
   "cell_type": "code",
   "execution_count": null,
   "id": "0413eaf9-2f70-4749-b288-a8d810d8fa24",
   "metadata": {},
   "outputs": [],
   "source": []
  },
  {
   "cell_type": "markdown",
   "id": "691290c4-5503-4ffc-b201-fd43c729d073",
   "metadata": {},
   "source": [
    "$$ copy-clear $$"
   ]
  },
  {
   "cell_type": "code",
   "execution_count": 277,
   "id": "5e7aefe7-52a9-4b50-8509-c9718c4a9a61",
   "metadata": {},
   "outputs": [
    {
     "name": "stdout",
     "output_type": "stream",
     "text": [
      "{'a': 20, 'b': 30, 'c': 40, 'd': 50}\n",
      "{}\n"
     ]
    }
   ],
   "source": [
    "d1 = {'a':20,'b':30,'c':40,'d':50}\n",
    "d2=d1.copy()\n",
    "d1.clear()\n",
    "print(d2)\n",
    "print(d1)"
   ]
  },
  {
   "cell_type": "code",
   "execution_count": null,
   "id": "b4a54ef6-fca6-4f01-a322-f83831f87a2a",
   "metadata": {},
   "outputs": [],
   "source": []
  },
  {
   "cell_type": "markdown",
   "id": "09a03477-cdda-4134-a7ae-b4c8f3cb2273",
   "metadata": {},
   "source": [
    "$$ pop - popitem - del $$"
   ]
  },
  {
   "cell_type": "code",
   "execution_count": 288,
   "id": "4347f410-eaef-4599-b940-cc117404f163",
   "metadata": {},
   "outputs": [
    {
     "name": "stdout",
     "output_type": "stream",
     "text": [
      "20\n"
     ]
    },
    {
     "data": {
      "text/plain": [
       "{'b': 30, 'c': 40, 'd': 50}"
      ]
     },
     "execution_count": 288,
     "metadata": {},
     "output_type": "execute_result"
    }
   ],
   "source": [
    "d1 = {'a':20,'b':30,'c':40,'d':50}\n",
    "d1.pop('a')  "
   ]
  },
  {
   "cell_type": "code",
   "execution_count": 294,
   "id": "f4a9ec53-7e15-40dc-93ee-b7932168cc77",
   "metadata": {},
   "outputs": [
    {
     "data": {
      "text/plain": [
       "{'a': 20, 'b': 30, 'c': 40}"
      ]
     },
     "execution_count": 294,
     "metadata": {},
     "output_type": "execute_result"
    }
   ],
   "source": [
    "d1"
   ]
  },
  {
   "cell_type": "code",
   "execution_count": 290,
   "id": "284f8ace-0c05-4d07-9cc6-402c8820b613",
   "metadata": {},
   "outputs": [
    {
     "data": {
      "text/plain": [
       "('d', 50)"
      ]
     },
     "execution_count": 290,
     "metadata": {},
     "output_type": "execute_result"
    }
   ],
   "source": [
    "d1 = {'a':20,'b':30,'c':40,'d':50}\n",
    "d1.popitem()"
   ]
  },
  {
   "cell_type": "code",
   "execution_count": 292,
   "id": "11408b25-a32e-4e97-9eab-e7b18860521d",
   "metadata": {},
   "outputs": [
    {
     "data": {
      "text/plain": [
       "{'a': 20, 'b': 30, 'c': 40}"
      ]
     },
     "execution_count": 292,
     "metadata": {},
     "output_type": "execute_result"
    }
   ],
   "source": [
    "d1"
   ]
  },
  {
   "cell_type": "code",
   "execution_count": 297,
   "id": "d476c396-55a5-4b1f-a31a-df4d5b0a01a9",
   "metadata": {},
   "outputs": [
    {
     "data": {
      "text/plain": [
       "('c', 40)"
      ]
     },
     "execution_count": 297,
     "metadata": {},
     "output_type": "execute_result"
    }
   ],
   "source": [
    "d1.popitem()"
   ]
  },
  {
   "cell_type": "code",
   "execution_count": 299,
   "id": "3f0f7176-ed79-408a-9add-2c57e1a8f75f",
   "metadata": {},
   "outputs": [
    {
     "data": {
      "text/plain": [
       "{'a': 20, 'b': 30}"
      ]
     },
     "execution_count": 299,
     "metadata": {},
     "output_type": "execute_result"
    }
   ],
   "source": [
    "d1"
   ]
  },
  {
   "cell_type": "code",
   "execution_count": 301,
   "id": "9abee490-4054-48c4-ae10-fc6e80bbd602",
   "metadata": {},
   "outputs": [],
   "source": [
    "# Syntax:- del dict[key]\n",
    "d1 = {'a':20,'b':30,'c':40,'d':50} \n",
    "del d1['b']"
   ]
  },
  {
   "cell_type": "code",
   "execution_count": 303,
   "id": "1c60bcbf-5938-4f62-9d08-2336c7f07757",
   "metadata": {},
   "outputs": [
    {
     "data": {
      "text/plain": [
       "{'a': 20, 'c': 40, 'd': 50}"
      ]
     },
     "execution_count": 303,
     "metadata": {},
     "output_type": "execute_result"
    }
   ],
   "source": [
    "d1"
   ]
  },
  {
   "cell_type": "code",
   "execution_count": null,
   "id": "28244b5e-9f2b-443c-aece-67cc71e83446",
   "metadata": {},
   "outputs": [],
   "source": []
  },
  {
   "cell_type": "markdown",
   "id": "afa4430d-de19-4ff4-95e0-cdb1830f91fd",
   "metadata": {},
   "source": [
    "$$ fromkeys-get$$"
   ]
  },
  {
   "cell_type": "code",
   "execution_count": 4,
   "id": "b455f005-19a5-4c22-ab70-d5adbec8378d",
   "metadata": {},
   "outputs": [
    {
     "data": {
      "text/plain": [
       "40"
      ]
     },
     "execution_count": 4,
     "metadata": {},
     "output_type": "execute_result"
    }
   ],
   "source": [
    "d1 = {'a':20,'b':30,'c':40,'d':50} \n",
    "d1.get('c')"
   ]
  },
  {
   "cell_type": "code",
   "execution_count": 6,
   "id": "0a3abdf0-cbae-40c5-aed1-85609b1d34ce",
   "metadata": {},
   "outputs": [
    {
     "data": {
      "text/plain": [
       "30"
      ]
     },
     "execution_count": 6,
     "metadata": {},
     "output_type": "execute_result"
    }
   ],
   "source": [
    "d1.get('b')"
   ]
  },
  {
   "cell_type": "code",
   "execution_count": 20,
   "id": "ea53fb67-1dc8-41ee-9718-e83713f18a18",
   "metadata": {},
   "outputs": [
    {
     "data": {
      "text/plain": [
       "{'R': None, 'a': None, 'm': None}"
      ]
     },
     "execution_count": 20,
     "metadata": {},
     "output_type": "execute_result"
    }
   ],
   "source": [
    "d1 = {'a':20,'b':30,'c':40,'d':50} \n",
    "\n",
    "d2=d1.fromkeys('Ram')  # we can take {} --> empty dict instead of d1\n",
    "d2"
   ]
  },
  {
   "cell_type": "code",
   "execution_count": 22,
   "id": "d77869b3-c7ce-4d6f-8a50-958f168e116d",
   "metadata": {},
   "outputs": [
    {
     "data": {
      "text/plain": [
       "{'R': 25, 'a': 25, 'm': 25}"
      ]
     },
     "execution_count": 22,
     "metadata": {},
     "output_type": "execute_result"
    }
   ],
   "source": [
    "d2=d1.fromkeys('Ram',25)\n",
    "d2"
   ]
  },
  {
   "cell_type": "code",
   "execution_count": 26,
   "id": "9d717a56-5130-441f-ae06-3a7df9b44680",
   "metadata": {},
   "outputs": [
    {
     "data": {
      "text/plain": [
       "{1: 'odd', 3: 'odd', 5: 'odd'}"
      ]
     },
     "execution_count": 26,
     "metadata": {},
     "output_type": "execute_result"
    }
   ],
   "source": [
    "d2={}.fromkeys([1,3,5],\"odd\")\n",
    "d2"
   ]
  },
  {
   "cell_type": "code",
   "execution_count": null,
   "id": "7052df84-b674-4ae3-a260-f3d56dea8def",
   "metadata": {},
   "outputs": [],
   "source": []
  },
  {
   "cell_type": "markdown",
   "id": "9641193a-fe47-4c09-a1c7-81bdcd25daa3",
   "metadata": {},
   "source": [
    "$set$ $as$ $default$"
   ]
  },
  {
   "cell_type": "code",
   "execution_count": null,
   "id": "90349ec5-f0b5-42cd-90bc-8286330c89c4",
   "metadata": {},
   "outputs": [],
   "source": []
  },
  {
   "cell_type": "code",
   "execution_count": 36,
   "id": "07c7e350-1948-4ea4-8ee3-66205c7b1064",
   "metadata": {},
   "outputs": [
    {
     "data": {
      "text/plain": [
       "{'city': 'delhi'}"
      ]
     },
     "execution_count": 36,
     "metadata": {},
     "output_type": "execute_result"
    }
   ],
   "source": [
    "d1={}\n",
    "d1.setdefault(\"city\",\"delhi\")\n",
    "d1"
   ]
  },
  {
   "cell_type": "code",
   "execution_count": 62,
   "id": "b7d85f4a-2630-4515-aba6-19891a98ae51",
   "metadata": {},
   "outputs": [
    {
     "data": {
      "text/plain": [
       "{'city': ['delhi', 'mumbai', 'Blr'], 'NareshIt': None}"
      ]
     },
     "execution_count": 62,
     "metadata": {},
     "output_type": "execute_result"
    }
   ],
   "source": [
    "d1.setdefault(\"NareshIt\")\n",
    "d1"
   ]
  },
  {
   "cell_type": "code",
   "execution_count": null,
   "id": "99195179-812d-4dbf-ab12-8ed17078505c",
   "metadata": {},
   "outputs": [],
   "source": []
  },
  {
   "cell_type": "code",
   "execution_count": 70,
   "id": "653fdc4d-8fc9-4a30-ab17-d4f1b2961a8e",
   "metadata": {},
   "outputs": [
    {
     "name": "stdout",
     "output_type": "stream",
     "text": [
      "{'city': 'delhi', 'NareshIt': None}\n"
     ]
    }
   ],
   "source": [
    "# Before update \n",
    "print(d1)"
   ]
  },
  {
   "cell_type": "code",
   "execution_count": 72,
   "id": "99923c50-8aba-49a7-a0db-214fa652c9f1",
   "metadata": {},
   "outputs": [
    {
     "data": {
      "text/plain": [
       "{'city': ['delhi', 'mumbai', 'Blr'], 'NareshIt': None}"
      ]
     },
     "execution_count": 72,
     "metadata": {},
     "output_type": "execute_result"
    }
   ],
   "source": [
    "# After update \n",
    "d1[\"city\"]=['delhi','mumbai','Blr']\n",
    "d1"
   ]
  },
  {
   "cell_type": "code",
   "execution_count": null,
   "id": "c2ce62e9-4e98-42f1-81e3-ebfbbf4b8b23",
   "metadata": {},
   "outputs": [],
   "source": []
  },
  {
   "cell_type": "markdown",
   "id": "d17c5357-4613-4669-9287-20fac29810bb",
   "metadata": {},
   "source": [
    "$ update $"
   ]
  },
  {
   "cell_type": "code",
   "execution_count": null,
   "id": "f10d67c0-1902-41c7-b9d7-8a843ee921ac",
   "metadata": {},
   "outputs": [],
   "source": [
    "# it inserts the particular items to the dictionary\n",
    "# It's same like extend in list but dict not allowed duplicate"
   ]
  },
  {
   "cell_type": "code",
   "execution_count": 76,
   "id": "efc3cce2-49b7-4b31-919a-2dfb182dda8c",
   "metadata": {},
   "outputs": [
    {
     "data": {
      "text/plain": [
       "{'a': 20, 'b': 30, 'c': 35, 'd': 50, 'f': 60}"
      ]
     },
     "execution_count": 76,
     "metadata": {},
     "output_type": "execute_result"
    }
   ],
   "source": [
    "d1 = {'a':20,'b':30,'c':40,'d':50} \n",
    "d2 = {'c':35,'f':60}\n",
    "d1.update(d2)\n",
    "d1"
   ]
  },
  {
   "cell_type": "code",
   "execution_count": 80,
   "id": "68b62da5-d2e0-4e07-bc1b-c946634cc5d1",
   "metadata": {},
   "outputs": [
    {
     "data": {
      "text/plain": [
       "{'c': 40, 'f': 60, 'a': 20, 'b': 30, 'd': 50}"
      ]
     },
     "execution_count": 80,
     "metadata": {},
     "output_type": "execute_result"
    }
   ],
   "source": [
    "# If we revrse the podition d1 to d2 \n",
    "d1 = {'a':20,'b':30,'c':40,'d':50} \n",
    "d2 = {'c':35,'f':60}\n",
    "d2.update(d1)\n",
    "d2"
   ]
  },
  {
   "cell_type": "code",
   "execution_count": null,
   "id": "9d10eed6-e1f9-443a-9357-714872e844cb",
   "metadata": {},
   "outputs": [],
   "source": []
  }
 ],
 "metadata": {
  "kernelspec": {
   "display_name": "Python 3 (ipykernel)",
   "language": "python",
   "name": "python3"
  },
  "language_info": {
   "codemirror_mode": {
    "name": "ipython",
    "version": 3
   },
   "file_extension": ".py",
   "mimetype": "text/x-python",
   "name": "python",
   "nbconvert_exporter": "python",
   "pygments_lexer": "ipython3",
   "version": "3.12.4"
  }
 },
 "nbformat": 4,
 "nbformat_minor": 5
}
