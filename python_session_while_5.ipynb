{
 "cells": [
  {
   "cell_type": "markdown",
   "id": "3a25f356-a061-46e6-b9bc-5bfdc20ae311",
   "metadata": {},
   "source": [
    "**While Loop**"
   ]
  },
  {
   "cell_type": "code",
   "execution_count": 14,
   "id": "9ed7972d-9282-4ae1-a209-7a46bf66fa38",
   "metadata": {},
   "outputs": [
    {
     "name": "stdin",
     "output_type": "stream",
     "text": [
      "Enter number 5\n"
     ]
    },
    {
     "name": "stdout",
     "output_type": "stream",
     "text": [
      "Square of 5 is 25\n"
     ]
    },
    {
     "name": "stdin",
     "output_type": "stream",
     "text": [
      "Enter number 6\n"
     ]
    },
    {
     "name": "stdout",
     "output_type": "stream",
     "text": [
      "Square of 6 is 36\n"
     ]
    },
    {
     "name": "stdin",
     "output_type": "stream",
     "text": [
      "Enter number 7\n"
     ]
    },
    {
     "name": "stdout",
     "output_type": "stream",
     "text": [
      "Square of 7 is 49\n"
     ]
    },
    {
     "name": "stdin",
     "output_type": "stream",
     "text": [
      "Enter number 8\n"
     ]
    },
    {
     "name": "stdout",
     "output_type": "stream",
     "text": [
      "Square of 8 is 64\n"
     ]
    },
    {
     "name": "stdin",
     "output_type": "stream",
     "text": [
      "Enter number 9\n"
     ]
    },
    {
     "name": "stdout",
     "output_type": "stream",
     "text": [
      "Square of 9 is 81\n"
     ]
    }
   ],
   "source": [
    "i = 0\n",
    "while i<=4:\n",
    "    num = eval(input(\"Enter number\"))\n",
    "    print(\"Square of {} is {}\".format(num,num*num))\n",
    "    i=i+1\n"
   ]
  },
  {
   "cell_type": "code",
   "execution_count": 25,
   "id": "e25f5fd9-556f-4187-b977-f825a1437bfa",
   "metadata": {},
   "outputs": [
    {
     "name": "stdout",
     "output_type": "stream",
     "text": [
      "Square of 19 is 361\n",
      "Square of 11 is 121\n",
      "Square of 14 is 196\n",
      "Square of 11 is 121\n",
      "Square of 17 is 289\n"
     ]
    }
   ],
   "source": [
    "import random\n",
    "for i in range(5):\n",
    "    rand_num = random.randint(10,20)\n",
    "    print(\"Square of {} is {}\".format(rand_num,rand_num*rand_num))"
   ]
  },
  {
   "cell_type": "code",
   "execution_count": 27,
   "id": "2fcda7f3-96cf-4d1d-a33c-d73720f17123",
   "metadata": {},
   "outputs": [
    {
     "name": "stdout",
     "output_type": "stream",
     "text": [
      "Square of 13 is 169\n",
      "Square of 10 is 100\n",
      "Square of 20 is 400\n",
      "Square of 16 is 256\n",
      "Square of 19 is 361\n"
     ]
    }
   ],
   "source": [
    "import random\n",
    "i=0\n",
    "while i<=4:\n",
    "    rand_num = random.randint(10,20)\n",
    "    print(\"Square of {} is {}\".format(rand_num,rand_num*rand_num))\n",
    "    i=i+1"
   ]
  },
  {
   "cell_type": "code",
   "execution_count": 34,
   "id": "c78ca589-09b4-4936-b5e6-ae8b69190060",
   "metadata": {},
   "outputs": [
    {
     "name": "stdout",
     "output_type": "stream",
     "text": [
      "even\n",
      "odd\n",
      "even\n",
      "odd\n",
      "even\n",
      "odd\n",
      "even\n",
      "odd\n",
      "even\n",
      "odd\n"
     ]
    }
   ],
   "source": [
    "for i in range(10,20):\n",
    "    if i%2==0:\n",
    "        print(\"even\")\n",
    "    else:\n",
    "        print(\"odd\")\n"
   ]
  },
  {
   "cell_type": "code",
   "execution_count": 38,
   "id": "22027572-1bfb-4a83-8a23-b5fc14070405",
   "metadata": {},
   "outputs": [
    {
     "name": "stdout",
     "output_type": "stream",
     "text": [
      "even\n",
      "odd\n",
      "even\n",
      "odd\n",
      "even\n",
      "odd\n",
      "even\n",
      "odd\n",
      "even\n",
      "odd\n",
      "even\n",
      "odd\n",
      "even\n",
      "odd\n",
      "even\n",
      "odd\n",
      "even\n",
      "odd\n",
      "even\n",
      "odd\n",
      "even\n"
     ]
    }
   ],
   "source": [
    "i=0\n",
    "while i<21:\n",
    "    if i%2==0:\n",
    "        print(\"even\")\n",
    "    else:\n",
    "        print(\"odd\")\n",
    "    i=i+1"
   ]
  },
  {
   "cell_type": "code",
   "execution_count": 42,
   "id": "46637062-6d1e-4e54-9add-fe350e878918",
   "metadata": {},
   "outputs": [
    {
     "name": "stdout",
     "output_type": "stream",
     "text": [
      "sum 55\n"
     ]
    }
   ],
   "source": [
    "summ = 0\n",
    "for i in range(1,11):\n",
    "    summ = summ + i;\n",
    "print(\"sum\",summ)"
   ]
  },
  {
   "cell_type": "code",
   "execution_count": 46,
   "id": "2451159e-5af3-46b0-9c62-06e174f537e3",
   "metadata": {},
   "outputs": [
    {
     "name": "stdout",
     "output_type": "stream",
     "text": [
      "sum 55\n"
     ]
    }
   ],
   "source": [
    "i=1\n",
    "summ = 0\n",
    "while i<=10:\n",
    "    summ = summ+i\n",
    "    i=i+1\n",
    "print(\"sum\",summ)"
   ]
  },
  {
   "cell_type": "code",
   "execution_count": 58,
   "id": "05568cb9-ee5a-4dea-9f3d-03a8d4c3f139",
   "metadata": {},
   "outputs": [
    {
     "name": "stdout",
     "output_type": "stream",
     "text": [
      "sum 527\n"
     ]
    }
   ],
   "source": [
    "import random\n",
    "summ = 0\n",
    "for i in range(10):\n",
    "    num = random.randint(1,100)\n",
    "    summ = summ + num\n",
    "print(\"sum\",summ)"
   ]
  },
  {
   "cell_type": "code",
   "execution_count": 56,
   "id": "62114f7c-e95e-49db-bf7f-5d4dabc6f839",
   "metadata": {},
   "outputs": [
    {
     "name": "stdout",
     "output_type": "stream",
     "text": [
      "sum 489\n"
     ]
    }
   ],
   "source": [
    "import random\n",
    "i=1\n",
    "summ=0;\n",
    "while i<=10:\n",
    "        num = random.randint(1,100)\n",
    "        summ = summ + num\n",
    "        i=i+1\n",
    "print(\"sum\",summ)    "
   ]
  },
  {
   "cell_type": "code",
   "execution_count": 62,
   "id": "ae5c5459-9e58-4dd9-ae8d-76733912143e",
   "metadata": {},
   "outputs": [
    {
     "name": "stdout",
     "output_type": "stream",
     "text": [
      "4\n"
     ]
    }
   ],
   "source": [
    "import random\n",
    "count=0\n",
    "for i in range(10):\n",
    "    num = random.randint(10,100)\n",
    "    if num>50:\n",
    "        count=count+1;\n",
    "print(count)"
   ]
  },
  {
   "cell_type": "code",
   "execution_count": 70,
   "id": "40077106-e385-4d9c-99b8-bac934e67975",
   "metadata": {},
   "outputs": [
    {
     "name": "stdout",
     "output_type": "stream",
     "text": [
      "5\n"
     ]
    }
   ],
   "source": [
    "import random\n",
    "i=0\n",
    "count = 0\n",
    "while i<10:\n",
    "    num = random.randint(10,100)\n",
    "    if num>50:\n",
    "        count=count+1;\n",
    "    i=i+1\n",
    "print(count)"
   ]
  },
  {
   "cell_type": "code",
   "execution_count": null,
   "id": "8b0db57f-eaed-400e-8346-dae2fe57c495",
   "metadata": {},
   "outputs": [],
   "source": []
  },
  {
   "cell_type": "code",
   "execution_count": 74,
   "id": "0efb2e13-54ba-493d-a771-da5150405b75",
   "metadata": {},
   "outputs": [
    {
     "name": "stdin",
     "output_type": "stream",
     "text": [
      "Enter number between 1 to 10 5\n"
     ]
    },
    {
     "name": "stdout",
     "output_type": "stream",
     "text": [
      "Sorry! I hope next time for you better luck\n"
     ]
    },
    {
     "name": "stdin",
     "output_type": "stream",
     "text": [
      "Enter number between 1 to 10 6\n"
     ]
    },
    {
     "name": "stdout",
     "output_type": "stream",
     "text": [
      "Sorry! I hope next time for you better luck\n"
     ]
    },
    {
     "name": "stdin",
     "output_type": "stream",
     "text": [
      "Enter number between 1 to 10 2\n"
     ]
    },
    {
     "name": "stdout",
     "output_type": "stream",
     "text": [
      "Sorry! I hope next time for you better luck\n"
     ]
    }
   ],
   "source": [
    "import random \n",
    "i=0\n",
    "while i<3:\n",
    "    rand_num = random.randint(1,10)\n",
    "    num = eval(input(\"Enter number between 1 to 10\"))\n",
    "    if rand_num == num:\n",
    "        print(\"You won\")\n",
    "    else:\n",
    "        print(\"Sorry! I hope next time for you better luck\")\n",
    "    i=i+1\n",
    "    "
   ]
  },
  {
   "cell_type": "code",
   "execution_count": null,
   "id": "705e3b04-cc15-4e7c-abe2-27dce2716212",
   "metadata": {},
   "outputs": [],
   "source": []
  },
  {
   "cell_type": "markdown",
   "id": "08857006-a2e5-4423-9b38-fc09342b9b99",
   "metadata": {},
   "source": [
    "###### Suppose that a player wants to play a game which requires him Rs. 1,000 to start. If the current balance in his account is less than Rs. 1,000 he needs to withdraw the extra money from his e-wallet\n",
    "###### Note that if the sum of money in his courrent account and the amount withdrawn is greater than or equal to Rs. 1,000 then he can start playing the game. However if the sum is less than Rs. 1,000 then the program should keep displaying the user the message \"You still do not have enough money to start playing.\" and keep prompting the user to withdraw money unless it crosses Rs. 1,000. Once ready, i.e. if his current account balance crosses Rs. 1,000, it will display a message \"Now, you are ready to play the game.\" Your program should also display the account balance and the current amount in the e-wallet.\n",
    "\n",
    "###### (consider: initial account balance is Rs. 200 and money in the e-wallet is Rs. 5,000)\n",
    "\n",
    "###### (Do further improvement by checking if the e-wallet balance becomes NIL, etc.) "
   ]
  },
  {
   "cell_type": "code",
   "execution_count": 91,
   "id": "9b1824a6-f13d-4409-9d90-b6611f1ae9eb",
   "metadata": {},
   "outputs": [
    {
     "name": "stdout",
     "output_type": "stream",
     "text": [
      "You have no enough money to start playing.\n",
      "You needs to withdraw the extra money from his e-wallet. If you want please press 'Y' "
     ]
    },
    {
     "name": "stdin",
     "output_type": "stream",
     "text": [
      " y\n",
      "How much amount you want to withdraw: 500\n"
     ]
    },
    {
     "name": "stdout",
     "output_type": "stream",
     "text": [
      "You still do not have enough money to start playing.\n"
     ]
    }
   ],
   "source": [
    "main_balance = 100\n",
    "bool = True\n",
    "for i in range(bool):\n",
    "    if main_balance>=1000:\n",
    "        print(\"You can play! Good luck\")\n",
    "        bool = False\n",
    "    else:\n",
    "        print(\"You have no enough money to start playing.\")\n",
    "        print(\"You needs to withdraw the extra money from his e-wallet. If you want please press 'Y'\",end=' ')\n",
    "        press = input()\n",
    "        if press.lower() == 'y':\n",
    "            amount = eval(input(\"How much amount you want to withdraw:\"))\n",
    "            main_balance = main_balance + amount\n",
    "            if main_balance >= 1000:\n",
    "                print(\"Now, you are ready to play the game. Good luck!\")\n",
    "                bool =False\n",
    "            else:\n",
    "                print(\"You still do not have enough money to start playing.\")\n",
    "                bool = True\n",
    "        else:\n",
    "            print(\"Sorry! See you late\")"
   ]
  },
  {
   "cell_type": "markdown",
   "id": "2b61ab0f-a887-462d-bcfa-2e8384f723d9",
   "metadata": {},
   "source": [
    "**Use fuction to solve above question**"
   ]
  },
  {
   "cell_type": "code",
   "execution_count": 114,
   "id": "cbcc1e7a-c969-46c5-96d7-08f8ecfd8987",
   "metadata": {},
   "outputs": [
    {
     "name": "stdout",
     "output_type": "stream",
     "text": [
      "You have no enough money to start playing.\n",
      "You needs to withdraw the extra money from his e-wallet. If you want please press 'Y' "
     ]
    },
    {
     "name": "stdin",
     "output_type": "stream",
     "text": [
      " y\n",
      "How much amount you want to withdraw: 100\n"
     ]
    },
    {
     "name": "stdout",
     "output_type": "stream",
     "text": [
      "You still do not have enough money to start playing.\n",
      "You need to withdraw more money, If you want press 'y'  "
     ]
    },
    {
     "name": "stdin",
     "output_type": "stream",
     "text": [
      " y\n",
      "How much amount you want to withdraw: 100\n"
     ]
    },
    {
     "name": "stdout",
     "output_type": "stream",
     "text": [
      "You still do not have enough money to start playing.\n",
      "You need to withdraw more money, If you want press 'y'  "
     ]
    },
    {
     "name": "stdin",
     "output_type": "stream",
     "text": [
      " y\n",
      "How much amount you want to withdraw: 500\n"
     ]
    },
    {
     "name": "stdout",
     "output_type": "stream",
     "text": [
      "You still do not have enough money to start playing.\n",
      "You need to withdraw more money, If you want press 'y'  "
     ]
    },
    {
     "name": "stdin",
     "output_type": "stream",
     "text": [
      " y\n",
      "How much amount you want to withdraw: 5000\n"
     ]
    },
    {
     "name": "stdout",
     "output_type": "stream",
     "text": [
      "Now, you are ready to play the game. Good luck!\n"
     ]
    }
   ],
   "source": [
    "\n",
    "main_balance = 0\n",
    "def withdraw():\n",
    "    global amt\n",
    "    global main_balance\n",
    "    amt = eval(input(\"How much amount you want to withdraw:\"))\n",
    "    main_balance = main_balance + amt\n",
    "    check()\n",
    "    \n",
    "def check():\n",
    "    if main_balance >=1000:\n",
    "        print(\"Now, you are ready to play the game. Good luck!\")\n",
    "    else:\n",
    "        print(\"You still do not have enough money to start playing.\")\n",
    "        print(\"You need to withdraw more money, If you want press 'y' \",end=' ')\n",
    "        press1 = input()\n",
    "        if press.lower() == 'y':\n",
    "            withdraw()\n",
    "        else:\n",
    "            print(\"Thank you!\")\n",
    "        \n",
    "def main():\n",
    "    if main_balance >=1000:\n",
    "        print(\"You can play! Good luck\")\n",
    "    else:\n",
    "        print(\"You have no enough money to start playing.\")\n",
    "        print(\"You needs to withdraw the extra money from his e-wallet. If you want please press 'Y'\",end=' ')\n",
    "        press = input()\n",
    "        if press.lower() == 'y':\n",
    "            withdraw()\n",
    "        else:\n",
    "            print(\"Thank you!\")\n",
    "main()"
   ]
  },
  {
   "cell_type": "code",
   "execution_count": null,
   "id": "67eb39b7-7f2f-437d-822e-b9e5dedc9188",
   "metadata": {},
   "outputs": [],
   "source": []
  }
 ],
 "metadata": {
  "kernelspec": {
   "display_name": "Python 3 (ipykernel)",
   "language": "python",
   "name": "python3"
  },
  "language_info": {
   "codemirror_mode": {
    "name": "ipython",
    "version": 3
   },
   "file_extension": ".py",
   "mimetype": "text/x-python",
   "name": "python",
   "nbconvert_exporter": "python",
   "pygments_lexer": "ipython3",
   "version": "3.12.4"
  }
 },
 "nbformat": 4,
 "nbformat_minor": 5
}
